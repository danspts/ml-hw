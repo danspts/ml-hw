{
 "cells": [
  {
   "cell_type": "code",
   "execution_count": 1,
   "metadata": {
    "pycharm": {
     "name": "#%%\n"
    }
   },
   "outputs": [],
   "source": [
    "from sympy.interactive import printing\n",
    "printing.init_printing(use_latex='mathjax')"
   ]
  },
  {
   "cell_type": "markdown",
   "metadata": {
    "nbgrader": {
     "grade": false,
     "grade_id": "cell-35def0d0f4b47a0a",
     "locked": true,
     "schema_version": 1,
     "solution": false
    }
   },
   "source": [
    "# Exercise 1: Linear Regression\n",
    "\n",
    "### This notebook is executed automatically. Failing to meet any of the submission requirements will results in a 25 point fine or your submission not being graded at all. Kindly reminder: the homework assignments grade is 50% of the final grade. \n",
    "\n",
    "### Do not start the exercise until you fully understand the submission guidelines.\n",
    "\n",
    "## Read the following instructions carefully:\n",
    "\n",
    "1. This jupyter notebook contains all the step by step instructions needed for this exercise.\n",
    "1. Submission includes this notebook only with the exercise number and your ID as the filename. For example: `hw1_123456789_987654321.ipynb` if you submitted in pairs and `hw1_123456789.ipynb` if you submitted the exercise alone.\n",
    "1. Write **efficient vectorized** code whenever possible. Some calculations in this exercise take several minutes when implemented efficiently, and might take much longer otherwise. Unnecessary loops will result in point deduction.\n",
    "1. You are responsible for the correctness of your code and should add as many tests as you see fit. Tests will not be graded nor checked.\n",
    "1. Write your functions in this notebook only. **Do not create Python modules and import them**.\n",
    "1. You are allowed to use functions and methods from the [Python Standard Library](https://docs.python.org/3/library/) and [numpy](https://www.numpy.org/devdocs/reference/) only. **Do not import anything else.**\n",
    "1. Your code must run without errors. Make sure your `numpy` version is at least 1.15.4 and that you are using at least python 3.6. Changes of the configuration we provided are at your own risk. Any code that cannot run will not be graded.\n",
    "1. Write your own code. Cheating will not be tolerated.\n",
    "1. Answers to qualitative questions should be written in **markdown** cells (with $\\LaTeX$ support). Answers that will be written in commented code blocks will not be checked.\n",
    "\n",
    "## In this exercise you will perform the following:\n",
    "1. Load a dataset and perform basic data exploration using a powerful data science library called [pandas](https://pandas.pydata.org/pandas-docs/stable/).\n",
    "1. Preprocess the data for linear regression.\n",
    "1. Compute the cost and perform gradient descent in pure numpy in vectorized form.\n",
    "1. Fit a linear regression model using a single feature.\n",
    "1. Visualize your results using matplotlib.\n",
    "1. Perform multivariate linear regression.\n",
    "1. Pick the best features in the dataset.\n",
    "1. Experiment with adaptive learning rates."
   ]
  },
  {
   "cell_type": "markdown",
   "metadata": {},
   "source": [
    "# I have read and understood the instructions: 323081950, 227367455"
   ]
  },
  {
   "cell_type": "code",
   "execution_count": 2,
   "metadata": {
    "nbgrader": {
     "grade": false,
     "grade_id": "cell-5ed0076cec86f623",
     "locked": true,
     "schema_version": 1,
     "solution": false
    }
   },
   "outputs": [],
   "source": [
    "import numpy as np # used for scientific computing\n",
    "import pandas as pd # used for data analysis and manipulation\n",
    "import matplotlib.pyplot as plt # used for visualization and plotting\n",
    "\n",
    "np.random.seed(42) \n",
    "\n",
    "# make matplotlib figures appear inline in the notebook\n",
    "%matplotlib inline\n",
    "plt.rcParams['figure.figsize'] = (14.0, 8.0) # set default size of plots\n",
    "plt.rcParams['image.interpolation'] = 'nearest'\n",
    "plt.rcParams['image.cmap'] = 'gray'"
   ]
  },
  {
   "cell_type": "markdown",
   "metadata": {
    "nbgrader": {
     "grade": false,
     "grade_id": "cell-916f46de8cde2ca7",
     "locked": true,
     "schema_version": 1,
     "solution": false
    }
   },
   "source": [
    "## Part 1: Data Preprocessing (10 Points)\n",
    "\n",
    "For the following exercise, we will use a dataset containing housing prices in King County, USA. The dataset contains 5,000 observations with 18 features and a single target value - the house price. \n",
    "\n",
    "First, we will read and explore the data using pandas and the `.read_csv` method. Pandas is an open source library providing high-performance, easy-to-use data structures and data analysis tools for the Python programming language."
   ]
  },
  {
   "cell_type": "code",
   "execution_count": 3,
   "metadata": {
    "nbgrader": {
     "grade": false,
     "grade_id": "cell-9ef8b2769c2c1949",
     "locked": true,
     "schema_version": 1,
     "solution": false
    }
   },
   "outputs": [],
   "source": [
    "# Read comma separated data\n",
    "df = pd.read_csv('data.csv') # Make sure this cell runs regardless of your absolute path.\n",
    "# df stands for dataframe, which is the default format for datasets in pandas"
   ]
  },
  {
   "cell_type": "markdown",
   "metadata": {
    "nbgrader": {
     "grade": false,
     "grade_id": "cell-6966afc155aa6616",
     "locked": true,
     "schema_version": 1,
     "solution": false
    }
   },
   "source": [
    "### Data Exploration\n",
    "A good practice in any data-oriented project is to first try and understand the data. Fortunately, pandas is built for that purpose. Start by looking at the top of the dataset using the `df.head()` command. This will be the first indication that you read your data properly, and that the headers are correct. Next, you can use `df.describe()` to show statistics on the data and check for trends and irregularities."
   ]
  },
  {
   "cell_type": "code",
   "execution_count": 4,
   "metadata": {},
   "outputs": [
    {
     "data": {
      "text/html": [
       "<div>\n",
       "<style scoped>\n",
       "    .dataframe tbody tr th:only-of-type {\n",
       "        vertical-align: middle;\n",
       "    }\n",
       "\n",
       "    .dataframe tbody tr th {\n",
       "        vertical-align: top;\n",
       "    }\n",
       "\n",
       "    .dataframe thead th {\n",
       "        text-align: right;\n",
       "    }\n",
       "</style>\n",
       "<table border=\"1\" class=\"dataframe\">\n",
       "  <thead>\n",
       "    <tr style=\"text-align: right;\">\n",
       "      <th></th>\n",
       "      <th>id</th>\n",
       "      <th>date</th>\n",
       "      <th>price</th>\n",
       "      <th>bedrooms</th>\n",
       "      <th>bathrooms</th>\n",
       "      <th>sqft_living</th>\n",
       "      <th>sqft_lot</th>\n",
       "      <th>floors</th>\n",
       "      <th>waterfront</th>\n",
       "      <th>view</th>\n",
       "      <th>condition</th>\n",
       "      <th>grade</th>\n",
       "      <th>sqft_above</th>\n",
       "      <th>yr_built</th>\n",
       "      <th>yr_renovated</th>\n",
       "      <th>zipcode</th>\n",
       "      <th>lat</th>\n",
       "      <th>long</th>\n",
       "      <th>sqft_living15</th>\n",
       "      <th>sqft_lot15</th>\n",
       "    </tr>\n",
       "  </thead>\n",
       "  <tbody>\n",
       "    <tr>\n",
       "      <th>0</th>\n",
       "      <td>7129300520</td>\n",
       "      <td>20141013T000000</td>\n",
       "      <td>221900.0</td>\n",
       "      <td>3</td>\n",
       "      <td>1.00</td>\n",
       "      <td>1180</td>\n",
       "      <td>5650</td>\n",
       "      <td>1.0</td>\n",
       "      <td>0</td>\n",
       "      <td>0</td>\n",
       "      <td>3</td>\n",
       "      <td>7</td>\n",
       "      <td>1180</td>\n",
       "      <td>1955</td>\n",
       "      <td>0</td>\n",
       "      <td>98178</td>\n",
       "      <td>47.5112</td>\n",
       "      <td>-122.257</td>\n",
       "      <td>1340</td>\n",
       "      <td>5650</td>\n",
       "    </tr>\n",
       "    <tr>\n",
       "      <th>1</th>\n",
       "      <td>6414100192</td>\n",
       "      <td>20141209T000000</td>\n",
       "      <td>538000.0</td>\n",
       "      <td>3</td>\n",
       "      <td>2.25</td>\n",
       "      <td>2570</td>\n",
       "      <td>7242</td>\n",
       "      <td>2.0</td>\n",
       "      <td>0</td>\n",
       "      <td>0</td>\n",
       "      <td>3</td>\n",
       "      <td>7</td>\n",
       "      <td>2170</td>\n",
       "      <td>1951</td>\n",
       "      <td>1991</td>\n",
       "      <td>98125</td>\n",
       "      <td>47.7210</td>\n",
       "      <td>-122.319</td>\n",
       "      <td>1690</td>\n",
       "      <td>7639</td>\n",
       "    </tr>\n",
       "    <tr>\n",
       "      <th>2</th>\n",
       "      <td>5631500400</td>\n",
       "      <td>20150225T000000</td>\n",
       "      <td>180000.0</td>\n",
       "      <td>2</td>\n",
       "      <td>1.00</td>\n",
       "      <td>770</td>\n",
       "      <td>10000</td>\n",
       "      <td>1.0</td>\n",
       "      <td>0</td>\n",
       "      <td>0</td>\n",
       "      <td>3</td>\n",
       "      <td>6</td>\n",
       "      <td>770</td>\n",
       "      <td>1933</td>\n",
       "      <td>0</td>\n",
       "      <td>98028</td>\n",
       "      <td>47.7379</td>\n",
       "      <td>-122.233</td>\n",
       "      <td>2720</td>\n",
       "      <td>8062</td>\n",
       "    </tr>\n",
       "    <tr>\n",
       "      <th>3</th>\n",
       "      <td>2487200875</td>\n",
       "      <td>20141209T000000</td>\n",
       "      <td>604000.0</td>\n",
       "      <td>4</td>\n",
       "      <td>3.00</td>\n",
       "      <td>1960</td>\n",
       "      <td>5000</td>\n",
       "      <td>1.0</td>\n",
       "      <td>0</td>\n",
       "      <td>0</td>\n",
       "      <td>5</td>\n",
       "      <td>7</td>\n",
       "      <td>1050</td>\n",
       "      <td>1965</td>\n",
       "      <td>0</td>\n",
       "      <td>98136</td>\n",
       "      <td>47.5208</td>\n",
       "      <td>-122.393</td>\n",
       "      <td>1360</td>\n",
       "      <td>5000</td>\n",
       "    </tr>\n",
       "    <tr>\n",
       "      <th>4</th>\n",
       "      <td>1954400510</td>\n",
       "      <td>20150218T000000</td>\n",
       "      <td>510000.0</td>\n",
       "      <td>3</td>\n",
       "      <td>2.00</td>\n",
       "      <td>1680</td>\n",
       "      <td>8080</td>\n",
       "      <td>1.0</td>\n",
       "      <td>0</td>\n",
       "      <td>0</td>\n",
       "      <td>3</td>\n",
       "      <td>8</td>\n",
       "      <td>1680</td>\n",
       "      <td>1987</td>\n",
       "      <td>0</td>\n",
       "      <td>98074</td>\n",
       "      <td>47.6168</td>\n",
       "      <td>-122.045</td>\n",
       "      <td>1800</td>\n",
       "      <td>7503</td>\n",
       "    </tr>\n",
       "  </tbody>\n",
       "</table>\n",
       "</div>"
      ],
      "text/plain": [
       "           id             date     price  bedrooms  bathrooms  sqft_living  \\\n",
       "0  7129300520  20141013T000000  221900.0         3       1.00         1180   \n",
       "1  6414100192  20141209T000000  538000.0         3       2.25         2570   \n",
       "2  5631500400  20150225T000000  180000.0         2       1.00          770   \n",
       "3  2487200875  20141209T000000  604000.0         4       3.00         1960   \n",
       "4  1954400510  20150218T000000  510000.0         3       2.00         1680   \n",
       "\n",
       "   sqft_lot  floors  waterfront  view  condition  grade  sqft_above  yr_built  \\\n",
       "0      5650     1.0           0     0          3      7        1180      1955   \n",
       "1      7242     2.0           0     0          3      7        2170      1951   \n",
       "2     10000     1.0           0     0          3      6         770      1933   \n",
       "3      5000     1.0           0     0          5      7        1050      1965   \n",
       "4      8080     1.0           0     0          3      8        1680      1987   \n",
       "\n",
       "   yr_renovated  zipcode      lat     long  sqft_living15  sqft_lot15  \n",
       "0             0    98178  47.5112 -122.257           1340        5650  \n",
       "1          1991    98125  47.7210 -122.319           1690        7639  \n",
       "2             0    98028  47.7379 -122.233           2720        8062  \n",
       "3             0    98136  47.5208 -122.393           1360        5000  \n",
       "4             0    98074  47.6168 -122.045           1800        7503  "
      ]
     },
     "execution_count": 4,
     "metadata": {},
     "output_type": "execute_result"
    }
   ],
   "source": [
    "df.head(5)"
   ]
  },
  {
   "cell_type": "code",
   "execution_count": 5,
   "metadata": {
    "nbgrader": {
     "grade": true,
     "grade_id": "cell-5bd0d6844b64ea1a",
     "locked": false,
     "points": 1,
     "schema_version": 1,
     "solution": true
    }
   },
   "outputs": [
    {
     "data": {
      "text/html": [
       "<div>\n",
       "<style scoped>\n",
       "    .dataframe tbody tr th:only-of-type {\n",
       "        vertical-align: middle;\n",
       "    }\n",
       "\n",
       "    .dataframe tbody tr th {\n",
       "        vertical-align: top;\n",
       "    }\n",
       "\n",
       "    .dataframe thead th {\n",
       "        text-align: right;\n",
       "    }\n",
       "</style>\n",
       "<table border=\"1\" class=\"dataframe\">\n",
       "  <thead>\n",
       "    <tr style=\"text-align: right;\">\n",
       "      <th></th>\n",
       "      <th>id</th>\n",
       "      <th>price</th>\n",
       "      <th>bedrooms</th>\n",
       "      <th>bathrooms</th>\n",
       "      <th>sqft_living</th>\n",
       "      <th>sqft_lot</th>\n",
       "      <th>floors</th>\n",
       "      <th>waterfront</th>\n",
       "      <th>view</th>\n",
       "      <th>condition</th>\n",
       "      <th>grade</th>\n",
       "      <th>sqft_above</th>\n",
       "      <th>yr_built</th>\n",
       "      <th>yr_renovated</th>\n",
       "      <th>zipcode</th>\n",
       "      <th>lat</th>\n",
       "      <th>long</th>\n",
       "      <th>sqft_living15</th>\n",
       "      <th>sqft_lot15</th>\n",
       "    </tr>\n",
       "  </thead>\n",
       "  <tbody>\n",
       "    <tr>\n",
       "      <th>count</th>\n",
       "      <td>5.000000e+03</td>\n",
       "      <td>5.000000e+03</td>\n",
       "      <td>5000.0000</td>\n",
       "      <td>5000.000000</td>\n",
       "      <td>5000.000000</td>\n",
       "      <td>5.000000e+03</td>\n",
       "      <td>5000.000000</td>\n",
       "      <td>5000.000000</td>\n",
       "      <td>5000.000000</td>\n",
       "      <td>5000.000000</td>\n",
       "      <td>5000.000000</td>\n",
       "      <td>5000.000000</td>\n",
       "      <td>5000.000000</td>\n",
       "      <td>5000.000000</td>\n",
       "      <td>5000.000000</td>\n",
       "      <td>5000.000000</td>\n",
       "      <td>5000.000000</td>\n",
       "      <td>5000.00000</td>\n",
       "      <td>5000.000000</td>\n",
       "    </tr>\n",
       "    <tr>\n",
       "      <th>mean</th>\n",
       "      <td>4.630823e+09</td>\n",
       "      <td>5.394699e+05</td>\n",
       "      <td>3.3714</td>\n",
       "      <td>2.062150</td>\n",
       "      <td>2061.036800</td>\n",
       "      <td>1.615893e+04</td>\n",
       "      <td>1.432600</td>\n",
       "      <td>0.009400</td>\n",
       "      <td>0.243000</td>\n",
       "      <td>3.455000</td>\n",
       "      <td>7.595200</td>\n",
       "      <td>1753.151000</td>\n",
       "      <td>1966.660800</td>\n",
       "      <td>95.052800</td>\n",
       "      <td>98078.812600</td>\n",
       "      <td>47.559312</td>\n",
       "      <td>-122.215864</td>\n",
       "      <td>1976.84520</td>\n",
       "      <td>13451.164600</td>\n",
       "    </tr>\n",
       "    <tr>\n",
       "      <th>std</th>\n",
       "      <td>2.870890e+09</td>\n",
       "      <td>3.873115e+05</td>\n",
       "      <td>0.9104</td>\n",
       "      <td>0.773592</td>\n",
       "      <td>923.727509</td>\n",
       "      <td>4.600220e+04</td>\n",
       "      <td>0.510793</td>\n",
       "      <td>0.096506</td>\n",
       "      <td>0.774643</td>\n",
       "      <td>0.677692</td>\n",
       "      <td>1.166537</td>\n",
       "      <td>818.390844</td>\n",
       "      <td>28.286855</td>\n",
       "      <td>425.234932</td>\n",
       "      <td>54.126332</td>\n",
       "      <td>0.139521</td>\n",
       "      <td>0.141807</td>\n",
       "      <td>674.73601</td>\n",
       "      <td>26514.749009</td>\n",
       "    </tr>\n",
       "    <tr>\n",
       "      <th>min</th>\n",
       "      <td>1.000102e+06</td>\n",
       "      <td>7.500000e+04</td>\n",
       "      <td>0.0000</td>\n",
       "      <td>0.000000</td>\n",
       "      <td>380.000000</td>\n",
       "      <td>6.090000e+02</td>\n",
       "      <td>1.000000</td>\n",
       "      <td>0.000000</td>\n",
       "      <td>0.000000</td>\n",
       "      <td>1.000000</td>\n",
       "      <td>3.000000</td>\n",
       "      <td>380.000000</td>\n",
       "      <td>1900.000000</td>\n",
       "      <td>0.000000</td>\n",
       "      <td>98001.000000</td>\n",
       "      <td>47.155900</td>\n",
       "      <td>-122.514000</td>\n",
       "      <td>620.00000</td>\n",
       "      <td>660.000000</td>\n",
       "    </tr>\n",
       "    <tr>\n",
       "      <th>25%</th>\n",
       "      <td>2.154075e+09</td>\n",
       "      <td>3.179062e+05</td>\n",
       "      <td>3.0000</td>\n",
       "      <td>1.500000</td>\n",
       "      <td>1410.000000</td>\n",
       "      <td>5.400000e+03</td>\n",
       "      <td>1.000000</td>\n",
       "      <td>0.000000</td>\n",
       "      <td>0.000000</td>\n",
       "      <td>3.000000</td>\n",
       "      <td>7.000000</td>\n",
       "      <td>1190.000000</td>\n",
       "      <td>1949.000000</td>\n",
       "      <td>0.000000</td>\n",
       "      <td>98033.000000</td>\n",
       "      <td>47.463675</td>\n",
       "      <td>-122.329000</td>\n",
       "      <td>1490.00000</td>\n",
       "      <td>5391.500000</td>\n",
       "    </tr>\n",
       "    <tr>\n",
       "      <th>50%</th>\n",
       "      <td>4.022900e+09</td>\n",
       "      <td>4.490000e+05</td>\n",
       "      <td>3.0000</td>\n",
       "      <td>2.000000</td>\n",
       "      <td>1890.000000</td>\n",
       "      <td>7.875000e+03</td>\n",
       "      <td>1.000000</td>\n",
       "      <td>0.000000</td>\n",
       "      <td>0.000000</td>\n",
       "      <td>3.000000</td>\n",
       "      <td>7.000000</td>\n",
       "      <td>1530.000000</td>\n",
       "      <td>1968.000000</td>\n",
       "      <td>0.000000</td>\n",
       "      <td>98070.000000</td>\n",
       "      <td>47.572850</td>\n",
       "      <td>-122.235000</td>\n",
       "      <td>1820.00000</td>\n",
       "      <td>7800.000000</td>\n",
       "    </tr>\n",
       "    <tr>\n",
       "      <th>75%</th>\n",
       "      <td>7.345078e+09</td>\n",
       "      <td>6.500000e+05</td>\n",
       "      <td>4.0000</td>\n",
       "      <td>2.500000</td>\n",
       "      <td>2500.000000</td>\n",
       "      <td>1.123400e+04</td>\n",
       "      <td>2.000000</td>\n",
       "      <td>0.000000</td>\n",
       "      <td>0.000000</td>\n",
       "      <td>4.000000</td>\n",
       "      <td>8.000000</td>\n",
       "      <td>2130.000000</td>\n",
       "      <td>1990.000000</td>\n",
       "      <td>0.000000</td>\n",
       "      <td>98118.000000</td>\n",
       "      <td>47.679200</td>\n",
       "      <td>-122.129000</td>\n",
       "      <td>2340.00000</td>\n",
       "      <td>10469.250000</td>\n",
       "    </tr>\n",
       "    <tr>\n",
       "      <th>max</th>\n",
       "      <td>9.842300e+09</td>\n",
       "      <td>7.060000e+06</td>\n",
       "      <td>9.0000</td>\n",
       "      <td>6.750000</td>\n",
       "      <td>10040.000000</td>\n",
       "      <td>1.651359e+06</td>\n",
       "      <td>3.500000</td>\n",
       "      <td>1.000000</td>\n",
       "      <td>4.000000</td>\n",
       "      <td>5.000000</td>\n",
       "      <td>13.000000</td>\n",
       "      <td>7680.000000</td>\n",
       "      <td>2015.000000</td>\n",
       "      <td>2015.000000</td>\n",
       "      <td>98199.000000</td>\n",
       "      <td>47.777600</td>\n",
       "      <td>-121.315000</td>\n",
       "      <td>5790.00000</td>\n",
       "      <td>434728.000000</td>\n",
       "    </tr>\n",
       "  </tbody>\n",
       "</table>\n",
       "</div>"
      ],
      "text/plain": [
       "                 id         price   bedrooms    bathrooms   sqft_living  \\\n",
       "count  5.000000e+03  5.000000e+03  5000.0000  5000.000000   5000.000000   \n",
       "mean   4.630823e+09  5.394699e+05     3.3714     2.062150   2061.036800   \n",
       "std    2.870890e+09  3.873115e+05     0.9104     0.773592    923.727509   \n",
       "min    1.000102e+06  7.500000e+04     0.0000     0.000000    380.000000   \n",
       "25%    2.154075e+09  3.179062e+05     3.0000     1.500000   1410.000000   \n",
       "50%    4.022900e+09  4.490000e+05     3.0000     2.000000   1890.000000   \n",
       "75%    7.345078e+09  6.500000e+05     4.0000     2.500000   2500.000000   \n",
       "max    9.842300e+09  7.060000e+06     9.0000     6.750000  10040.000000   \n",
       "\n",
       "           sqft_lot       floors   waterfront         view    condition  \\\n",
       "count  5.000000e+03  5000.000000  5000.000000  5000.000000  5000.000000   \n",
       "mean   1.615893e+04     1.432600     0.009400     0.243000     3.455000   \n",
       "std    4.600220e+04     0.510793     0.096506     0.774643     0.677692   \n",
       "min    6.090000e+02     1.000000     0.000000     0.000000     1.000000   \n",
       "25%    5.400000e+03     1.000000     0.000000     0.000000     3.000000   \n",
       "50%    7.875000e+03     1.000000     0.000000     0.000000     3.000000   \n",
       "75%    1.123400e+04     2.000000     0.000000     0.000000     4.000000   \n",
       "max    1.651359e+06     3.500000     1.000000     4.000000     5.000000   \n",
       "\n",
       "             grade   sqft_above     yr_built  yr_renovated       zipcode  \\\n",
       "count  5000.000000  5000.000000  5000.000000   5000.000000   5000.000000   \n",
       "mean      7.595200  1753.151000  1966.660800     95.052800  98078.812600   \n",
       "std       1.166537   818.390844    28.286855    425.234932     54.126332   \n",
       "min       3.000000   380.000000  1900.000000      0.000000  98001.000000   \n",
       "25%       7.000000  1190.000000  1949.000000      0.000000  98033.000000   \n",
       "50%       7.000000  1530.000000  1968.000000      0.000000  98070.000000   \n",
       "75%       8.000000  2130.000000  1990.000000      0.000000  98118.000000   \n",
       "max      13.000000  7680.000000  2015.000000   2015.000000  98199.000000   \n",
       "\n",
       "               lat         long  sqft_living15     sqft_lot15  \n",
       "count  5000.000000  5000.000000     5000.00000    5000.000000  \n",
       "mean     47.559312  -122.215864     1976.84520   13451.164600  \n",
       "std       0.139521     0.141807      674.73601   26514.749009  \n",
       "min      47.155900  -122.514000      620.00000     660.000000  \n",
       "25%      47.463675  -122.329000     1490.00000    5391.500000  \n",
       "50%      47.572850  -122.235000     1820.00000    7800.000000  \n",
       "75%      47.679200  -122.129000     2340.00000   10469.250000  \n",
       "max      47.777600  -121.315000     5790.00000  434728.000000  "
      ]
     },
     "execution_count": 5,
     "metadata": {},
     "output_type": "execute_result"
    }
   ],
   "source": [
    "df.describe()"
   ]
  },
  {
   "cell_type": "markdown",
   "metadata": {
    "nbgrader": {
     "grade": false,
     "grade_id": "cell-9b9bd1b387905904",
     "locked": true,
     "schema_version": 1,
     "solution": false
    }
   },
   "source": [
    "We will start with one variable linear regression by extracting the target column and the `sqft_living` variable from the dataset. We use pandas and select both columns as separate variables and transform them into a numpy array."
   ]
  },
  {
   "cell_type": "code",
   "execution_count": 6,
   "metadata": {
    "nbgrader": {
     "grade": true,
     "grade_id": "cell-c7cd243e8b5fe5aa",
     "locked": false,
     "points": 1,
     "schema_version": 1,
     "solution": true
    }
   },
   "outputs": [],
   "source": [
    "X = df['sqft_living'].values\n",
    "y = df['price'].values"
   ]
  },
  {
   "cell_type": "markdown",
   "metadata": {
    "nbgrader": {
     "grade": false,
     "grade_id": "cell-508e7e1a13f9bbe4",
     "locked": true,
     "schema_version": 1,
     "solution": false
    }
   },
   "source": [
    "## Preprocessing\n",
    "\n",
    "As the number of features grows, calculating gradients gets computationally expensive. We can speed this up by normalizing the input data to ensure all values are within the same range. This is especially important for datasets with high standard deviations or differences in the ranges of the attributes. Use [mean normalization](https://en.wikipedia.org/wiki/Feature_scaling) for the fearures (`X`) and the true labels (`y`).\n",
    "\n",
    "Implement the cost function `preprocess`."
   ]
  },
  {
   "cell_type": "code",
   "execution_count": 7,
   "metadata": {},
   "outputs": [],
   "source": [
    "def preprocess(X, y):\n",
    "    \"\"\"\n",
    "    Perform mean normalization on the features and true labels.\n",
    "\n",
    "    Input:\n",
    "    - X: Inputs (n features over m instances).\n",
    "    - y: True labels.\n",
    "\n",
    "    Returns a two vales:\n",
    "    - X: The mean normalized inputs.\n",
    "    - y: The mean normalized labels.\n",
    "    \"\"\"\n",
    "    ###########################################################################\n",
    "    # TODO: Implement the normalization function.                             #\n",
    "    ###########################################################################\n",
    "    x_norm = X / X.max(axis=0)\n",
    "    y_norm = y / y.max(axis=0)\n",
    "    ###########################################################################\n",
    "    #                             END OF YOUR CODE                            #\n",
    "    ###########################################################################\n",
    "    return x_norm, y_norm"
   ]
  },
  {
   "cell_type": "code",
   "execution_count": 8,
   "metadata": {
    "nbgrader": {
     "grade": true,
     "grade_id": "cell-9bb6a28b6b6932fa",
     "locked": false,
     "points": 5,
     "schema_version": 1,
     "solution": true
    }
   },
   "outputs": [],
   "source": [
    "X, y = preprocess(X, y)"
   ]
  },
  {
   "cell_type": "markdown",
   "metadata": {},
   "source": [
    "We will split the data into two datasets: \n",
    "1. The training dataset will contain 80% of the data and will always be used for model training.\n",
    "2. The validation dataset will contain the remaining 20% of the data and will be used for model evaluation. For example, we will pick the best alpha and the best features using the validation dataset, while still training the model using the training dataset."
   ]
  },
  {
   "cell_type": "code",
   "execution_count": 9,
   "metadata": {},
   "outputs": [],
   "source": [
    "# training and validation split\n",
    "np.random.seed(42)\n",
    "indices = np.random.permutation(X.shape[0])\n",
    "idx_train, idx_val = indices[:int(0.8*X.shape[0])], indices[int(0.8*X.shape[0]):]\n",
    "X_train, X_val = X[idx_train], X[idx_val]\n",
    "y_train, y_val = y[idx_train], y[idx_val]"
   ]
  },
  {
   "cell_type": "markdown",
   "metadata": {
    "nbgrader": {
     "grade": false,
     "grade_id": "cell-0c168d036748663e",
     "locked": true,
     "schema_version": 1,
     "solution": false
    }
   },
   "source": [
    "## Data Visualization\n",
    "Another useful tool is data visualization. Since this problem has only two parameters, it is possible to create a two-dimensional scatter plot to visualize the data. Note that many real-world datasets are highly dimensional and cannot be visualized naively. We will be using `matplotlib` for all data visualization purposes since it offers a wide range of visualization tools and is easy to use."
   ]
  },
  {
   "cell_type": "code",
   "execution_count": 10,
   "metadata": {
    "nbgrader": {
     "grade": false,
     "grade_id": "cell-cbad8871e083093f",
     "locked": true,
     "schema_version": 1,
     "solution": false
    }
   },
   "outputs": [
    {
     "data": {
      "image/png": "[encoded data removed]",
      "text/plain": [
       "<Figure size 1008x576 with 1 Axes>"
      ]
     },
     "metadata": {
      "needs_background": "light"
     },
     "output_type": "display_data"
    }
   ],
   "source": [
    "plt.plot(X_train, y_train, 'ro', ms=1, mec='k') # the parameters control the size, shape and color of the scatter plot\n",
    "plt.ylabel('Price in USD')\n",
    "plt.xlabel('sq.ft')\n",
    "plt.show()"
   ]
  },
  {
   "cell_type": "markdown",
   "metadata": {
    "nbgrader": {
     "grade": false,
     "grade_id": "cell-c50f0a0e569142ed",
     "locked": true,
     "schema_version": 1,
     "solution": false
    }
   },
   "source": [
    "## Bias Trick\n",
    "\n",
    "Make sure that `X` takes into consideration the bias $\\theta_0$ in the linear model. Hint, recall that the predications of our linear model are of the form:\n",
    "$\n",
    "\\hat{y} = h_\\theta(x) = \\theta^T x = \\theta_0 + \\theta_1 x_1\n",
    "$\n",
    "\n",
    "Add columns of ones as the zeroth column of the features (do this for both the training and validation sets)."
   ]
  },
  {
   "cell_type": "code",
   "execution_count": 11,
   "metadata": {
    "nbgrader": {
     "grade": true,
     "grade_id": "cell-44853962dc1651df",
     "locked": false,
     "points": 2,
     "schema_version": 1,
     "solution": true
    }
   },
   "outputs": [],
   "source": [
    "###########################################################################\n",
    "#                            START OF YOUR CODE                           #\n",
    "###########################################################################\n",
    "X_train = np.transpose(np.vstack((np.ones(X_train.shape[0], dtype=X_train.dtype), X_train)))\n",
    "X_val = np.transpose(np.vstack((np.ones(X_val.shape[0], dtype=X_train.dtype), X_val)))\n",
    "###########################################################################\n",
    "#                             END OF YOUR CODE                            #\n",
    "###########################################################################"
   ]
  },
  {
   "cell_type": "markdown",
   "metadata": {
    "nbgrader": {
     "grade": false,
     "grade_id": "cell-c7d7fd68c1b24943",
     "locked": true,
     "schema_version": 1,
     "solution": false
    }
   },
   "source": [
    "## Part 2: Single Variable Linear Regression (40 Points)\n",
    "Simple linear regression is a linear regression model with a single explanatory varaible and a single target value. \n",
    "\n",
    "$\n",
    "\\hat{y} = h_\\theta(x) = \\theta^T x = \\theta_0 + \\theta_1 x_1\n",
    "$\n",
    "\n",
    "## Gradient Descent \n",
    "\n",
    "Our task is to find the best possible linear line that explains all the points in our dataset. We start by guessing initial values for the linear regression parameters $\\theta$ and updating the values using gradient descent. \n",
    "\n",
    "The objective of linear regression is to minimize the cost function $J$:\n",
    "\n",
    "$\n",
    "J(\\theta) = \\frac{1}{2m} \\sum_{i=1}^{n}(h_\\theta(x^{(i)})-y^{(i)})^2\n",
    "$\n",
    "\n",
    "where the hypothesis (model) $h_\\theta(x)$ is given by a **linear** model:\n",
    "\n",
    "$\n",
    "h_\\theta(x) = \\theta^T x = \\theta_0 + \\theta_1 x_1\n",
    "$\n",
    "\n",
    "$\\theta_j$ are parameters of your model. and by changing those values accordingly you will be able to lower the cost function $J(\\theta)$. One way to accopmlish this is to use gradient descent:\n",
    "\n",
    "$\n",
    "\\theta_j = \\theta_j - \\alpha \\frac{1}{m} \\sum_{i=1}^m (h_\\theta(x^{(i)})-y^{(i)})x_j^{(i)}\n",
    "$\n",
    "\n",
    "In linear regresion, we know that with each step of gradient descent, the parameters $\\theta_j$ get closer to the optimal values that will achieve the lowest cost $J(\\theta)$."
   ]
  },
  {
   "cell_type": "markdown",
   "metadata": {
    "nbgrader": {
     "grade": false,
     "grade_id": "cell-0f83af93c0436542",
     "locked": true,
     "schema_version": 1,
     "solution": false
    }
   },
   "source": [
    "Implement the cost function `compute_cost`. (10 points)"
   ]
  },
  {
   "cell_type": "code",
   "execution_count": 12,
   "metadata": {},
   "outputs": [],
   "source": [
    "def compute_cost(X, y, theta):\n",
    "    \"\"\"\n",
    "    Computes the average squared difference between an obserbation's actual and\n",
    "    predicted values for linear regression.  \n",
    "\n",
    "    Input:\n",
    "    - X: inputs  (n features over m instances).\n",
    "    - y: true labels (1 value over m instances).\n",
    "    - theta: the parameters (weights) of the model being learned.\n",
    "\n",
    "    Returns a single value:\n",
    "    - J: the cost associated with the current set of parameters (single number).\n",
    "    \"\"\"\n",
    "\n",
    "    J = 0  # Use J for the cost.\n",
    "\n",
    "#     print(X.shape)\n",
    "#     for i in range(X.shape[0] - 1):\n",
    "#         temp = (np.transpose(theta) * X[i])\n",
    "#         J += (temp - y[i - 1])**2 \n",
    "#     J /= 2*X.shape[1]\n",
    "        \n",
    "    ###########################################################################\n",
    "    # TODO: Implement the MSE cost function.                                  #\n",
    "    ###########################################################################\n",
    "    J = sum([(np.dot(theta, X[i]) - y[i])**2 for i in range(1,X.shape[0])]) / (2*X.shape[0])\n",
    "    ###########################################################################\n",
    "    #                             END OF YOUR CODE                            #\n",
    "    ###########################################################################\n",
    "    return J"
   ]
  },
  {
   "cell_type": "code",
   "execution_count": 13,
   "metadata": {
    "nbgrader": {
     "grade": false,
     "grade_id": "cell-4c1cfec24e144479",
     "locked": true,
     "schema_version": 1,
     "solution": false
    },
    "scrolled": false
   },
   "outputs": [],
   "source": [
    "theta = np.array([-1, 2])\n",
    "J = compute_cost(X_train, y_train, theta)"
   ]
  },
  {
   "cell_type": "code",
   "execution_count": 14,
   "metadata": {
    "pycharm": {
     "name": "#%%\n"
    }
   },
   "outputs": [
    {
     "data": {
      "text/latex": [
       "$\\displaystyle 0.232144150122662$"
      ],
      "text/plain": [
       "0.23214415012266243"
      ]
     },
     "execution_count": 14,
     "metadata": {},
     "output_type": "execute_result"
    }
   ],
   "source": [
    "J"
   ]
  },
  {
   "cell_type": "markdown",
   "metadata": {},
   "source": [
    "Implement the gradient descent function `gradient_descent`. (10 points)"
   ]
  },
  {
   "cell_type": "markdown",
   "metadata": {
    "nbgrader": {
     "grade": false,
     "grade_id": "cell-afdc527b73d275bb",
     "locked": true,
     "schema_version": 1,
     "solution": false
    }
   },
   "source": [
    "np.random.seed(42)\n",
    "theta = np.random.random(size=2)\n",
    "iterations = 40000\n",
    "alpha = 0.1\n",
    "theta, J_history = gradient_descent(X_train ,y_train, theta, alpha, iterations)"
   ]
  },
  {
   "cell_type": "code",
   "execution_count": 15,
   "metadata": {},
   "outputs": [],
   "source": [
    "def gradient_descent(X, y, theta, alpha, num_iters):\n",
    "    \"\"\"\n",
    "    Learn the parameters of the model using gradient descent using \n",
    "    the *training set*. Gradient descent is an optimization algorithm \n",
    "    used to minimize some (loss) function by iteratively moving in \n",
    "    the direction of steepest descent as defined by the negative of \n",
    "    the gradient. We use gradient descent to update the parameters\n",
    "    (weights) of our model.\n",
    "\n",
    "    Input:\n",
    "    - X: Inputs  (n features over m instances).\n",
    "    - y: True labels (1 value over m instances).\n",
    "    - theta: The parameters (weights) of the model being learned.\n",
    "    - alpha: The learning rate of your model.\n",
    "    - num_iters: The number of updates performed.\n",
    "\n",
    "    Returns two values:\n",
    "    - theta: The learned parameters of your model.\n",
    "    - J_history: the loss value for every iteration.\n",
    "    \"\"\"\n",
    "    \n",
    "    J_history = [] # Use a python list to save cost in every iteration\n",
    "    theta = theta.copy() # avoid changing the original thetas\n",
    "    ###########################################################################\n",
    "    # TODO: Implement the gradient descent optimization algorithm.            #\n",
    "    ###########################################################################\n",
    "    for n in range(num_iters):\n",
    "        theta -= alpha * sum([(np.dot(theta, X[i]) - y[i]) * X[i] for i in range(0,X.shape[0])]) / X.shape[0]\n",
    "        J_history.append(compute_cost(X, y, theta))\n",
    "    ###########################################################################\n",
    "    #                             END OF YOUR CODE                            #\n",
    "    ###########################################################################\n",
    "    return theta, J_history"
   ]
  },
  {
   "cell_type": "code",
   "execution_count": 16,
   "metadata": {},
   "outputs": [
    {
     "data": {
      "text/latex": [
       "$\\displaystyle \\left( 2,\\right)$"
      ],
      "text/plain": [
       "(2,)"
      ]
     },
     "execution_count": 16,
     "metadata": {},
     "output_type": "execute_result"
    }
   ],
   "source": [
    "theta.shape"
   ]
  },
  {
   "cell_type": "code",
   "execution_count": 17,
   "metadata": {
    "nbgrader": {
     "grade": false,
     "grade_id": "cell-59b95cbea13e7fc1",
     "locked": true,
     "schema_version": 1,
     "solution": false
    }
   },
   "outputs": [],
   "source": [
    "np.random.seed(42)\n",
    "theta = np.random.random(size=2)\n",
    "iterations = 400\n",
    "alpha = 0.1\n",
    "theta, J_history = gradient_descent(X_train ,y_train, theta, alpha, iterations)"
   ]
  },
  {
   "cell_type": "code",
   "execution_count": 18,
   "metadata": {},
   "outputs": [
    {
     "data": {
      "text/latex": [
       "$\\displaystyle \\left[ 0.0996413896473205, \\  0.0802539347725695, \\  0.0646992225906663, \\  0.0522194990639092, \\  0.0422068224785505, \\  0.0341734446717379, \\  0.0277280480649292, \\  0.0225566807760504, \\  0.0184074609723385, \\  0.0150783052626262, \\  0.0124070832585452, \\  0.0102637186366886, \\  0.00854385186697694, \\  0.00716375585659531, \\  0.0060562568006983, \\  0.00516746150458528, \\  0.00445413173319118, \\  0.00388157766679542, \\  0.00342196783260747, \\  0.00305297317251473, \\  0.00275667918632528, \\  0.00251871315042179, \\  0.002327543890172, \\  0.00217391999122142, \\  0.0020504190795057, \\  0.00195108621106096, \\  0.00187114375411727, \\  0.00180675862904655, \\  0.001754855566194, \\  0.00171296728360062, \\  0.00167911428534956, \\  0.00165170842437658, \\  0.0016294755313806, \\  0.00161139334036407, \\  0.00159664168657819, \\  0.00158456255055456, \\  0.00157462800160094, \\  0.00156641447899771, \\  0.00155958215789995, \\  0.00155385839467434, \\  0.00154902444514766, \\  0.00154490480869723, \\  0.0015413586790429, \\  0.00153827308523691, \\  0.00153555738869267, \\  0.00153313886815851, \\  0.00153095917754583, \\  0.00152897150404554, \\  0.00152713828808378, \\  0.00152542939403982, \\  0.00152382064260943, \\  0.00152229263331586, \\  0.00152082979980591, \\  0.00151941965190921, \\  0.00151805216753763, \\  0.0015167193048016, \\  0.00151541461057653, \\  0.00151413290645132, \\  0.0015128700367609, \\  0.00151162266642885, \\  0.00151038811877315, \\  0.00150916424537428, \\  0.00150794932166761, \\  0.00150674196317427, \\  0.00150554105829067, \\  0.00150434571436332, \\  0.00150315521442245, \\  0.00150196898246757, \\  0.00150078655561432, \\  0.00149960756174632, \\  0.00149843170158385, \\  0.0014972587342963, \\  0.00149608846595782, \\  0.00149492074028433, \\  0.00149375543120085, \\  0.00149259243687745, \\  0.00149143167494348, \\  0.00149027307864738, \\  0.00148911659377497, \\  0.00148796217617651, \\  0.00148680978978221, \\  0.00148565940500948, \\  0.00148451099748488, \\  0.00148336454701821, \\  0.00148222003677922, \\  0.00148107745263672, \\  0.00147993678262814, \\  0.00147879801653375, \\  0.00147766114553477, \\  0.00147652616193897, \\  0.00147539305896034, \\  0.00147426183054209, \\  0.00147313247121465, \\  0.00147200497598151, \\  0.00147087934022757, \\  0.00146975555964552, \\  0.00146863363017667, \\  0.00146751354796341, \\  0.00146639530931101, \\  0.00146527891065688, \\  0.00146416434854592, \\  0.00146305161961058, \\  0.00146194072055494, \\  0.00146083164814182, \\  0.00145972439918244, \\  0.00145861897052803, \\  0.00145751535906322, \\  0.00145641356170048, \\  0.00145531357537586, \\  0.00145421539704541, \\  0.00145311902368235, \\  0.00145202445227476, \\  0.00145093167982373, \\  0.00144984070334181, \\  0.00144875151985184, \\  0.00144766412638594, \\  0.00144657851998467, \\  0.00144549469769642, \\  0.00144441265657683, \\  0.00144333239368842, \\  0.00144225390610013, \\  0.00144117719088713, \\  0.00144010224513049, \\  0.00143902906591706, \\  0.00143795765033923, \\  0.00143688799549484, \\  0.00143582009848707, \\  0.00143475395642428, \\  0.00143368956642002, \\  0.00143262692559289, \\  0.00143156603106652, \\  0.0014305068799695, \\  0.00142944946943534, \\  0.00142839379660244, \\  0.00142733985861408, \\  0.00142628765261829, \\  0.00142523717576798, \\  0.00142418842522081, \\  0.00142314139813917, \\  0.0014220960916902, \\  0.00142105250304578, \\  0.00142001062938246, \\  0.00141897046788151, \\  0.00141793201572885, \\  0.00141689527011507, \\  0.00141586022823542, \\  0.00141482688728978, \\  0.00141379524448265, \\  0.00141276529702316, \\  0.00141173704212504, \\  0.00141071047700661, \\  0.00140968559889078, \\  0.00140866240500506, \\  0.0014076408925815, \\  0.00140662105885672, \\  0.00140560290107188, \\  0.00140458641647271, \\  0.00140357160230945, \\  0.00140255845583688, \\  0.00140154697431427, \\  0.00140053715500545, \\  0.00139952899517869, \\  0.00139852249210681, \\  0.00139751764306709, \\  0.00139651444534127, \\  0.00139551289621559, \\  0.00139451299298075, \\  0.00139351473293188, \\  0.00139251811336858, \\  0.00139152313159489, \\  0.00139052978491927, \\  0.00138953807065462, \\  0.00138854798611822, \\  0.00138755952863182, \\  0.00138657269552153, \\  0.00138558748411786, \\  0.00138460389175572, \\  0.0013836219157744, \\  0.00138264155351753, \\  0.00138166280233317, \\  0.00138068565957368, \\  0.00137971012259581, \\  0.00137873618876062, \\  0.00137776385543353, \\  0.0013767931199843, \\  0.00137582397978699, \\  0.00137485643221998, \\  0.00137389047466596, \\  0.00137292610451195, \\  0.00137196331914922, \\  0.00137100211597334, \\  0.00137004249238417, \\  0.00136908444578585, \\  0.00136812797358677, \\  0.00136717307319958, \\  0.0013662197420412, \\  0.00136526797753278, \\  0.0013643177770997, \\  0.00136336913817159, \\  0.00136242205818229, \\  0.00136147653456988, \\  0.00136053256477662, \\  0.00135959014624898, \\  0.00135864927643766, \\  0.00135770995279749, \\  0.00135677217278754, \\  0.00135583593387103, \\  0.00135490123351535, \\  0.00135396806919204, \\  0.00135303643837682, \\  0.00135210633854955, \\  0.00135117776719421, \\  0.00135025072179896, \\  0.00134932519985606, \\  0.00134840119886186, \\  0.00134747871631688, \\  0.00134655774972573, \\  0.00134563829659711, \\  0.00134472035444381, \\  0.00134380392078273, \\  0.00134288899313484, \\  0.00134197556902517, \\  0.00134106364598283, \\  0.00134015322154101, \\  0.00133924429323691, \\  0.00133833685861182, \\  0.00133743091521104, \\  0.00133652646058393, \\  0.00133562349228385, \\  0.00133472200786819, \\  0.00133382200489838, \\  0.00133292348093982, \\  0.00133202643356193, \\  0.00133113086033812, \\  0.00133023675884581, \\  0.00132934412666635, \\  0.00132845296138512, \\  0.00132756326059143, \\  0.00132667502187857, \\  0.00132578824284378, \\  0.00132490292108825, \\  0.00132401905421712, \\  0.00132313663983944, \\  0.00132225567556822, \\  0.00132137615902039, \\  0.00132049808781676, \\  0.00131962145958209, \\  0.00131874627194504, \\  0.00131787252253813, \\  0.00131700020899782, \\  0.00131612932896442, \\  0.00131525988008215, \\  0.00131439185999905, \\  0.00131352526636707, \\  0.001312660096842, \\  0.00131179634908351, \\  0.00131093402075506, \\  0.00131007310952401, \\  0.00130921361306152, \\  0.00130835552904257, \\  0.001307498855146, \\  0.00130664358905442, \\  0.00130578972845428, \\  0.0013049372710358, \\  0.00130408621449304, \\  0.00130323655652382, \\  0.00130238829482974, \\  0.0013015414271162, \\  0.00130069595109234, \\  0.00129985186447109, \\  0.00129900916496913, \\  0.00129816785030691, \\  0.00129732791820859, \\  0.00129648936640209, \\  0.00129565219261907, \\  0.0012948163945949, \\  0.0012939819700687, \\  0.00129314891678328, \\  0.00129231723248516, \\  0.00129148691492458, \\  0.00129065796185548, \\  0.00128983037103546, \\  0.00128900414022583, \\  0.00128817926719157, \\  0.00128735574970136, \\  0.0012865335855275, \\  0.00128571277244597, \\  0.00128489330823644, \\  0.00128407519068218, \\  0.00128325841757011, \\  0.00128244298669082, \\  0.0012816288958385, \\  0.00128081614281098, \\  0.00128000472540969, \\  0.00127919464143971, \\  0.00127838588870968, \\  0.00127757846503188, \\  0.00127677236822217, \\  0.0012759675961, \\  0.0012751641464884, \\  0.00127436201721398, \\  0.00127356120610693, \\  0.00127276171100099, \\  0.00127196352973348, \\  0.00127116666014524, \\  0.00127037110008072, \\  0.00126957684738784, \\  0.0012687838999181, \\  0.00126799225552654, \\  0.00126720191207168, \\  0.0012664128674156, \\  0.00126562511942387, \\  0.00126483866596559, \\  0.00126405350491334, \\  0.00126326963414322, \\  0.00126248705153478, \\  0.00126170575497109, \\  0.0012609257423387, \\  0.00126014701152762, \\  0.00125936956043132, \\  0.00125859338694676, \\  0.00125781848897431, \\  0.00125704486441784, \\  0.00125627251118465, \\  0.00125550142718545, \\  0.00125473161033442, \\  0.00125396305854915, \\  0.00125319576975066, \\  0.00125242974186338, \\  0.00125166497281516, \\  0.00125090146053724, \\  0.00125013920296428, \\  0.00124937819803431, \\  0.00124861844368877, \\  0.00124785993787247, \\  0.00124710267853361, \\  0.00124634666362376, \\  0.00124559189109782, \\  0.00124483835891412, \\  0.00124408606503429, \\  0.00124333500742332, \\  0.00124258518404956, \\  0.00124183659288469, \\  0.00124108923190372, \\  0.00124034309908499, \\  0.00123959819241018, \\  0.00123885450986425, \\  0.00123811204943549, \\  0.00123737080911552, \\  0.00123663078689922, \\  0.00123589198078479, \\  0.00123515438877373, \\  0.00123441800887077, \\  0.00123368283908399, \\  0.0012329488774247, \\  0.00123221612190749, \\  0.0012314845705502, \\  0.00123075422137396, \\  0.00123002507240312, \\  0.00122929712166529, \\  0.00122857036719131, \\  0.00122784480701529, \\  0.00122712043917451, \\  0.00122639726170954, \\  0.00122567527266414, \\  0.00122495447008528, \\  0.00122423485202315, \\  0.00122351641653113, \\  0.00122279916166583, \\  0.001222083085487, \\  0.00122136818605765, \\  0.00122065446144392, \\  0.00121994190971514, \\  0.00121923052894382, \\  0.00121852031720564, \\  0.00121781127257943, \\  0.00121710339314718, \\  0.00121639667699404, \\  0.00121569112220831, \\  0.00121498672688141, \\  0.00121428348910792, \\  0.00121358140698554, \\  0.0012128804786151, \\  0.00121218070210056, \\  0.00121148207554897, \\  0.00121078459707051, \\  0.00121008826477847, \\  0.00120939307678922, \\  0.00120869903122225, \\  0.00120800612620012, \\  0.00120731435984849, \\  0.0012066237302961, \\  0.00120593423567474, \\  0.00120524587411931, \\  0.00120455864376776, \\  0.00120387254276107, \\  0.00120318756924332, \\  0.00120250372136162, \\  0.00120182099726611, \\  0.00120113939511\\right]$"
      ],
      "text/plain": [
       "[0.0996413896473205, 0.0802539347725695, 0.06469922259066635, 0.05221949906390\n",
       "925, 0.04220682247855051, 0.03417344467173795, 0.027728048064929237, 0.0225566\n",
       "80776050362, 0.018407460972338544, 0.015078305262626223, 0.012407083258545185,\n",
       " 0.010263718636688554, 0.008543851866976945, 0.007163755856595308, 0.006056256\n",
       "800698304, 0.005167461504585275, 0.004454131733191176, 0.003881577666795418, 0\n",
       ".003421967832607471, 0.0030529731725147265, 0.0027566791863252783, 0.002518713\n",
       "1504217867, 0.002327543890171997, 0.0021739199912214186, 0.0020504190795056997\n",
       ", 0.0019510862110609603, 0.0018711437541172658, 0.0018067586290465476, 0.00175\n",
       "48555661939967, 0.0017129672836006158, 0.0016791142853495636, 0.00165170842437\n",
       "6583, 0.0016294755313805967, 0.0016113933403640686, 0.0015966416865781947, 0.0\n",
       "015845625505545604, 0.0015746280016009355, 0.0015664144789977097, 0.0015595821\n",
       "578999456, 0.001553858394674339, 0.0015490244451476598, 0.001544904808697226, \n",
       "0.001541358679042895, 0.0015382730852369104, 0.001535557388692674, 0.001533138\n",
       "8681585128, 0.0015309591775458267, 0.001528971504045537, 0.0015271382880837822\n",
       ", 0.0015254293940398244, 0.0015238206426094324, 0.001522292633315865, 0.001520\n",
       "8297998059123, 0.001519419651909207, 0.0015180521675376296, 0.0015167193048015\n",
       "953, 0.0015154146105765267, 0.001514132906451322, 0.0015128700367609007, 0.001\n",
       "511622666428853, 0.0015103881187731464, 0.001509164245374279, 0.00150794932166\n",
       "76094, 0.0015067419631742704, 0.00150554105829067, 0.0015043457143633166, 0.00\n",
       "1503155214422452, 0.0015019689824675735, 0.0015007865556143222, 0.001499607561\n",
       "7463229, 0.0014984317015838526, 0.0014972587342963, 0.0014960884659578203, 0.0\n",
       "01494920740284331, 0.0014937554312008541, 0.0014925924368774481, 0.00149143167\n",
       "49434797, 0.0014902730786473764, 0.0014891165937749693, 0.0014879621761765135,\n",
       " 0.0014868097897822092, 0.001485659405009483, 0.0014845109974848793, 0.0014833\n",
       "64547018211, 0.0014822200367792162, 0.0014810774526367164, 0.00147993678262813\n",
       "9, 0.0014787980165337456, 0.0014776611455347658, 0.001476526161938967, 0.00147\n",
       "5393058960344, 0.0014742618305420927, 0.0014731324712146513, 0.001472004975981\n",
       "514, 0.0014708793402275712, 0.0014697555596455195, 0.0014686336301766665, 0.00\n",
       "14675135479634135, 0.0014663953093110094, 0.001465278910656883, 0.001464164348\n",
       "545924, 0.0014630516196105822, 0.0014619407205549437, 0.001460831648141824, 0.\n",
       "0014597243991824357, 0.001458618970528034, 0.0014575153590632216, 0.0014564135\n",
       "617004773, 0.001455313575375857, 0.00145421539704541, 0.0014531190236823535, 0\n",
       ".001452024452274764, 0.00145093167982373, 0.001449840703341808, 0.001448751519\n",
       "8518411, 0.0014476641263859423, 0.001446578519984668, 0.001445494697696415, 0.\n",
       "0014444126565768326, 0.0014433323936884237, 0.0014422539061001338, 0.001441177\n",
       "1908871285, 0.001440102245130493, 0.001439029065917058, 0.0014379576503392327,\n",
       " 0.0014368879954948393, 0.001435820098487066, 0.0014347539564242755, 0.0014336\n",
       "895664200178, 0.001432626925592889, 0.0014315660310665218, 0.00143050687996949\n",
       "85, 0.001429449469435343, 0.0014283937966024444, 0.0014273398586140754, 0.0014\n",
       "262876526182904, 0.001425237175767983, 0.001424188425220808, 0.001423141398139\n",
       "1678, 0.0014220960916902004, 0.0014210525030457785, 0.001420010629382459, 0.00\n",
       "14189704678815097, 0.0014179320157288503, 0.001416895270115071, 0.001415860228\n",
       "23542, 0.0014148268872897843, 0.0014137952444826496, 0.0014127652970231626, 0.\n",
       "0014117370421250378, 0.0014107104770066062, 0.0014096855988907843, 0.001408662\n",
       "4050050633, 0.0014076408925814993, 0.0014066210588567197, 0.001405602901071881\n",
       "1, 0.0014045864164727077, 0.0014035716023094542, 0.0014025584558368769, 0.0014\n",
       "015469743142745, 0.0014005371550054472, 0.0013995289951786944, 0.0013985224921\n",
       "068135, 0.0013975176430670914, 0.0013965144453412736, 0.001395512896215591, 0.\n",
       "0013945129929807498, 0.0013935147329318782, 0.0013925181133685835, 0.001391523\n",
       "131594892, 0.0013905297849192712, 0.0013895380706546176, 0.0013885479861182196\n",
       ", 0.0013875595286318224, 0.0013865726955215288, 0.0013855874841178578, 0.00138\n",
       "46038917557184, 0.001383621915774396, 0.0013826415535175304, 0.001381662802333\n",
       "168, 0.0013806856595736793, 0.001379710122595807, 0.0013787361887606184, 0.001\n",
       "3777638554335321, 0.001376793119984305, 0.001375823979786987, 0.00137485643221\n",
       "99803, 0.0013738904746659637, 0.001372926104511952, 0.0013719633191492152, 0.0\n",
       "013710021159733363, 0.001370042492384167, 0.001369084445785845, 0.001368127973\n",
       "5867674, 0.0013671730731995818, 0.0013662197420412, 0.0013652679775327753, 0.0\n",
       "013643177770996967, 0.0013633691381715863, 0.0013624220581822946, 0.0013614765\n",
       "345698824, 0.001360532564776616, 0.0013595901462489792, 0.0013586492764376594,\n",
       " 0.0013577099527974912, 0.0013567721727875443, 0.0013558359338710336, 0.001354\n",
       "9012335153483, 0.0013539680691920398, 0.001353036438376819, 0.0013521063385495\n",
       "476, 0.0013511777671942145, 0.0013502507217989647, 0.0013493251998560557, 0.00\n",
       "13484011988618635, 0.0013474787163168835, 0.001346557749725734, 0.001345638296\n",
       "5971057, 0.0013447203544438107, 0.001343803920782732, 0.0013428889931348385, 0\n",
       ".0013419755690251669, 0.0013410636459828338, 0.0013401532215410092, 0.00133924\n",
       "42932369136, 0.0013383368586118228, 0.001337430915211041, 0.001336526460583925\n",
       "6, 0.0013356234922838456, 0.001334722007868187, 0.0013338220048983783, 0.00133\n",
       "29234809398185, 0.0013320264335619275, 0.0013311308603381226, 0.00133023675884\n",
       "58061, 0.0013293441266663533, 0.0013284529613851184, 0.0013275632605914264, 0.\n",
       "0013266750218785654, 0.001325788242843778, 0.001324902921088248, 0.00132401905\n",
       "42171174, 0.0013231366398394435, 0.001322255675568224, 0.0013213761590203856, \n",
       "0.0013204980878167585, 0.0013196214595820926, 0.001318746271945035, 0.00131787\n",
       "25225381329, 0.001317000208997822, 0.0013161293289644224, 0.001315259880082148\n",
       ", 0.0013143918599990458, 0.0013135252663670678, 0.0013126600968420038, 0.00131\n",
       "17963490835054, 0.0013109340207550601, 0.0013100731095240063, 0.00130921361306\n",
       "15159, 0.0013083555290425747, 0.0013074988551459968, 0.0013066435890544158, 0.\n",
       "0013057897284542764, 0.0013049372710357973, 0.0013040862144930384, 0.001303236\n",
       "5565238194, 0.0013023882948297364, 0.001301541427116195, 0.0013006959510923387\n",
       ", 0.001299851864471091, 0.0012990091649691317, 0.0012981678503069098, 0.001297\n",
       "3279182085897, 0.0012964893664020886, 0.0012956521926190659, 0.001294816394594\n",
       "9041, 0.001293981970068702, 0.0012931489167832782, 0.0012923172324851634, 0.00\n",
       "12914869149245817, 0.0012906579618554776, 0.001289830371035461, 0.001289004140\n",
       "2258288, 0.0012881792671915707, 0.0012873557497013635, 0.0012865335855274974, \n",
       "0.0012857127724459746, 0.0012848933082364425, 0.0012840751906821797, 0.0012832\n",
       "58417570109, 0.0012824429866908167, 0.001281628895838501, 0.001280816142810976\n",
       ", 0.0012800047254096934, 0.0012791946414397054, 0.0012783858887096802, 0.00127\n",
       "75784650318847, 0.0012767723682221707, 0.001275967596100002, 0.001275164146488\n",
       "399, 0.0012743620172139813, 0.0012735612061069259, 0.0012727617110009888, 0.00\n",
       "12719635297334761, 0.0012711666601452419, 0.0012703711000807175, 0.00126957684\n",
       "73878369, 0.001268783899918105, 0.0012679922555265356, 0.0012672019120716803, \n",
       "0.0012664128674155985, 0.0012656251194238714, 0.001264838665965594, 0.00126405\n",
       "35049133433, 0.0012632696341432156, 0.0012624870515347759, 0.00126170575497109\n",
       "16, 0.0012609257423387044, 0.00126014701152762, 0.0012593695604313246, 0.00125\n",
       "85933869467584, 0.0012578184889743109, 0.001257044864417841, 0.001256272511184\n",
       "6462, 0.001255501427185449, 0.0012547316103344193, 0.0012539630585491509, 0.00\n",
       "1253195769750663, 0.0012524297418633845, 0.0012516649728151607, 0.001250901460\n",
       "5372425, 0.0012501392029642807, 0.0012493781980343075, 0.0012486184436887686, \n",
       "0.0012478599378724718, 0.0012471026785336146, 0.0012463466636237557, 0.0012455\n",
       "9189109782, 0.0012448383589141214, 0.001244086065034287, 0.001243335007423318,\n",
       " 0.0012425851840495586, 0.001241836592884692, 0.0012410892319037225, 0.0012403\n",
       "430990849931, 0.0012395981924101752, 0.0012388545098642486, 0.0012381120494354\n",
       "937, 0.001237370809115521, 0.0012366307868992212, 0.0012358919807847946, 0.001\n",
       "2351543887737268, 0.0012344180088707719, 0.0012336828390839937, 0.001232948877\n",
       "4247017, 0.0012322161219074884, 0.0012314845705502034, 0.001230754221373961, 0\n",
       ".0012300250724031193, 0.0012292971216652877, 0.0012285703671913119, 0.00122784\n",
       "48070152854, 0.00122712043917451, 0.0012263972617095444, 0.001225675272664142,\n",
       " 0.0012249544700852822, 0.0012242348520231474, 0.00122351641653113, 0.00122279\n",
       "91616658293, 0.0012220830854870015, 0.0012213681860576502, 0.00122065446144392\n",
       "4, 0.0012199419097151422, 0.0012192305289438232, 0.0012185203172056403, 0.0012\n",
       "178112725794294, 0.001217103393147176, 0.0012163966769940398, 0.00121569112220\n",
       "8308, 0.0012149867268814072, 0.001214283489107923, 0.0012135814069855434, 0.00\n",
       "12128804786151047, 0.001212180702100563, 0.0012114820755489673, 0.001210784597\n",
       "0705093, 0.001210088264778468, 0.0012093930767892189, 0.0012086990312222467, 0\n",
       ".0012080061262001167, 0.0012073143598484895, 0.0012066237302960957, 0.00120593\n",
       "4235674743, 0.0012052458741193149, 0.0012045586437677575, 0.001203872542761073\n",
       "9, 0.0012031875692433231, 0.0012025037213616164, 0.0012018209972661116, 0.0012\n",
       "011393951100004]"
      ]
     },
     "execution_count": 18,
     "metadata": {},
     "output_type": "execute_result"
    }
   ],
   "source": [
    "J_history"
   ]
  },
  {
   "cell_type": "markdown",
   "metadata": {
    "nbgrader": {
     "grade": false,
     "grade_id": "cell-86125cd57f0fdb89",
     "locked": true,
     "schema_version": 1,
     "solution": false
    }
   },
   "source": [
    "You can evaluate the learning process by monitoring the loss as training progress. In the following graph, we visualize the loss as a function of the iterations. This is possible since we are saving the loss value at every iteration in the `J_history` array. This visualization might help you find problems with your code. Notice that since the network converges quickly, we are using logarithmic scale for the number of iterations. "
   ]
  },
  {
   "cell_type": "code",
   "execution_count": 19,
   "metadata": {
    "nbgrader": {
     "grade": false,
     "grade_id": "cell-a565f1f721f6377f",
     "locked": true,
     "schema_version": 1,
     "solution": false
    }
   },
   "outputs": [
    {
     "data": {
      "image/png": "[encoded data removed]",
      "text/plain": [
       "<Figure size 1008x576 with 1 Axes>"
      ]
     },
     "metadata": {
      "needs_background": "light"
     },
     "output_type": "display_data"
    }
   ],
   "source": [
    "plt.plot(np.arange(iterations), J_history)\n",
    "plt.xscale('log')\n",
    "plt.xlabel('Iterations')\n",
    "plt.ylabel('Loss')\n",
    "plt.title('Loss as a function of iterations')\n",
    "plt.show()"
   ]
  },
  {
   "cell_type": "markdown",
   "metadata": {
    "nbgrader": {
     "grade": false,
     "grade_id": "cell-3bdd058ecc5db0eb",
     "locked": true,
     "schema_version": 1,
     "solution": false
    }
   },
   "source": [
    "Implement the pseudo-inverse function `pinv`. **Do not use `np.linalg.pinv`**, instead use only direct matrix multiplication as you saw in class (you can calculate the inverse of a matrix using `np.linalg.inv`). (10 points)"
   ]
  },
  {
   "cell_type": "code",
   "execution_count": 20,
   "metadata": {},
   "outputs": [],
   "source": [
    "def pinv(X, y):\n",
    "    \"\"\"\n",
    "    Calculate the optimal values of the parameters using the pseudoinverse\n",
    "    approach as you saw in class using the *training set*.\n",
    "\n",
    "    Input:\n",
    "    - X: Inputs  (n features over m instances).\n",
    "    - y: True labels (1 value over m instances).\n",
    "\n",
    "    Returns two values:\n",
    "    - theta: The optimal parameters of your model.\n",
    "\n",
    "    ########## DO NOT USE np.linalg.pinv ##############\n",
    "    \"\"\"\n",
    "    \n",
    "    pinv_theta = []\n",
    "    ###########################################################################\n",
    "    # TODO: Implement the pseudoinverse algorithm.                            #\n",
    "    ###########################################################################\n",
    "    pinv_theta = np.linalg.inv(np.transpose(X) @ X) @ np.transpose(X) @ y\n",
    "    ###########################################################################\n",
    "    #                             END OF YOUR CODE                            #\n",
    "    ###########################################################################\n",
    "    return pinv_theta"
   ]
  },
  {
   "cell_type": "code",
   "execution_count": 21,
   "metadata": {},
   "outputs": [
    {
     "data": {
      "text/plain": [
       "array([[1.        , 0.13346614],\n",
       "       [1.        , 0.18525896],\n",
       "       [1.        , 0.35856574],\n",
       "       ...,\n",
       "       [1.        , 0.12649402],\n",
       "       [1.        , 0.1752988 ],\n",
       "       [1.        , 0.18027888]])"
      ]
     },
     "execution_count": 21,
     "metadata": {},
     "output_type": "execute_result"
    }
   ],
   "source": [
    "X_train"
   ]
  },
  {
   "cell_type": "code",
   "execution_count": 22,
   "metadata": {
    "nbgrader": {
     "grade": false,
     "grade_id": "cell-ee89ac06af3087ae",
     "locked": true,
     "schema_version": 1,
     "solution": false
    }
   },
   "outputs": [],
   "source": [
    "theta_pinv = pinv(X_train ,y_train)\n",
    "J_pinv = compute_cost(X_train, y_train, theta_pinv)"
   ]
  },
  {
   "cell_type": "markdown",
   "metadata": {},
   "source": [
    "We can add the loss value for the theta calculated using the psuedo-inverse to our graph. This is another sanity check as the loss of our model should converge to the psuedo-inverse loss."
   ]
  },
  {
   "cell_type": "code",
   "execution_count": 23,
   "metadata": {
    "nbgrader": {
     "grade": false,
     "grade_id": "cell-639b53fc41479335",
     "locked": true,
     "schema_version": 1,
     "solution": false
    }
   },
   "outputs": [
    {
     "data": {
      "image/png": "[encoded data removed]",
      "text/plain": [
       "<Figure size 1008x576 with 1 Axes>"
      ]
     },
     "metadata": {
      "needs_background": "light"
     },
     "output_type": "display_data"
    }
   ],
   "source": [
    "plt.plot(np.arange(iterations), J_history)\n",
    "plt.xscale('log')\n",
    "plt.xlabel('Iterations')\n",
    "plt.ylabel('Loss')\n",
    "plt.title('Loss as a function of iterations')\n",
    "plt.hlines(y = J_pinv, xmin = 0, xmax = len(J_history), color='r',\n",
    "           linewidth = 1, linestyle = 'dashed')\n",
    "plt.show()"
   ]
  },
  {
   "cell_type": "markdown",
   "metadata": {
    "nbgrader": {
     "grade": false,
     "grade_id": "cell-5043aa5363cbe5c9",
     "locked": true,
     "schema_version": 1,
     "solution": false
    }
   },
   "source": [
    "We can use a better approach for the implementation of `gradient_descent`. Instead of performing 40,000 iterations, we wish to stop when the improvement of the loss value is smaller than `1e-8` from one iteration to the next. Implement the function `efficient_gradient_descent`. (5 points)"
   ]
  },
  {
   "cell_type": "code",
   "execution_count": 75,
   "metadata": {},
   "outputs": [],
   "source": [
    "def efficient_gradient_descent(X, y, theta, alpha, num_iters):\n",
    "    \"\"\"\n",
    "    Learn the parameters of your model using the *training set*, but stop \n",
    "    the learning process once the improvement of the loss value is smaller \n",
    "    than 1e-8. This function is very similar to the gradient descent \n",
    "    function you already implemented.\n",
    "\n",
    "    Input:\n",
    "    - X: Inputs  (n features over m instances).\n",
    "    - y: True labels (1 value over m instances).\n",
    "    - theta: The parameters (weights) of the model being learned.\n",
    "    - alpha: The learning rate of your model.\n",
    "    - num_iters: The number of updates performed.\n",
    "\n",
    "    Returns two values:\n",
    "    - theta: The learned parameters of your model.\n",
    "    - J_history: the loss value for every iteration.\n",
    "    \"\"\"\n",
    "    \n",
    "    J_history = [] # Use a python list to save cost in every iteration\n",
    "    theta = theta.copy() # avoid changing the original thetas\n",
    "    ###########################################################################\n",
    "    # TODO: Implement the gradient descent optimization algorithm.            #\n",
    "    ###########################################################################\n",
    "    last_loss = 0\n",
    "    for n in range(num_iters):\n",
    "        theta -= alpha * sum([(np.dot(theta, X[i]) - y[i]) * X[i] for i in range(0,X.shape[0])]) / X.shape[0]\n",
    "        new_loss = compute_cost(X, y, theta)\n",
    "        J_history.append(new_loss)\n",
    "        if new_loss - last_loss <= 1e-8:\n",
    "            break\n",
    "        last_loss = new_loss\n",
    "    ###########################################################################\n",
    "    #                             END OF YOUR CODE                            #\n",
    "    ###########################################################################\n",
    "    return theta, J_history"
   ]
  },
  {
   "cell_type": "code",
   "execution_count": 49,
   "metadata": {},
   "outputs": [
    {
     "data": {
      "text/latex": [
       "$\\displaystyle 1.0 \\cdot 10^{-8}$"
      ],
      "text/plain": [
       "1e-08"
      ]
     },
     "execution_count": 49,
     "metadata": {},
     "output_type": "execute_result"
    }
   ],
   "source": [
    "1e-8"
   ]
  },
  {
   "cell_type": "markdown",
   "metadata": {
    "nbgrader": {
     "grade": false,
     "grade_id": "cell-6e2524d07523d950",
     "locked": true,
     "schema_version": 1,
     "solution": false
    }
   },
   "source": [
    "The learning rate is another factor that determines the performance of our model in terms of speed and accuracy. Complete the function `find_best_alpha`. Make sure you use the training dataset to learn the parameters (thetas) and use those parameters with the validation dataset to compute the cost."
   ]
  },
  {
   "cell_type": "code",
   "execution_count": 70,
   "metadata": {},
   "outputs": [],
   "source": [
    "def find_best_alpha(X_train, y_train, X_val, y_val, iterations):\n",
    "    \"\"\"\n",
    "    Iterate over provided values of alpha and train a model using the \n",
    "    *training* dataset. maintain a python dictionary with alpha as the \n",
    "    key and the loss on the *validation* set as the value.\n",
    "\n",
    "    Input:\n",
    "    - X_train, y_train, X_val, y_val: the training and validation data\n",
    "    - iterations: maximum number of iterations\n",
    "\n",
    "    Returns:\n",
    "    - alpha_dict: A python dictionary - {key (alpha) : value (validation loss)}\n",
    "    \"\"\"\n",
    "    \n",
    "    alphas = [0.00001, 0.00003, 0.0001, 0.0003, 0.001, 0.003, 0.01, 0.03, 0.1, 0.3, 1, 2, 3]\n",
    "    alpha_dict = {}\n",
    "    ###########################################################################\n",
    "    # TODO: Implement the function.                                           #\n",
    "    ###########################################################################\n",
    "    alpha_dict = {alpha: compute_cost(X_val, y_val, efficient_gradient_descent(X_train, y_train, theta, alpha, iterations)[0]) for alpha in alphas}\n",
    "    ###########################################################################\n",
    "    #                             END OF YOUR CODE                            #\n",
    "    ###########################################################################\n",
    "    return alpha_dict"
   ]
  },
  {
   "cell_type": "code",
   "execution_count": 72,
   "metadata": {
    "nbgrader": {
     "grade": false,
     "grade_id": "cell-a8b088fe7a10910a",
     "locked": true,
     "schema_version": 1,
     "solution": false
    },
    "scrolled": true
   },
   "outputs": [
    {
     "ename": "KeyboardInterrupt",
     "evalue": "",
     "output_type": "error",
     "traceback": [
      "\u001b[1;31m---------------------------------------------------------------------------\u001b[0m",
      "\u001b[1;31mKeyboardInterrupt\u001b[0m                         Traceback (most recent call last)",
      "\u001b[1;32m<ipython-input-72-80b77a76ef88>\u001b[0m in \u001b[0;36m<module>\u001b[1;34m\u001b[0m\n\u001b[1;32m----> 1\u001b[1;33m \u001b[0malpha_dict\u001b[0m \u001b[1;33m=\u001b[0m \u001b[0mfind_best_alpha\u001b[0m\u001b[1;33m(\u001b[0m\u001b[0mX_train\u001b[0m\u001b[1;33m,\u001b[0m \u001b[0my_train\u001b[0m\u001b[1;33m,\u001b[0m \u001b[0mX_val\u001b[0m\u001b[1;33m,\u001b[0m \u001b[0my_val\u001b[0m\u001b[1;33m,\u001b[0m \u001b[1;36m40\u001b[0m\u001b[1;33m)\u001b[0m\u001b[1;33m\u001b[0m\u001b[1;33m\u001b[0m\u001b[0m\n\u001b[0m",
      "\u001b[1;32m<ipython-input-70-1263d38335b0>\u001b[0m in \u001b[0;36mfind_best_alpha\u001b[1;34m(X_train, y_train, X_val, y_val, iterations)\u001b[0m\n\u001b[0;32m     18\u001b[0m     \u001b[1;31m# TODO: Implement the function.                                           #\u001b[0m\u001b[1;33m\u001b[0m\u001b[1;33m\u001b[0m\u001b[1;33m\u001b[0m\u001b[0m\n\u001b[0;32m     19\u001b[0m     \u001b[1;31m###########################################################################\u001b[0m\u001b[1;33m\u001b[0m\u001b[1;33m\u001b[0m\u001b[1;33m\u001b[0m\u001b[0m\n\u001b[1;32m---> 20\u001b[1;33m     \u001b[0malpha_dict\u001b[0m \u001b[1;33m=\u001b[0m \u001b[1;33m{\u001b[0m\u001b[0malpha\u001b[0m\u001b[1;33m:\u001b[0m \u001b[0mcompute_cost\u001b[0m\u001b[1;33m(\u001b[0m\u001b[0mX_val\u001b[0m\u001b[1;33m,\u001b[0m \u001b[0my_val\u001b[0m\u001b[1;33m,\u001b[0m \u001b[0mefficient_gradient_descent\u001b[0m\u001b[1;33m(\u001b[0m\u001b[0mX_train\u001b[0m\u001b[1;33m,\u001b[0m \u001b[0my_train\u001b[0m\u001b[1;33m,\u001b[0m \u001b[0mtheta\u001b[0m\u001b[1;33m,\u001b[0m \u001b[0malpha\u001b[0m\u001b[1;33m,\u001b[0m \u001b[0miterations\u001b[0m\u001b[1;33m)\u001b[0m\u001b[1;33m[\u001b[0m\u001b[1;36m0\u001b[0m\u001b[1;33m]\u001b[0m\u001b[1;33m)\u001b[0m \u001b[1;32mfor\u001b[0m \u001b[0malpha\u001b[0m \u001b[1;32min\u001b[0m \u001b[0malphas\u001b[0m\u001b[1;33m}\u001b[0m\u001b[1;33m\u001b[0m\u001b[1;33m\u001b[0m\u001b[0m\n\u001b[0m\u001b[0;32m     21\u001b[0m     \u001b[1;31m###########################################################################\u001b[0m\u001b[1;33m\u001b[0m\u001b[1;33m\u001b[0m\u001b[1;33m\u001b[0m\u001b[0m\n\u001b[0;32m     22\u001b[0m     \u001b[1;31m#                             END OF YOUR CODE                            #\u001b[0m\u001b[1;33m\u001b[0m\u001b[1;33m\u001b[0m\u001b[1;33m\u001b[0m\u001b[0m\n",
      "\u001b[1;32m<ipython-input-70-1263d38335b0>\u001b[0m in \u001b[0;36m<dictcomp>\u001b[1;34m(.0)\u001b[0m\n\u001b[0;32m     18\u001b[0m     \u001b[1;31m# TODO: Implement the function.                                           #\u001b[0m\u001b[1;33m\u001b[0m\u001b[1;33m\u001b[0m\u001b[1;33m\u001b[0m\u001b[0m\n\u001b[0;32m     19\u001b[0m     \u001b[1;31m###########################################################################\u001b[0m\u001b[1;33m\u001b[0m\u001b[1;33m\u001b[0m\u001b[1;33m\u001b[0m\u001b[0m\n\u001b[1;32m---> 20\u001b[1;33m     \u001b[0malpha_dict\u001b[0m \u001b[1;33m=\u001b[0m \u001b[1;33m{\u001b[0m\u001b[0malpha\u001b[0m\u001b[1;33m:\u001b[0m \u001b[0mcompute_cost\u001b[0m\u001b[1;33m(\u001b[0m\u001b[0mX_val\u001b[0m\u001b[1;33m,\u001b[0m \u001b[0my_val\u001b[0m\u001b[1;33m,\u001b[0m \u001b[0mefficient_gradient_descent\u001b[0m\u001b[1;33m(\u001b[0m\u001b[0mX_train\u001b[0m\u001b[1;33m,\u001b[0m \u001b[0my_train\u001b[0m\u001b[1;33m,\u001b[0m \u001b[0mtheta\u001b[0m\u001b[1;33m,\u001b[0m \u001b[0malpha\u001b[0m\u001b[1;33m,\u001b[0m \u001b[0miterations\u001b[0m\u001b[1;33m)\u001b[0m\u001b[1;33m[\u001b[0m\u001b[1;36m0\u001b[0m\u001b[1;33m]\u001b[0m\u001b[1;33m)\u001b[0m \u001b[1;32mfor\u001b[0m \u001b[0malpha\u001b[0m \u001b[1;32min\u001b[0m \u001b[0malphas\u001b[0m\u001b[1;33m}\u001b[0m\u001b[1;33m\u001b[0m\u001b[1;33m\u001b[0m\u001b[0m\n\u001b[0m\u001b[0;32m     21\u001b[0m     \u001b[1;31m###########################################################################\u001b[0m\u001b[1;33m\u001b[0m\u001b[1;33m\u001b[0m\u001b[1;33m\u001b[0m\u001b[0m\n\u001b[0;32m     22\u001b[0m     \u001b[1;31m#                             END OF YOUR CODE                            #\u001b[0m\u001b[1;33m\u001b[0m\u001b[1;33m\u001b[0m\u001b[1;33m\u001b[0m\u001b[0m\n",
      "\u001b[1;32m<ipython-input-69-edc989e90e24>\u001b[0m in \u001b[0;36mefficient_gradient_descent\u001b[1;34m(X, y, theta, alpha, num_iters)\u001b[0m\n\u001b[0;32m     25\u001b[0m     \u001b[0mlast_loss\u001b[0m \u001b[1;33m=\u001b[0m \u001b[1;36m0\u001b[0m\u001b[1;33m\u001b[0m\u001b[1;33m\u001b[0m\u001b[0m\n\u001b[0;32m     26\u001b[0m     \u001b[1;32mfor\u001b[0m \u001b[0mn\u001b[0m \u001b[1;32min\u001b[0m \u001b[0mrange\u001b[0m\u001b[1;33m(\u001b[0m\u001b[0mnum_iters\u001b[0m\u001b[1;33m)\u001b[0m\u001b[1;33m:\u001b[0m\u001b[1;33m\u001b[0m\u001b[1;33m\u001b[0m\u001b[0m\n\u001b[1;32m---> 27\u001b[1;33m         \u001b[0mtheta\u001b[0m \u001b[1;33m-=\u001b[0m \u001b[0malpha\u001b[0m \u001b[1;33m*\u001b[0m \u001b[0msum\u001b[0m\u001b[1;33m(\u001b[0m\u001b[1;33m[\u001b[0m\u001b[1;33m(\u001b[0m\u001b[0mnp\u001b[0m\u001b[1;33m.\u001b[0m\u001b[0mdot\u001b[0m\u001b[1;33m(\u001b[0m\u001b[0mtheta\u001b[0m\u001b[1;33m,\u001b[0m \u001b[0mX\u001b[0m\u001b[1;33m[\u001b[0m\u001b[0mi\u001b[0m\u001b[1;33m]\u001b[0m\u001b[1;33m)\u001b[0m \u001b[1;33m-\u001b[0m \u001b[0my\u001b[0m\u001b[1;33m[\u001b[0m\u001b[0mi\u001b[0m\u001b[1;33m]\u001b[0m\u001b[1;33m)\u001b[0m \u001b[1;33m*\u001b[0m \u001b[0mX\u001b[0m\u001b[1;33m[\u001b[0m\u001b[0mi\u001b[0m\u001b[1;33m]\u001b[0m \u001b[1;32mfor\u001b[0m \u001b[0mi\u001b[0m \u001b[1;32min\u001b[0m \u001b[0mrange\u001b[0m\u001b[1;33m(\u001b[0m\u001b[1;36m0\u001b[0m\u001b[1;33m,\u001b[0m\u001b[0mX\u001b[0m\u001b[1;33m.\u001b[0m\u001b[0mshape\u001b[0m\u001b[1;33m[\u001b[0m\u001b[1;36m0\u001b[0m\u001b[1;33m]\u001b[0m\u001b[1;33m)\u001b[0m\u001b[1;33m]\u001b[0m\u001b[1;33m)\u001b[0m \u001b[1;33m/\u001b[0m \u001b[0mX\u001b[0m\u001b[1;33m.\u001b[0m\u001b[0mshape\u001b[0m\u001b[1;33m[\u001b[0m\u001b[1;36m0\u001b[0m\u001b[1;33m]\u001b[0m\u001b[1;33m\u001b[0m\u001b[1;33m\u001b[0m\u001b[0m\n\u001b[0m\u001b[0;32m     28\u001b[0m         \u001b[0mnew_loss\u001b[0m \u001b[1;33m=\u001b[0m \u001b[0mcompute_cost\u001b[0m\u001b[1;33m(\u001b[0m\u001b[0mX\u001b[0m\u001b[1;33m,\u001b[0m \u001b[0my\u001b[0m\u001b[1;33m,\u001b[0m \u001b[0mtheta\u001b[0m\u001b[1;33m)\u001b[0m\u001b[1;33m\u001b[0m\u001b[1;33m\u001b[0m\u001b[0m\n\u001b[0;32m     29\u001b[0m         \u001b[0mJ_history\u001b[0m\u001b[1;33m.\u001b[0m\u001b[0mappend\u001b[0m\u001b[1;33m(\u001b[0m\u001b[0mnew_loss\u001b[0m\u001b[1;33m)\u001b[0m\u001b[1;33m\u001b[0m\u001b[1;33m\u001b[0m\u001b[0m\n",
      "\u001b[1;32m<ipython-input-69-edc989e90e24>\u001b[0m in \u001b[0;36m<listcomp>\u001b[1;34m(.0)\u001b[0m\n\u001b[0;32m     25\u001b[0m     \u001b[0mlast_loss\u001b[0m \u001b[1;33m=\u001b[0m \u001b[1;36m0\u001b[0m\u001b[1;33m\u001b[0m\u001b[1;33m\u001b[0m\u001b[0m\n\u001b[0;32m     26\u001b[0m     \u001b[1;32mfor\u001b[0m \u001b[0mn\u001b[0m \u001b[1;32min\u001b[0m \u001b[0mrange\u001b[0m\u001b[1;33m(\u001b[0m\u001b[0mnum_iters\u001b[0m\u001b[1;33m)\u001b[0m\u001b[1;33m:\u001b[0m\u001b[1;33m\u001b[0m\u001b[1;33m\u001b[0m\u001b[0m\n\u001b[1;32m---> 27\u001b[1;33m         \u001b[0mtheta\u001b[0m \u001b[1;33m-=\u001b[0m \u001b[0malpha\u001b[0m \u001b[1;33m*\u001b[0m \u001b[0msum\u001b[0m\u001b[1;33m(\u001b[0m\u001b[1;33m[\u001b[0m\u001b[1;33m(\u001b[0m\u001b[0mnp\u001b[0m\u001b[1;33m.\u001b[0m\u001b[0mdot\u001b[0m\u001b[1;33m(\u001b[0m\u001b[0mtheta\u001b[0m\u001b[1;33m,\u001b[0m \u001b[0mX\u001b[0m\u001b[1;33m[\u001b[0m\u001b[0mi\u001b[0m\u001b[1;33m]\u001b[0m\u001b[1;33m)\u001b[0m \u001b[1;33m-\u001b[0m \u001b[0my\u001b[0m\u001b[1;33m[\u001b[0m\u001b[0mi\u001b[0m\u001b[1;33m]\u001b[0m\u001b[1;33m)\u001b[0m \u001b[1;33m*\u001b[0m \u001b[0mX\u001b[0m\u001b[1;33m[\u001b[0m\u001b[0mi\u001b[0m\u001b[1;33m]\u001b[0m \u001b[1;32mfor\u001b[0m \u001b[0mi\u001b[0m \u001b[1;32min\u001b[0m \u001b[0mrange\u001b[0m\u001b[1;33m(\u001b[0m\u001b[1;36m0\u001b[0m\u001b[1;33m,\u001b[0m\u001b[0mX\u001b[0m\u001b[1;33m.\u001b[0m\u001b[0mshape\u001b[0m\u001b[1;33m[\u001b[0m\u001b[1;36m0\u001b[0m\u001b[1;33m]\u001b[0m\u001b[1;33m)\u001b[0m\u001b[1;33m]\u001b[0m\u001b[1;33m)\u001b[0m \u001b[1;33m/\u001b[0m \u001b[0mX\u001b[0m\u001b[1;33m.\u001b[0m\u001b[0mshape\u001b[0m\u001b[1;33m[\u001b[0m\u001b[1;36m0\u001b[0m\u001b[1;33m]\u001b[0m\u001b[1;33m\u001b[0m\u001b[1;33m\u001b[0m\u001b[0m\n\u001b[0m\u001b[0;32m     28\u001b[0m         \u001b[0mnew_loss\u001b[0m \u001b[1;33m=\u001b[0m \u001b[0mcompute_cost\u001b[0m\u001b[1;33m(\u001b[0m\u001b[0mX\u001b[0m\u001b[1;33m,\u001b[0m \u001b[0my\u001b[0m\u001b[1;33m,\u001b[0m \u001b[0mtheta\u001b[0m\u001b[1;33m)\u001b[0m\u001b[1;33m\u001b[0m\u001b[1;33m\u001b[0m\u001b[0m\n\u001b[0;32m     29\u001b[0m         \u001b[0mJ_history\u001b[0m\u001b[1;33m.\u001b[0m\u001b[0mappend\u001b[0m\u001b[1;33m(\u001b[0m\u001b[0mnew_loss\u001b[0m\u001b[1;33m)\u001b[0m\u001b[1;33m\u001b[0m\u001b[1;33m\u001b[0m\u001b[0m\n",
      "\u001b[1;32m<__array_function__ internals>\u001b[0m in \u001b[0;36mdot\u001b[1;34m(*args, **kwargs)\u001b[0m\n",
      "\u001b[1;31mKeyboardInterrupt\u001b[0m: "
     ]
    }
   ],
   "source": [
    "alpha_dict = find_best_alpha(X_train, y_train, X_val, y_val, 40)"
   ]
  },
  {
   "cell_type": "code",
   "execution_count": 27,
   "metadata": {},
   "outputs": [
    {
     "data": {
      "text/latex": [
       "$\\displaystyle \\left\\{ 1.0 \\cdot 10^{-5} : 0.00111988031931092, \\  3.0 \\cdot 10^{-5} : 0.00111988018518559, \\  0.0001 : 0.00111987971574712, \\  0.0003 : 0.00111987837449577, \\  0.001 : 0.00111987368013257, \\  0.003 : 0.00111190972354811, \\  0.01 : 0.00109389657262332, \\  0.03 : 0.00104666325023225, \\  0.1 : 0.000921687132827663, \\  0.3 : 0.000760751540405006, \\  1 : 0.000694199321109249, \\  2 : 0.000693473434443643, \\  3 : 0.000747651350673708\\right\\}$"
      ],
      "text/plain": [
       "{1e-05: 0.0011198803193109177, 3e-05: 0.001119880185185591, 0.0001: 0.00111987\n",
       "9715747124, 0.0003: 0.0011198783744957733, 0.001: 0.001119873680132568, 0.003:\n",
       " 0.0011119097235481059, 0.01: 0.001093896572623321, 0.03: 0.001046663250232249\n",
       "4, 0.1: 0.0009216871328276632, 0.3: 0.0007607515404050055, 1: 0.00069419932110\n",
       "92494, 2: 0.0006934734344436434, 3: 0.0007476513506737082}"
      ]
     },
     "execution_count": 27,
     "metadata": {},
     "output_type": "execute_result"
    }
   ],
   "source": [
    "alpha_dict"
   ]
  },
  {
   "cell_type": "markdown",
   "metadata": {
    "nbgrader": {
     "grade": false,
     "grade_id": "cell-5bd93130c022d3e1",
     "locked": true,
     "schema_version": 1,
     "solution": false
    }
   },
   "source": [
    "Obtain the best learning rate from the dictionary `alpha_dict`. This can be done in a single line using built-in functions."
   ]
  },
  {
   "cell_type": "code",
   "execution_count": 28,
   "metadata": {
    "nbgrader": {
     "grade": false,
     "grade_id": "cell-4f81cf375ac46b73",
     "locked": false,
     "schema_version": 1,
     "solution": true
    }
   },
   "outputs": [
    {
     "name": "stdout",
     "output_type": "stream",
     "text": [
      "2\n"
     ]
    }
   ],
   "source": [
    "best_alpha = None\n",
    "###########################################################################\n",
    "#                            START OF YOUR CODE                           #\n",
    "###########################################################################\n",
    "best_alpha = min(alpha_dict, key=alpha_dict.get)\n",
    "###########################################################################\n",
    "#                             END OF YOUR CODE                            #\n",
    "###########################################################################\n",
    "print(best_alpha)"
   ]
  },
  {
   "cell_type": "code",
   "execution_count": 76,
   "metadata": {},
   "outputs": [
    {
     "name": "stdout",
     "output_type": "stream",
     "text": [
      "[0.77224477 0.19871568]\n"
     ]
    },
    {
     "data": {
      "text/plain": [
       "(array([1.42091503e+14, 2.95567351e+13]),\n",
       " [0.32035812754452697,\n",
       "  0.37742887797710306,\n",
       "  0.44476098184346374,\n",
       "  0.5241068392047131,\n",
       "  0.6177078132637702,\n",
       "  0.7280181176041621,\n",
       "  0.8581338790105818,\n",
       "  1.0114877024051425,\n",
       "  1.1923608874269263,\n",
       "  1.4055493372258518,\n",
       "  1.6569783485359246,\n",
       "  1.9533426862310346,\n",
       "  2.3028489010941016,\n",
       "  2.714835690011869,\n",
       "  3.2006760643578733,\n",
       "  3.7733890500533955,\n",
       "  4.448743895560401,\n",
       "  5.244881431621115,\n",
       "  6.183675784502705,\n",
       "  7.29039428722164,\n",
       "  8.595390110333224,\n",
       "  10.133844861217773,\n",
       "  11.947889900432713,\n",
       "  14.086497595157438,\n",
       "  16.608162257772623,\n",
       "  19.581037106316245,\n",
       "  23.086351069222925,\n",
       "  27.218932581779875,\n",
       "  32.0916005513228,\n",
       "  37.836278392194494,\n",
       "  44.60968261818089,\n",
       "  52.59531825229676,\n",
       "  62.01090564999445,\n",
       "  73.11167173759627,\n",
       "  86.2001170327263,\n",
       "  101.63119017058206,\n",
       "  119.82521968776557,\n",
       "  141.27580163213008,\n",
       "  166.56702811881874,\n",
       "  196.38525683644318,\n",
       "  231.54219343716989,\n",
       "  272.99218551824777,\n",
       "  321.8633040662031,\n",
       "  379.4824659863951,\n",
       "  447.4174742621738,\n",
       "  527.5131960400832,\n",
       "  621.9486496352904,\n",
       "  733.2887521058836,\n",
       "  864.5621056240459,\n",
       "  1019.3346220375915,\n",
       "  1201.8158307649949,\n",
       "  1416.963186449901,\n",
       "  1670.6277306931722,\n",
       "  1969.7013684858011,\n",
       "  2322.3168936636343,\n",
       "  2738.055364072522,\n",
       "  3228.221299875845,\n",
       "  3806.1340299420963,\n",
       "  4487.50692431283,\n",
       "  5290.855967034925,\n",
       "  6238.023066491156,\n",
       "  7354.748164415775,\n",
       "  8671.3921996331,\n",
       "  10223.73722358266,\n",
       "  12053.986168836416,\n",
       "  14211.880702229615,\n",
       "  16756.08492451762,\n",
       "  19755.745825549493,\n",
       "  23292.4096890633,\n",
       "  27462.198874559603,\n",
       "  32378.467571453995,\n",
       "  38174.836577782495,\n",
       "  45008.87546493959,\n",
       "  53066.331503303496,\n",
       "  62566.237053099074,\n",
       "  73766.80015729915,\n",
       "  86972.49128456422,\n",
       "  102542.24576666491,\n",
       "  120899.29987018785,\n",
       "  142542.60921248503,\n",
       "  168060.50413829312,\n",
       "  198146.58132610732,\n",
       "  233618.6654105761,\n",
       "  275440.92186553957,\n",
       "  324750.1913592896,\n",
       "  382886.7544351327,\n",
       "  451430.91062301764,\n",
       "  532245.7741716111,\n",
       "  627528.0896080466,\n",
       "  739867.7567019184,\n",
       "  872318.4304869934,\n",
       "  1028480.3071828157,\n",
       "  1212598.2199812522,\n",
       "  1429676.7665829845,\n",
       "  1685616.61905449,\n",
       "  1987374.6170415648,\n",
       "  2343153.1898138523,\n",
       "  2762622.965055663,\n",
       "  3257186.011300617,\n",
       "  3840285.3597745826,\n",
       "  4527770.851693146,\n",
       "  5338329.48962665,\n",
       "  6293993.900554084,\n",
       "  7420740.665766921,\n",
       "  8749197.015924495,\n",
       "  10315472.68327715,\n",
       "  12162142.137352183,\n",
       "  14339401.074031243,\n",
       "  16906431.65431472,\n",
       "  19933010.29086857,\n",
       "  23501405.2681802,\n",
       "  27708611.899926875,\n",
       "  32668990.17485807,\n",
       "  38517372.04704134,\n",
       "  45412727.74586424,\n",
       "  53542485.4452908,\n",
       "  63127627.464229204,\n",
       "  74428695.2930557,\n",
       "  87752873.41641453,\n",
       "  103462337.1855714,\n",
       "  121984099.55111194,\n",
       "  143821615.75635147,\n",
       "  169568470.68680355,\n",
       "  199924510.90015942,\n",
       "  235714870.6868667,\n",
       "  277912397.57591224,\n",
       "  327664099.5738592,\n",
       "  386322319.24786144,\n",
       "  455481496.9372154,\n",
       "  537021506.2346523,\n",
       "  633158757.1663604,\n",
       "  746506437.2089349,\n",
       "  880145548.1188371,\n",
       "  1037708647.2711041,\n",
       "  1223478593.8138306,\n",
       "  1442504957.680801,\n",
       "  1700741283.9033947,\n",
       "  2005206912.7444413,\n",
       "  2364177787.3457274,\n",
       "  2787411399.5176744,\n",
       "  3286412026.980462,\n",
       "  3874743429.593404,\n",
       "  4568397549.849786,\n",
       "  5386229190.182588,\n",
       "  6350468535.9585905,\n",
       "  7487325397.475776,\n",
       "  8827701658.238129,\n",
       "  10408031227.06686,\n",
       "  12271270399.304504,\n",
       "  14468065466.997356,\n",
       "  17058129402.525305,\n",
       "  20111864942.586033,\n",
       "  23712278292.73659,\n",
       "  27957235360.2447,\n",
       "  32962121963.365143,\n",
       "  38862980196.93772,\n",
       "  45820206346.924324,\n",
       "  54022910717.91011,\n",
       "  63694058046.68892,\n",
       "  75096528049.15057,\n",
       "  88540261031.15367,\n",
       "  104390682584.29462,\n",
       "  123078636593.1265,\n",
       "  145112096304.58722,\n",
       "  171089972055.77298,\n",
       "  201718390689.6821,\n",
       "  237829889478.10062,\n",
       "  280406045937.14185,\n",
       "  330604159025.4524,\n",
       "  389788706568.8136,\n",
       "  459568434416.7595,\n",
       "  541840085012.30457,\n",
       "  638839954509.0729,\n",
       "  753204679300.3618,\n",
       "  888042904850.9299,\n",
       "  1047019784272.6287,\n",
       "  1234456604177.5708,\n",
       "  1455448245059.1804,\n",
       "  1716001669822.0847,\n",
       "  2023199203935.9329,\n",
       "  2385391046447.053,\n",
       "  2812422243595.517,\n",
       "  3315900295749.9595,\n",
       "  3909510670468.0547,\n",
       "  4609388799263.262,\n",
       "  5434558668175.763,\n",
       "  6407449925441.672,\n",
       "  7554507560483.439,\n",
       "  8906910728296.025,\n",
       "  10501420256183.236,\n",
       "  12381377871848.143,\n",
       "  14597884311325.508,\n",
       "  17211188332503.857,\n",
       "  20292324387395.605,\n",
       "  23925043471168.5,\n",
       "  28208089628699.973,\n",
       "  33257884001902.527,\n",
       "  39211689371326.41,\n",
       "  46231341214362.82,\n",
       "  54507646692564.15,\n",
       "  64265571145675.85,\n",
       "  75770353065530.62,\n",
       "  89334713771981.2,\n",
       "  105327357756910.16,\n",
       "  124182994758293.64,\n",
       "  146414155975458.97,\n",
       "  172625125620263.72,\n",
       "  203528366480825.2,\n",
       "  239963885984654.66,\n",
       "  282922069156323.1,\n",
       "  333570599123128.9,\n",
       "  393286196905791.56,\n",
       "  463692043253861.25,\n",
       "  546701899706374.0,\n",
       "  644572128185615.4,\n",
       "  759963023096253.0,\n",
       "  896011123068325.0,\n",
       "  1056414467891552.6,\n",
       "  1245533118104334.8,\n",
       "  1468507669522805.0,\n",
       "  1731398984180243.2,\n",
       "  2041352935795498.0,\n",
       "  2406794647887701.0,\n",
       "  2837657504257353.0,\n",
       "  3345653156798755.0,\n",
       "  3944589869918855.5,\n",
       "  4650747854795763.0,\n",
       "  5483321795714264.0,\n",
       "  6464942597212828.0,\n",
       "  7622292534045820.0,\n",
       "  8986830524935496.0,\n",
       "  1.0595647244336696e+16,\n",
       "  1.2492473315808068e+16,\n",
       "  1.472886799148185e+16,\n",
       "  1.736562062822439e+16,\n",
       "  2.0474403055127036e+16,\n",
       "  2.413971774683019e+16,\n",
       "  2.8461194757549492e+16,\n",
       "  3.3556299850839828e+16,\n",
       "  3.956352743697245e+16,\n",
       "  4.6646165108012616e+16,\n",
       "  5.499673209751317e+16,\n",
       "  6.4842212310532136e+16,\n",
       "  7.64502241672982e+16,\n",
       "  9.013629496847702e+16,\n",
       "  1.0627243751260056e+17,\n",
       "  1.2529726209425534e+17,\n",
       "  1.4772789874565645e+17,\n",
       "  1.7417405379050816e+17,\n",
       "  2.0535458279311062e+17,\n",
       "  2.4211703038649254e+17,\n",
       "  2.854606681080455e+17,\n",
       "  3.365636564541368e+17,\n",
       "  3.968150694683482e+17,\n",
       "  4.678526523514668e+17,\n",
       "  5.5160733841472954e+17,\n",
       "  6.503557354301678e+17,\n",
       "  7.667820080538717e+17,\n",
       "  9.040508384019338e+17,\n",
       "  1.0658934479821559e+18,\n",
       "  1.2567090192179976e+18,\n",
       "  1.4816842733892872e+18,\n",
       "  1.7469344553406044e+18,\n",
       "  2.0596695571825536e+18,\n",
       "  2.42839029925571e+18,\n",
       "  2.8631191954819323e+18,\n",
       "  3.3756729838896154e+18,\n",
       "  3.9799838274787927e+18,\n",
       "  4.692478016262389e+18,\n",
       "  5.532522464307105e+18,\n",
       "  6.522951138393203e+18,\n",
       "  7.69068572759837e+18,\n",
       "  9.067467424760643e+18,\n",
       "  1.0690719710993846e+19,\n",
       "  1.2604565595343116e+19,\n",
       "  1.4861026960039752e+19,\n",
       "  1.7521438611785495e+19,\n",
       "  2.065811547560439e+19,\n",
       "  2.4356318248682426e+19,\n",
       "  2.871657094431748e+19,\n",
       "  3.3857393321120956e+19,\n",
       "  3.991852246996485e+19,\n",
       "  4.7064711127393395e+19,\n",
       "  5.549020596069439e+19,\n",
       "  6.5424027552739025e+19,\n",
       "  7.713619560636477e+19,\n",
       "  9.094506858091348e+19,\n",
       "  1.0722599726585904e+20,\n",
       "  1.2642152751173208e+20,\n",
       "  1.4905342944745213e+20,\n",
       "  1.7573688016057854e+20,\n",
       "  2.0719718535198936e+20,\n",
       "  2.4428949449062407e+20,\n",
       "  2.880220453627479e+20,\n",
       "  3.395835698457551e+20,\n",
       "  4.003756058462486e+20,\n",
       "  4.7205059370087966e+20,\n",
       "  5.56556792570725e+20,\n",
       "  6.561912377402902e+20,\n",
       "  7.736621782985592e+20,\n",
       "  9.121626923744074e+20,\n",
       "  1.0754574809247643e+21,\n",
       "  1.2679851992919171e+21,\n",
       "  1.4949791080916336e+21,\n",
       "  1.7626093229467553e+21,\n",
       "  2.0781505296784449e+21,\n",
       "  2.4501797237647585e+21,\n",
       "  2.8888093489920433e+21,\n",
       "  3.40596217244066e+21,\n",
       "  4.0156953674164727e+21,\n",
       "  4.734582613504055e+21,\n",
       "  5.582164599929947e+21,\n",
       "  6.58148017775294e+21,\n",
       "  7.759692598584278e+21,\n",
       "  9.14882786216655e+21,\n",
       "  1.0786645242470956e+22,\n",
       "  1.2717663654824445e+22,\n",
       "  1.4994371762632622e+22,\n",
       "  1.767865471664278e+22,\n",
       "  2.0843476308166166e+22,\n",
       "  2.4574862260310395e+22,\n",
       "  2.897423856675167e+22,\n",
       "  3.4161188438434222e+22,\n",
       "  4.027670279713023e+22,\n",
       "  4.748701267029828e+22,\n",
       "  5.598810765884576e+22,\n",
       "  6.601106329813728e+22,\n",
       "  7.782832211980002e+22,\n",
       "  9.176109914524367e+22,\n",
       "  1.0818811310595044e+23,\n",
       "  1.2755588072129958e+23,\n",
       "  1.5039085385149704e+23,\n",
       "  1.7731372943596275e+23,\n",
       "  2.090563211878223e+23,\n",
       "  2.4648145164850375e+23,\n",
       "  2.9060640530535154e+23,\n",
       "  3.426305802715346e+23,\n",
       "  4.0396809015224045e+23,\n",
       "  4.7628620227626773e+23,\n",
       "  5.615506571156736e+23,\n",
       "  6.620791007591194e+23,\n",
       "  7.806040828329088e+23,\n",
       "  9.203473322700628e+23,\n",
       "  1.0851073298804941e+24,\n",
       "  1.2793625581074067e+24,\n",
       "  1.5083932344898883e+24,\n",
       "  1.778424837772908e+24,\n",
       "  2.0967973279707422e+24,\n",
       "  2.4721646600994327e+24,\n",
       "  2.914730014731202e+24,\n",
       "  3.4365231393742866e+24,\n",
       "  4.051727339330954e+24,\n",
       "  4.777065006252453e+24,\n",
       "  5.632252163772214e+24,\n",
       "  6.640534385610624e+24,\n",
       "  7.829318653400542e+24,\n",
       "  9.2309183293009e+24,\n",
       "  1.0883431493136892e+25,\n",
       "  1.2831776518899443e+25,\n",
       "  1.5128913039496022e+25,\n",
       "  1.7837281487837608e+25,\n",
       "  2.1030500343661743e+25,\n",
       "  2.479536722041053e+25,\n",
       "  2.923421818541245e+25,\n",
       "  3.4467709444077246e+25,\n",
       "  4.0638096999431705e+25,\n",
       "  4.791310343423412e+25,\n",
       "  5.649047692198145e+25,\n",
       "  6.660336638917882e+25,\n",
       "  7.85266589357654e+25,\n",
       "  9.258445177653963e+25,\n",
       "  1.0915886180480417e+26,\n",
       "  1.2870041223854651e+26,\n",
       "  1.5174027867742689e+26,\n",
       "  1.7890472744116864e+26,\n",
       "  2.109321386501467e+26,\n",
       "  2.486930767671074e+26,\n",
       "  2.93213954154569e+26,\n",
       "  3.457049308673367e+26,\n",
       "  4.07592809048197e+26,\n",
       "  4.805598160575624e+26,\n",
       "  5.665893305344662e+26,\n",
       "  6.680197943080718e+26,\n",
       "  7.876082755855017e+26,\n",
       "  9.286054111814082e+26,\n",
       "  1.0948437648580518e+27,\n",
       "  1.2908420035195972e+27,\n",
       "  1.5219277229628692e+27,\n",
       "  1.7943822618162583e+27,\n",
       "  2.1156114399785892e+27,\n",
       "  2.4943468625453106e+27,\n",
       "  2.940883261036126e+27,\n",
       "  3.467358323299545e+27,\n",
       "  4.088082618389513e+27,\n",
       "  4.8199285843854835e+27,\n",
       "  5.682789152565768e+27,\n",
       "  6.700118474190192e+27,\n",
       "  7.899569447850454e+27,\n",
       "  9.313745376563073e+27,\n",
       "  1.0981086186039345e+28])"
      ]
     },
     "execution_count": 76,
     "metadata": {},
     "output_type": "execute_result"
    }
   ],
   "source": [
    "theta = np.random.random(size=2)\n",
    "print(theta)\n",
    "efficient_gradient_descent(X_train, y_train, theta, best_alpha, 400)"
   ]
  },
  {
   "cell_type": "markdown",
   "metadata": {
    "nbgrader": {
     "grade": false,
     "grade_id": "cell-d16367ecb7183996",
     "locked": true,
     "schema_version": 1,
     "solution": false
    }
   },
   "source": [
    "Pick the best three alpha values you just calculated and provide **one** graph with three lines indicating the training loss as a function of iterations (Use 10,000 iterations). Note you are required to provide general code for this purpose (no hard-coding). Make sure the visualization is clear and informative. (5 points)"
   ]
  },
  {
   "cell_type": "code",
   "execution_count": 68,
   "metadata": {
    "nbgrader": {
     "grade": true,
     "grade_id": "cell-448638e817503ca3",
     "locked": false,
     "points": 0,
     "schema_version": 1,
     "solution": true
    }
   },
   "outputs": [
    {
     "name": "stderr",
     "output_type": "stream",
     "text": [
      "<ipython-input-68-300ba390302e>:7: UserWarning: Data has no positive values, and therefore cannot be log-scaled.\n",
      "  plt.xscale('log')\n"
     ]
    },
    {
     "data": {
      "image/png": "[encoded data removed]",
      "text/plain": [
       "<Figure size 1008x576 with 1 Axes>"
      ]
     },
     "metadata": {
      "needs_background": "light"
     },
     "output_type": "display_data"
    }
   ],
   "source": [
    "###########################################################################\n",
    "#                            START OF YOUR CODE                           #\n",
    "###########################################################################\n",
    "theta = np.random.random(size=2)\n",
    "history = efficient_gradient_descent(X_train, y_train, theta, best_alpha, 10000)[1]\n",
    "plt.plot(np.arange(len(history)), history)\n",
    "plt.xscale('log')\n",
    "plt.xlabel('Iterations')\n",
    "plt.ylabel('Loss')\n",
    "plt.title('Loss as a function of iterations')\n",
    "plt.show()\n",
    "###########################################################################\n",
    "#                             END OF YOUR CODE                            #\n",
    "###########################################################################"
   ]
  },
  {
   "cell_type": "markdown",
   "metadata": {
    "nbgrader": {
     "grade": false,
     "grade_id": "cell-b73893d236bff1d5",
     "locked": true,
     "schema_version": 1,
     "solution": false
    }
   },
   "source": [
    "This is yet another sanity check. This function plots the regression lines of your model and the model based on the pseudoinverse calculation. Both models should exhibit the same trend through the data. "
   ]
  },
  {
   "cell_type": "code",
   "execution_count": null,
   "metadata": {
    "nbgrader": {
     "grade": false,
     "grade_id": "cell-c7ee7d8763464371",
     "locked": true,
     "schema_version": 1,
     "solution": false
    }
   },
   "outputs": [],
   "source": [
    "plt.figure(figsize=(7, 7))\n",
    "plt.plot(X_train[:,1], y_train, 'ro', ms=1, mec='k')\n",
    "plt.ylabel('Price in USD')\n",
    "plt.xlabel('sq.ft')\n",
    "plt.plot(X_train[:, 1], np.dot(X_train, theta), 'o')\n",
    "plt.plot(X_train[:, 1], np.dot(X_train, theta_pinv), '-')\n",
    "\n",
    "plt.legend(['Training data', 'Linear regression', 'Best theta']);"
   ]
  },
  {
   "cell_type": "markdown",
   "metadata": {
    "nbgrader": {
     "grade": false,
     "grade_id": "cell-e77c602466fab37d",
     "locked": true,
     "schema_version": 1,
     "solution": false
    }
   },
   "source": [
    "## Part 2: Multivariate Linear Regression (30 points)\n",
    "\n",
    "In most cases, you will deal with databases that have more than one feature. It can be as little as two features and up to thousands of features. In those cases, we use a multiple linear regression model. The regression equation is almost the same as the simple linear regression equation:\n",
    "\n",
    "$$\n",
    "\\hat{y} = h_\\theta(\\vec{x}) = \\theta^T \\vec{x} = \\theta_0 + \\theta_1 x_1 + ... + \\theta_n x_n\n",
    "$$\n",
    "\n",
    "\n",
    "If you wrote vectorized code, this part should be straightforward. If your code is not vectorized, you should go back and edit your functions such that they support both multivariate and single variable regression. **Your code should not check the dimensionality of the input before running**."
   ]
  },
  {
   "cell_type": "code",
   "execution_count": null,
   "metadata": {
    "nbgrader": {
     "grade": false,
     "grade_id": "cell-15626dda8db26550",
     "locked": true,
     "schema_version": 1,
     "solution": false
    }
   },
   "outputs": [],
   "source": [
    "# Read comma separated data\n",
    "df = pd.read_csv('data.csv')\n",
    "df.head()"
   ]
  },
  {
   "cell_type": "markdown",
   "metadata": {
    "nbgrader": {
     "grade": false,
     "grade_id": "cell-2dc0f4dc3491520c",
     "locked": true,
     "schema_version": 1,
     "solution": false
    }
   },
   "source": [
    "## Preprocessing\n",
    "\n",
    "Like in the single variable case, we need to create a numpy array from the dataframe. Before doing so, we should notice that some of the features are clearly irrelevant."
   ]
  },
  {
   "cell_type": "code",
   "execution_count": null,
   "metadata": {
    "nbgrader": {
     "grade": true,
     "grade_id": "cell-a87b4027bd3bda4b",
     "locked": false,
     "points": 0,
     "schema_version": 1,
     "solution": true
    }
   },
   "outputs": [],
   "source": [
    "X = df.drop(columns=['price', 'id', 'date']).values\n",
    "y = df['price'].values"
   ]
  },
  {
   "cell_type": "markdown",
   "metadata": {
    "nbgrader": {
     "grade": false,
     "grade_id": "cell-1aa12f54513b1efa",
     "locked": true,
     "schema_version": 1,
     "solution": false
    }
   },
   "source": [
    "Use the **same** `preprocess` function you implemented previously. Notice that proper vectorized implementation should work regardless of the dimensionality of the input. You might want to check that your code in the previous parts still works."
   ]
  },
  {
   "cell_type": "code",
   "execution_count": null,
   "metadata": {
    "nbgrader": {
     "grade": false,
     "grade_id": "cell-f40a9df530db9399",
     "locked": true,
     "schema_version": 1,
     "solution": false
    }
   },
   "outputs": [],
   "source": [
    "# preprocessing\n",
    "X, y = preprocess(X, y)"
   ]
  },
  {
   "cell_type": "code",
   "execution_count": null,
   "metadata": {},
   "outputs": [],
   "source": [
    "# training and validation split\n",
    "np.random.seed(42)\n",
    "indices = np.random.permutation(X.shape[0])\n",
    "idx_train, idx_val = indices[:int(0.8*X.shape[0])], indices[int(0.8*X.shape[0]):]\n",
    "X_train, X_val = X[idx_train,:], X[idx_val,:]\n",
    "y_train, y_val = y[idx_train], y[idx_val]"
   ]
  },
  {
   "cell_type": "markdown",
   "metadata": {},
   "source": [
    "Using 3D visualization, we can still observe trends in the data. Visualizing additional dimensions requires advanced techniques we will learn later in the course."
   ]
  },
  {
   "cell_type": "code",
   "execution_count": null,
   "metadata": {
    "nbgrader": {
     "grade": false,
     "grade_id": "cell-0c68216a26a9b5af",
     "locked": true,
     "schema_version": 1,
     "solution": false
    }
   },
   "outputs": [],
   "source": [
    "%matplotlib inline\n",
    "import mpl_toolkits.mplot3d.axes3d as p3\n",
    "fig = plt.figure(figsize=(5,5))\n",
    "ax = p3.Axes3D(fig)\n",
    "xx = X_train[:, 1][:1000]\n",
    "yy = X_train[:, 2][:1000]\n",
    "zz = y_train[:1000]\n",
    "ax.scatter(xx, yy, zz, marker='o')\n",
    "ax.set_xlabel('bathrooms')\n",
    "ax.set_ylabel('sqft_living')\n",
    "ax.set_zlabel('price')\n",
    "plt.show()"
   ]
  },
  {
   "cell_type": "markdown",
   "metadata": {
    "nbgrader": {
     "grade": false,
     "grade_id": "cell-70fcd47d69caea00",
     "locked": true,
     "schema_version": 1,
     "solution": false
    }
   },
   "source": [
    "Use the bias trick again (add a column of ones as the zeroth column in the both the training and validation datasets)."
   ]
  },
  {
   "cell_type": "code",
   "execution_count": null,
   "metadata": {
    "nbgrader": {
     "grade": true,
     "grade_id": "cell-2985911f4b7af3e1",
     "locked": false,
     "points": 0,
     "schema_version": 1,
     "solution": true
    }
   },
   "outputs": [],
   "source": [
    "###########################################################################\n",
    "#                            START OF YOUR CODE                           #\n",
    "###########################################################################\n",
    "pass\n",
    "###########################################################################\n",
    "#                             END OF YOUR CODE                            #\n",
    "###########################################################################"
   ]
  },
  {
   "cell_type": "markdown",
   "metadata": {
    "nbgrader": {
     "grade": false,
     "grade_id": "cell-2b89288ff61c80ac",
     "locked": true,
     "schema_version": 1,
     "solution": false
    }
   },
   "source": [
    "Make sure the functions `compute_cost` (10 points), `gradient_descent` (15 points), and `pinv` (5 points) work on the multi-dimensional dataset. If you make any changes, make sure your code still works on the single variable regression model. "
   ]
  },
  {
   "cell_type": "code",
   "execution_count": null,
   "metadata": {
    "nbgrader": {
     "grade": false,
     "grade_id": "cell-81ab741781b2f6ec",
     "locked": true,
     "schema_version": 1,
     "solution": false
    }
   },
   "outputs": [],
   "source": [
    "shape = X_train.shape[1]\n",
    "theta = np.ones(shape)\n",
    "J = compute_cost(X_train, y_train, theta)"
   ]
  },
  {
   "cell_type": "code",
   "execution_count": null,
   "metadata": {
    "nbgrader": {
     "grade": false,
     "grade_id": "cell-6f25fb05bd6c648a",
     "locked": true,
     "schema_version": 1,
     "solution": false
    }
   },
   "outputs": [],
   "source": [
    "np.random.seed(42)\n",
    "shape = X_train.shape[1]\n",
    "theta = np.random.random(shape)\n",
    "iterations = 40000\n",
    "theta, J_history = gradient_descent(X_train ,y_train, theta, best_alpha, iterations)"
   ]
  },
  {
   "cell_type": "code",
   "execution_count": null,
   "metadata": {
    "nbgrader": {
     "grade": false,
     "grade_id": "cell-827d1de1293be51f",
     "locked": true,
     "schema_version": 1,
     "solution": false
    }
   },
   "outputs": [],
   "source": [
    "theta_pinv = pinv(X_train ,y_train)\n",
    "J_pinv = compute_cost(X_train, y_train, theta_pinv)"
   ]
  },
  {
   "cell_type": "markdown",
   "metadata": {},
   "source": [
    "We can use visualization to make sure the code works well. Notice we use logarithmic scale for the number of iterations, since gradient descent converges after ~500 iterations."
   ]
  },
  {
   "cell_type": "code",
   "execution_count": null,
   "metadata": {
    "nbgrader": {
     "grade": false,
     "grade_id": "cell-4fa207b72d2445c2",
     "locked": true,
     "schema_version": 1,
     "solution": false
    }
   },
   "outputs": [],
   "source": [
    "plt.plot(np.arange(iterations), J_history)\n",
    "plt.xscale('log')\n",
    "plt.xlabel('Iterations')\n",
    "plt.ylabel('Loss')\n",
    "plt.title('Loss as a function of iterations - multivariate linear regression')\n",
    "plt.hlines(y = J_pinv, xmin = 0, xmax = len(J_history), color='r',\n",
    "           linewidth = 1, linestyle = 'dashed')\n",
    "plt.show()"
   ]
  },
  {
   "cell_type": "markdown",
   "metadata": {
    "nbgrader": {
     "grade": false,
     "grade_id": "cell-cad652570cee3629",
     "locked": true,
     "schema_version": 1,
     "solution": false
    }
   },
   "source": [
    "## Part 3: Find best features for regression (10 points)\n",
    "\n",
    "Adding additional features to our regression model makes it more complicated but does not necessarily improves performance.\n",
    "Use forward and backward selection and find 4 features that best minimizes the loss. First, we will reload the dataset as a dataframe in order to access the feature names."
   ]
  },
  {
   "cell_type": "code",
   "execution_count": null,
   "metadata": {},
   "outputs": [],
   "source": [
    "columns_to_drop = ['price', 'id', 'date']\n",
    "all_features = df.drop(columns=columns_to_drop)\n",
    "all_features.head(5)"
   ]
  },
  {
   "cell_type": "markdown",
   "metadata": {},
   "source": [
    "### Forward Feature Selection\n",
    "\n",
    "Complete the function `forward_selection`. Train the model using a single feature at a time, and choose the best feature using the validation dataset. Next, check which feature performs best when added to the feature you previously chose. Repeat this process until you reach 4 features + bias. You are free to use any arguments you need."
   ]
  },
  {
   "cell_type": "code",
   "execution_count": null,
   "metadata": {},
   "outputs": [],
   "source": [
    "def forward_selection():\n",
    "    \"\"\"\n",
    "    Train the model using the training set using a single feature. \n",
    "    Choose the best feature according to the validation set. Next, \n",
    "    check which feature performs best when added to the feature\n",
    "    you previously chose. Repeat this process until you reach 4 \n",
    "    features and the bias. Don't forget the bias trick.\n",
    "\n",
    "    Returns:\n",
    "    - The names of the best features using forward selection.\n",
    "    \"\"\"\n",
    "    np.random.seed(42)\n",
    "    best_features = None\n",
    "    ###########################################################################\n",
    "    # TODO: Implement the function.                                           #\n",
    "    ###########################################################################\n",
    "    pass\n",
    "    ###########################################################################\n",
    "    #                             END OF YOUR CODE                            #\n",
    "    ###########################################################################\n",
    "    return best_features"
   ]
  },
  {
   "cell_type": "markdown",
   "metadata": {},
   "source": [
    "### Backward Feature Selection\n",
    "\n",
    "Complete the function `backward_selection`. Train the model with all but one of the features at a time and remove the worst feature (the feature that its absence yields the best loss value using the validation dataset). Next, remove an additional feature along with the feature you previously removed. Repeat this process until you reach 4 features + bias. You are free to use any arguments you need."
   ]
  },
  {
   "cell_type": "code",
   "execution_count": null,
   "metadata": {},
   "outputs": [],
   "source": [
    "def backward_selection():\n",
    "    \"\"\"\n",
    "    Train the model using the training set using all but one of the \n",
    "    features at a time. Remove the worst feature according to the \n",
    "    validation set. Next, remove an additional feature along with the \n",
    "    feature you previously removed. Repeat this process until you \n",
    "    reach 4 features and the bias. Don't forget the bias trick.\n",
    "\n",
    "    Returns:\n",
    "    - The names of the best features using backward selection.\n",
    "    \"\"\"\n",
    "    np.random.seed(42)\n",
    "    best_features = None\n",
    "    ###########################################################################\n",
    "    # TODO: Implement the function.                                           #\n",
    "    ###########################################################################\n",
    "    pass\n",
    "    ###########################################################################\n",
    "    #                             END OF YOUR CODE                            #\n",
    "    ###########################################################################\n",
    "    return best_features"
   ]
  },
  {
   "cell_type": "code",
   "execution_count": null,
   "metadata": {},
   "outputs": [],
   "source": [
    "backward_selection()"
   ]
  },
  {
   "cell_type": "markdown",
   "metadata": {},
   "source": [
    "Give an explanations to the results. Do they make sense?"
   ]
  },
  {
   "cell_type": "markdown",
   "metadata": {},
   "source": [
    "### Use this Markdown cell for your answer"
   ]
  },
  {
   "cell_type": "markdown",
   "metadata": {},
   "source": [
    "## Part 4: Adaptive Learning Rate (10 points)\n",
    "\n",
    "So far, we kept the learning rate alpha constant during training. However, changing alpha during training might improve convergence in terms of the global minimum found and running time. Implement the adaptive learning rate method based on the gradient descent algorithm above. \n",
    "\n",
    "**Your task is to find proper hyper-parameter values for the adaptive technique and compare this technique to the constant learning rate. Use clear visualizations of the validation loss and the learning rate as a function of the iteration**. \n",
    "\n",
    "Time based decay: this method reduces the learning rate every iteration according to the following formula:\n",
    "\n",
    "$$\\alpha = \\frac{\\alpha_0}{1 + D \\cdot t}$$\n",
    "\n",
    "Where $\\alpha_0$ is the original learning rate, $D$ is a decay factor and $t$ is the current iteration."
   ]
  },
  {
   "cell_type": "code",
   "execution_count": null,
   "metadata": {},
   "outputs": [],
   "source": [
    "### Your code here ###"
   ]
  }
 ],
 "metadata": {
  "celltoolbar": "Create Assignment",
  "kernelspec": {
   "display_name": "Python 3",
   "language": "python",
   "name": "python3"
  },
  "language_info": {
   "codemirror_mode": {
    "name": "ipython",
    "version": 3
   },
   "file_extension": ".py",
   "mimetype": "text/x-python",
   "name": "python",
   "nbconvert_exporter": "python",
   "pygments_lexer": "ipython3",
   "version": "3.8.6"
  }
 },
 "nbformat": 4,
 "nbformat_minor": 2
}
