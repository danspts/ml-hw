{
 "cells": [
  {
   "cell_type": "markdown",
   "metadata": {
    "nbgrader": {
     "grade": false,
     "grade_id": "cell-6bd0516e7cb654f5",
     "locked": true,
     "schema_version": 1,
     "solution": false
    }
   },
   "source": [
    "# Exercise 2: Decision Trees\n",
    "\n",
    "In this assignment you will implement a Decision Tree algorithm as learned in class.\n",
    "\n",
    "## Read the following instructions carefully:\n",
    "\n",
    "1. This jupyter notebook contains all the step by step instructions needed for this exercise.\n",
    "1. Submission includes this notebook only with the exercise number and your ID as the filename. For example: `hw2_123456789_987654321.ipynb` if you submitted in pairs and `hw2_123456789.ipynb` if you submitted the exercise alone.\n",
    "1. Write **efficient vectorized** code whenever possible. Some calculations in this exercise take several minutes when implemented efficiently, and might take much longer otherwise. Unnecessary loops will result in point deduction.\n",
    "1. You are responsible for the correctness of your code and should add as many tests as you see fit. Tests will not be graded nor checked.\n",
    "1. Write your functions in this notebook only. **Do not create Python modules and import them**.\n",
    "1. You are allowed to use functions and methods from the [Python Standard Library](https://docs.python.org/3/library/) and [numpy](https://www.numpy.org/devdocs/reference/) only. **Do not import anything else.**\n",
    "1. Your code must run without errors. Make sure your `numpy` version is at least 1.15.4 and that you are using at least python 3.6. Changes of the configuration we provided are at your own risk. Any code that cannot run will not be graded.\n",
    "1. Write your own code. Cheating will not be tolerated.\n",
    "1. Answers to qualitative questions should be written in **markdown** cells (with $\\LaTeX$ support). Answers that will be written in commented code blocks will not be checked.\n",
    "\n",
    "## In this exercise you will perform the following:\n",
    "1. Practice OOP in python.\n",
    "2. Implement two impurity measures: Gini and Entropy.\n",
    "3. Construct a decision tree algorithm.\n",
    "4. Prune the tree to achieve better results.\n",
    "5. Visualize your results."
   ]
  },
  {
   "cell_type": "markdown",
   "metadata": {},
   "source": [
    "# I have read and understood the instructions: 323081950, 227367455"
   ]
  },
  {
   "cell_type": "code",
   "execution_count": 1,
   "metadata": {
    "nbgrader": {
     "grade": false,
     "grade_id": "cell-ed9fe7b1026e33cb",
     "locked": true,
     "schema_version": 1,
     "solution": false
    },
    "pycharm": {
     "is_executing": true
    }
   },
   "outputs": [],
   "source": [
    "import numpy as np\n",
    "import pandas as pd\n",
    "import matplotlib.pyplot as plt\n",
    "import math\n",
    "\n",
    "# make matplotlib figures appear inline in the notebook\n",
    "%matplotlib inline\n",
    "plt.rcParams['figure.figsize'] = (10.0, 8.0) # set default size of plots\n",
    "plt.rcParams['image.interpolation'] = 'nearest'\n",
    "plt.rcParams['image.cmap'] = 'gray'\n",
    "\n",
    "# Ignore warnings\n",
    "import warnings\n",
    "warnings.filterwarnings('ignore')"
   ]
  },
  {
   "cell_type": "markdown",
   "metadata": {
    "nbgrader": {
     "grade": false,
     "grade_id": "cell-c6ac605270c2b091",
     "locked": true,
     "schema_version": 1,
     "solution": false
    }
   },
   "source": [
    "## Warmup - OOP in python\n",
    "\n",
    "Our desicion tree will be implemented using a dedicated python class. Python classes are very similar to classes in Java.\n",
    "\n",
    "\n",
    "You can use the following [site](https://jeffknupp.com/blog/2014/06/18/improve-your-python-python-classes-and-object-oriented-programming/) to learn about classes in python."
   ]
  },
  {
   "cell_type": "code",
   "execution_count": 2,
   "metadata": {},
   "outputs": [],
   "source": [
    "class Node(object):\n",
    "    def __init__(self, data):\n",
    "        self.data = data\n",
    "        self.children = []\n",
    "\n",
    "    def add_child(self, node):\n",
    "        self.children.append(node)"
   ]
  },
  {
   "cell_type": "code",
   "execution_count": 3,
   "metadata": {},
   "outputs": [
    {
     "data": {
      "text/plain": [
       "[<__main__.Node at 0x7fda8106da00>, <__main__.Node at 0x7fda8106da90>]"
      ]
     },
     "execution_count": 3,
     "metadata": {},
     "output_type": "execute_result"
    }
   ],
   "source": [
    "n = Node(5)\n",
    "p = Node(6)\n",
    "q = Node(7)\n",
    "n.add_child(p)\n",
    "n.add_child(q)\n",
    "n.children"
   ]
  },
  {
   "cell_type": "markdown",
   "metadata": {
    "nbgrader": {
     "grade": false,
     "grade_id": "cell-2f1ceb251c649b62",
     "locked": true,
     "schema_version": 1,
     "solution": false
    }
   },
   "source": [
    "## Data preprocessing\n",
    "\n",
    "For the following exercise, we will use a dataset containing mushroom data `agaricus-lepiota.csv`. \n",
    "\n",
    "This data set includes descriptions of hypothetical samples corresponding to 23 species of gilled mushrooms in the Agaricus and Lepiota Family. Each species is identified as definitely edible, definitely poisonous, or of unknown edibility and not recommended. This latter class was combined with the poisonous\n",
    "one (=there are only two classes **edible** and **poisonous**). \n",
    "    \n",
    "The dataset contains 8124 observations with 22 features:\n",
    "1. cap-shape: bell=b,conical=c,convex=x,flat=f,knobbed=k,sunken=s\n",
    "2. cap-surface: fibrous=f,grooves=g,scaly=y,smooth=s\n",
    "3. cap-color: brown=n,buff=b,cinnamon=c,gray=g,green=r,pink=p,purple=u,red=e,white=w,yellow=y\n",
    "4. bruises: bruises=t,no=f\n",
    "5. odor: almond=a,anise=l,creosote=c,fishy=y,foul=f, musty=m,none=n,pungent=p,spicy=s\n",
    "6. gill-attachment: attached=a,descending=d,free=f,notched=n\n",
    "7. gill-spacing: close=c,crowded=w,distant=d\n",
    "8. gill-size: broad=b,narrow=n\n",
    "9. gill-color: black=k,brown=n,buff=b,chocolate=h,gray=g,green=r,orange=o,pink=p,purple=u,red=e,white=w,yellow=y\n",
    "10. stalk-shape: enlarging=e,tapering=t\n",
    "11. stalk-root: bulbous=b,club=c,cup=u,equal=e,rhizomorphs=z,rooted=r\n",
    "12. stalk-surface-above-ring: fibrous=f,scaly=y,silky=k,smooth=s\n",
    "13. stalk-surface-below-ring: fibrous=f,scaly=y,silky=k,smooth=s\n",
    "14. stalk-color-above-ring: brown=n,buff=b,cinnamon=c,gray=g,orange=o,pink=p,red=e,white=w,yellow=y\n",
    "15. stalk-color-below-ring: brown=n,buff=b,cinnamon=c,gray=g,orange=o,pink=p,red=e,white=w,yellow=y\n",
    "16. veil-type: partial=p,universal=u\n",
    "17. veil-color: brown=n,orange=o,white=w,yellow=y\n",
    "18. ring-number: none=n,one=o,two=t\n",
    "19. ring-type: cobwebby=c,evanescent=e,flaring=f,large=l,none=n,pendant=p,sheathing=s,zone=z\n",
    "20. spore-print-color: black=k,brown=n,buff=b,chocolate=h,green=r,orange=o,purple=u,white=w,yellow=y\n",
    "21. population: abundant=a,clustered=c,numerous=n,scattered=s,several=v,solitary=y\n",
    "22. habitat: grasses=g,leaves=l,meadows=m,paths=p,urban=u,waste=w,woods=d\n",
    "\n",
    "First, we will read and explore the data using pandas and the `.read_csv` method. Pandas is an open source library providing high-performance, easy-to-use data structures and data analysis tools for the Python programming language."
   ]
  },
  {
   "cell_type": "code",
   "execution_count": 4,
   "metadata": {
    "nbgrader": {
     "grade": false,
     "grade_id": "cell-d79cb4542926ad3f",
     "locked": true,
     "schema_version": 1,
     "solution": false
    }
   },
   "outputs": [],
   "source": [
    "# load dataset\n",
    "data = pd.read_csv('agaricus-lepiota.csv')"
   ]
  },
  {
   "cell_type": "markdown",
   "metadata": {},
   "source": [
    "One of the advantages of the Decision Tree algorithm is that almost no preprocessing is required. However, finding missing values is always required."
   ]
  },
  {
   "cell_type": "code",
   "execution_count": 5,
   "metadata": {},
   "outputs": [],
   "source": [
    "#############################################################################\n",
    "# TODO: Find the columns with missing values and remove them from the data.#\n",
    "#############################################################################\n",
    "data.dropna(axis='columns',inplace=True)\n",
    "#############################################################################\n",
    "#                             END OF YOUR CODE                              #\n",
    "#############################################################################"
   ]
  },
  {
   "cell_type": "markdown",
   "metadata": {},
   "source": [
    "We will split the dataset to `Training` and `Testing` datasets."
   ]
  },
  {
   "cell_type": "code",
   "execution_count": 6,
   "metadata": {},
   "outputs": [
    {
     "name": "stdout",
     "output_type": "stream",
     "text": [
      "Training dataset shape:  (6093, 22)\n",
      "Testing dataset shape:  (2031, 22)\n"
     ]
    }
   ],
   "source": [
    "from sklearn.model_selection import train_test_split\n",
    "# Making sure the last column will hold the labels\n",
    "X, y = data.drop('class', axis=1), data['class']\n",
    "X = np.column_stack([X,y])\n",
    "# split dataset using random_state to get the same split each time\n",
    "X_train, X_test = train_test_split(X, random_state=99)\n",
    "\n",
    "print(\"Training dataset shape: \", X_train.shape)\n",
    "print(\"Testing dataset shape: \", X_test.shape)"
   ]
  },
  {
   "cell_type": "markdown",
   "metadata": {
    "nbgrader": {
     "grade": false,
     "grade_id": "cell-fd7b0191f3f1e897",
     "locked": true,
     "schema_version": 1,
     "solution": false
    },
    "pycharm": {
     "name": "#%% md\n"
    }
   },
   "source": [
    "## Impurity Measures\n",
    "\n",
    "Impurity is a measure of how often a randomly chosen element from the set would be incorrectly labeled if it was randomly labeled according to the distribution of labels in the subset. Implement the functions `calc_gini` and `calc_entropy`. You are encouraged to test your implementation (10 points)."
   ]
  },
  {
   "cell_type": "code",
   "execution_count": 7,
   "metadata": {},
   "outputs": [],
   "source": [
    "DEFAULT_CLASS_INDEX = -1\n",
    "\n",
    "def count_values(data, feature=DEFAULT_CLASS_INDEX, return_counts=True):\n",
    "    \"\"\"\n",
    "    Counts how many of each tag the given feaure has in the dataset\n",
    "        \n",
    "    Input:\n",
    "    - data: any dataset that contains the requested feature column\n",
    "    - feature: the feature for which to count possible tag. If -1, then return all values for all features\n",
    "    - return_counts: whether to return the count of each value or just a list of the values\n",
    "    \n",
    "    Returns a list of all tags the selected feature in the given dataset\n",
    "    \"\"\"\n",
    "    return np.unique(data[:,feature], return_counts=return_counts)"
   ]
  },
  {
   "cell_type": "code",
   "execution_count": 8,
   "metadata": {},
   "outputs": [],
   "source": [
    "def enum_values(data, feature):\n",
    "    \"\"\"\n",
    "    Computes which tags the given feature has in the dataset\n",
    "    \n",
    "    Input:\n",
    "    - data: any dataset that contains the requested feature column\n",
    "    - feature: the feature for which to enumerate possible tags\n",
    "    \n",
    "    Returns a list of all tags of the requested in the given dataset\n",
    "    \"\"\"\n",
    "    return count_values(data, feature, return_counts=False)"
   ]
  },
  {
   "cell_type": "code",
   "execution_count": 9,
   "metadata": {},
   "outputs": [],
   "source": [
    "def calc_gini(data):\n",
    "    \"\"\"\n",
    "    Calculate gini impurity measure of a dataset.\n",
    " \n",
    "    Input:\n",
    "    - data: any dataset where the last column holds the labels.\n",
    " \n",
    "    Returns the gini impurity.    \n",
    "    \"\"\"\n",
    "    ###########################################################################\n",
    "    # TODO: Implement the function.                                           #\n",
    "    ###########################################################################\n",
    "    space_size = len(data)\n",
    "    # becomes an array of the values squared / m\n",
    "    gini = np.square(count_values(data)[1] / space_size)\n",
    "    ###########################################################################\n",
    "    #                             END OF YOUR CODE                            #\n",
    "    ###########################################################################\n",
    "    return 1.0 - np.sum(gini)"
   ]
  },
  {
   "cell_type": "code",
   "execution_count": 10,
   "metadata": {
    "pycharm": {
     "name": "#%%\n"
    }
   },
   "outputs": [],
   "source": [
    "def calc_entropy(data):\n",
    "    \"\"\"\n",
    "    Calculate the entropy of a dataset.\n",
    "\n",
    "    Input:\n",
    "    - data: any dataset where the last column holds the labels.\n",
    "\n",
    "    Returns the entropy of the dataset.    \n",
    "    \"\"\"\n",
    "    ###########################################################################\n",
    "    # TODO: Implement the function.                                           #\n",
    "    ###########################################################################\n",
    "    space_size = len(data)\n",
    "    # The array of probabilities of the dataset\n",
    "    probabilities = count_values(data)[1] / space_size\n",
    "    ###########################################################################\n",
    "    #                             END OF YOUR CODE                            #\n",
    "    ###########################################################################\n",
    "    return -np.sum(probabilities * np.log2(probabilities))"
   ]
  },
  {
   "cell_type": "code",
   "execution_count": 11,
   "metadata": {
    "pycharm": {
     "name": "#%%\n"
    },
    "scrolled": true
   },
   "outputs": [
    {
     "name": "stdout",
     "output_type": "stream",
     "text": [
      "gini,entropy\n",
      "Equal distributions:\n",
      "0.0 -0.0\n",
      "Unequal distributions:\n",
      "0.8999999999999999 3.321928094887362\n",
      "Dataset:\n",
      "0.4995636322379775 0.9993703627906085\n"
     ]
    }
   ],
   "source": [
    "##### Your Tests Here #####\n",
    "equal_distribution = np.ones(100).reshape(10,10)\n",
    "unequal_distribution = np.arange(100).reshape(10,10)\n",
    "\n",
    "print(\"gini,entropy\")\n",
    "print(\"Equal distributions:\")\n",
    "# Should be 0.0, 0.0\n",
    "print(calc_gini(equal_distribution), calc_entropy(equal_distribution))\n",
    "\n",
    "print(\"Unequal distributions:\")\n",
    "# Shoudl be something close to 1 and something big\n",
    "print(calc_gini(unequal_distribution), calc_entropy(unequal_distribution))\n",
    "\n",
    "print(\"Dataset:\")\n",
    "print(calc_gini(X), calc_entropy(X))"
   ]
  },
  {
   "cell_type": "markdown",
   "metadata": {
    "pycharm": {
     "name": "#%% md\n"
    }
   },
   "source": [
    "## Goodness of Split\n",
    "\n",
    "Given a feature the Goodnees of Split measures the reduction in the impurity if we split the data according to the feature.\n",
    "$$\n",
    "\\Delta\\varphi(S, A) = \\varphi(S) - \\sum_{v\\in Values(A)} \\frac{|S_v|}{|S|}\\varphi(S_v)\n",
    "$$\n",
    "\n",
    "In our implementation the goodness_of_split function will return either the Goodness of Split or the Gain Ratio as learned in class. You'll control the return value with the `gain_ratio` parameter. If this parameter will set to False (the default value) it will return the regular Goodness of Split. If it will set to True it will return the Gain Ratio.\n",
    "$$\n",
    "GainRatio(S,A)=\\frac{InformationGain(S,A)}{SplitInformation(S,A)}\n",
    "$$\n",
    "Where:\n",
    "$$\n",
    "InformationGain(S,A)=Goodness\\ of\\ Split\\ calculated\\ with\\ Entropy\\ as\\ the\\ Impurity\\ function \\\\\n",
    "SplitInformation(S,A)=- \\sum_{a\\in A} \\frac{|S_a|}{|S|}\\log\\frac{|S_a|}{|S|}\n",
    "$$\n",
    "NOTE: you can add more parameters to the function and you can also add more returning variables (The given parameters and the given returning variable should not be touch). (10 Points)"
   ]
  },
  {
   "cell_type": "code",
   "execution_count": 12,
   "metadata": {
    "pycharm": {
     "name": "#%%\n"
    }
   },
   "outputs": [],
   "source": [
    "def goodness_of_split(data, feature, impurity_func, gain_ratio=False):\n",
    "    \"\"\"\n",
    "    Calculate the goodness of split of a dataset given a feature and impurity function.\n",
    "\n",
    "    Input:\n",
    "    - data: any dataset where the last column holds the labels.\n",
    "    - feature: the feature index.\n",
    "    - impurity func: a function that calculates the impurity.\n",
    "    - gain_ratio: goodness of split or gain ratio flag.\n",
    "\n",
    "    Returns a tuple of the following:\n",
    "    - the goodness of split (or the Gain Ration),\n",
    "    - a dictionary mapping a tag name (based on the feature in the arguments) to a list of instances with the given tag\n",
    "    \"\"\"\n",
    "    ###########################################################################\n",
    "    # TODO: Implement the function.                                           #\n",
    "    ###########################################################################\n",
    "    if gain_ratio:\n",
    "        goodness, split_feature_dict = goodness_of_split(data, feature, impurity_func)\n",
    "        split_info = impurity_func(data[:,[feature]])\n",
    "        # if goodness is 0 we check for spliting\n",
    "        if split_info:\n",
    "            goodness /= split_info\n",
    "        else: \n",
    "            goodness = 0\n",
    "    else:\n",
    "        space_size = len(data)\n",
    "        feature_values =  enum_values(data, feature)\n",
    "        # Compute which instances have the given tag for the future\n",
    "        split_feature_dict = {value : data[data[:,feature] == value] for value in feature_values}\n",
    "        # Notice that len(split_feature_dict[tag]) for some tag is the # of instances with the given tag\n",
    "        goodness = impurity_func(data) - (sum(len(split_feature_dict[value]) * impurity_func(split_feature_dict[value]) \n",
    "                                                         / space_size  for value in feature_values))\n",
    "        \n",
    "    ###########################################################################\n",
    "    #                             END OF YOUR CODE                            #\n",
    "    ###########################################################################\n",
    "    return goodness, split_feature_dict"
   ]
  },
  {
   "cell_type": "code",
   "execution_count": 13,
   "metadata": {},
   "outputs": [],
   "source": [
    "def best_feature(data, impurity_func, gain_ratio=False):\n",
    "    \"\"\"\n",
    "    Finds the best feature to split with for a dataset\n",
    "    \n",
    "    Input:\n",
    "    - data: any dataset with at least one feature\n",
    "    - impurity_func: the impurity function to use to determine the best feature\n",
    "    - gain_ratio: whether to use gain_ratio for computing impurity\n",
    "    \n",
    "    Returns a tuple of the following values:\n",
    "    - The name of the best feature using the impurity function\n",
    "    - Goodness value of splitting by the returned feature\n",
    "    - Dictionary mapping tag name to instances with the given tag, based on the best_feature\n",
    "    \"\"\"\n",
    "    goodness = -1\n",
    "    split_feature_dict = {}\n",
    "    best_feature = -1\n",
    "    # Last column is a label, so we don't split it and do - 1\n",
    "    for feature in range(data.shape[1] - 1):\n",
    "        # What is the split of this\n",
    "        tmp_goodness, tmp_split_feature_dict = goodness_of_split(data, feature, impurity_func, gain_ratio=gain_ratio)\n",
    "        if tmp_goodness > goodness:\n",
    "            goodness = tmp_goodness\n",
    "            split_feature_dict = tmp_split_feature_dict\n",
    "            best_feature = feature\n",
    "    return best_feature, goodness, split_feature_dict"
   ]
  },
  {
   "cell_type": "markdown",
   "metadata": {
    "pycharm": {
     "name": "#%% md\n"
    }
   },
   "source": [
    "## Building a Decision Tree\n",
    "\n",
    "Use a Python class to construct the decision tree. Your class should support the following functionality:\n",
    "\n",
    "1. Initiating a node for a decision tree. You will need to use several class methods and class attributes and you are free to use them as you see fit. We recommend that every node will hold the feature and value used for the split and its children.\n",
    "2. Your code should support both Gini and Entropy as impurity measures. \n",
    "3. The provided data includes categorical data. In this exercise, when splitting a node create the number of children needed according to the attribute unique values.\n",
    "\n",
    "Complete the class `DecisionNode`. The structure of this class is entirely up to you. \n",
    "\n",
    "Complete the function `build_tree`. This function should get the training dataset and the impurity as inputs, initiate a root for the decision tree and construct the tree according to the procedure you learned in class. (30 points)"
   ]
  },
  {
   "cell_type": "code",
   "execution_count": 14,
   "metadata": {},
   "outputs": [],
   "source": [
    "from copy import deepcopy\n",
    "\n",
    "class DecisionNode:\n",
    "    \"\"\"\n",
    "    This class will hold everything you require to construct a decision tree.\n",
    "    The structure of this class is up to you. However, you need to support basic \n",
    "    functionality as described above. It is highly recommended that you \n",
    "    first read and understand the entire exercise before diving into this class.\n",
    "    \"\"\"\n",
    "\n",
    "    def __init__(self, feature, feature_value, labels:dict):\n",
    "        \"\"\"\n",
    "        Input:\n",
    "        - feature: column index of the criteria being tested by this node\n",
    "        - feature_value: tag name that this node represents\n",
    "        - A dictionary mapping label name to amount of instances with label in this node\n",
    "        \"\"\"\n",
    "        self.feature = feature # column index of criteria being tested\n",
    "        self.feature_value = feature_value\n",
    "        self.labels = labels\n",
    "        self.children = {}\n",
    "        self.parent = None\n",
    "        \n",
    "\n",
    "    def add_child(self, node):\n",
    "        \"\"\"\n",
    "        Adds a DecisionNode to be a child of this node, creating a subtree rooted by `self`\n",
    "\n",
    "        Input:\n",
    "        - node: A DecisionNode to add as a child\n",
    "        \"\"\"\n",
    "        if not node:\n",
    "            return\n",
    "        self.children[node.feature_value] = node\n",
    "        node.parent = self\n",
    "    \n",
    "\n",
    "    def copy(self):\n",
    "        \"\"\"\n",
    "        Copies a DecisionNode\n",
    "\n",
    "        Returns a deep copy of this DecisionNode\n",
    "        \"\"\"\n",
    "        return deepcopy(self)\n",
    "        \n",
    "\n",
    "    def delete(self):\n",
    "        \"\"\"\n",
    "        Deletes this DecisionNode\n",
    "\n",
    "        Used for easily deleting a node from a decision tree.\n",
    "        \"\"\"\n",
    "        del self.parent.children[self.feature_value]\n",
    "        del self\n",
    "    \n",
    "    def __repr__(self):\n",
    "        return str(self)\n",
    "    \n",
    "    @property\n",
    "    def pred(self):\n",
    "        \"\"\"\n",
    "        Returns what the prediction would be on that specific node\n",
    "        \"\"\"\n",
    "        return max(self.labels, key=self.labels.get)\n",
    "    \n",
    "    @property\n",
    "    def height(self):\n",
    "        \"\"\"\n",
    "        The height of this tree (how many layers of children it has)\n",
    "        \"\"\"\n",
    "        if self.children:\n",
    "            return 1 + max(child.height for child in self.children.values())\n",
    "        else:\n",
    "            return 0\n",
    "        \n",
    "    def switch_parent_child(self, other_node):\n",
    "        other_node.parent = self.parent\n",
    "        other_node.parent.children[self.feature_value] = other_node\n",
    "     \n",
    "    def reverse_switch_parent_child(self, other_node):\n",
    "        other_node.parent = self\n",
    "        other_node.parent.children[self.feature_value] = self\n",
    "\n",
    "    @staticmethod \n",
    "    def get_label(data):\n",
    "        \"\"\"\n",
    "        Counts the distribution of label names for a given dataset\n",
    "\n",
    "        Inputs:\n",
    "        - data: A dataset with labels for whicht o count\n",
    "\n",
    "        Returns a dict mapping label name to amount of instances with label\n",
    "        \"\"\"\n",
    "        tag, count = count_values(data)\n",
    "        return dict(zip(tag, count))\n",
    "        \n",
    "\n",
    "    def __str__(self):\n",
    "        \"\"\"\n",
    "        Represents this DecisionNode as a string\n",
    "        \"\"\"\n",
    "        if not self.parent:\n",
    "            return f\"[ROOT, feature={self.feature}]\"\n",
    "        elif not self.children:\n",
    "            return f\"[{self.parent.feature}={self.feature_value}, leaf]: [{self.labels}]\"\n",
    "        else:\n",
    "            return f\"[{self.parent.feature}={self.feature_value}, feature={self.feature}]\"\n",
    "\n",
    "    def recursive_print(self, tab=\"\\t\", depth=0):\n",
    "        \"\"\"\n",
    "        Prints the entire tree and all subtrees\n",
    "\n",
    "        Input:\n",
    "        - tab: which indentation character to use for deeper nodes\n",
    "        - depth: current depth of this node in the tree\n",
    "        \"\"\"\n",
    "        print(tab * depth, self)\n",
    "        for child in self.children:\n",
    "            self.children[child].recursive_print(tab, depth + 1)\n",
    "        "
   ]
  },
  {
   "cell_type": "code",
   "execution_count": 15,
   "metadata": {
    "pycharm": {
     "name": "#%%\n"
    }
   },
   "outputs": [],
   "source": [
    "def chi_square_test(data):\n",
    "    \"\"\"\n",
    "    Calculates the Chi square test for a given dataset\n",
    "    \n",
    "    Input:\n",
    "    - data: a dataset\n",
    "    \n",
    "    Returns the Chi squared value for the dataset\n",
    "    \"\"\"\n",
    "    label_values, label_counts = count_values(data)\n",
    "    tags, counts = count_values(data, feature = 0)\n",
    "    \n",
    "    len_class = len(label_values)\n",
    "    len_feature = len(tags)\n",
    "\n",
    "    df = (len_class - 1) * (len_feature - 1)\n",
    "\n",
    "    # Matrix of expected values\n",
    "    exp_matrix = np.outer(label_counts, counts) / data.shape[0]\n",
    "\n",
    "    # Matrix of actual values\n",
    "    actual_matrix = [[((data[:,0] == tag) & (data[:,1] == label)).sum() for tag in tags] for label in label_values]\n",
    "    \n",
    "    chi = (np.square(actual_matrix - exp_matrix) / exp_matrix).sum()\n",
    "\n",
    "    return chi, df"
   ]
  },
  {
   "cell_type": "code",
   "execution_count": 16,
   "metadata": {},
   "outputs": [],
   "source": [
    "def build_tree(data, impurity, gain_ratio=False, chi=1, max_depth=500, feature_value=None, chi_table=None):\n",
    "    \"\"\"\n",
    "    Build a tree using the given impurity measure and training dataset. \n",
    "    You are required to fully grow the tree until all leaves are pure. \n",
    "\n",
    "    Input:\n",
    "    - data: the training dataset.\n",
    "    - impurity: the chosen impurity measure. Notice that you can send a function\n",
    "                as an argument in python.\n",
    "    - gain_ratio: goodness of split or gain ratio flag\n",
    "    - chi: chi square p-value cut off (1 means no pruning)\n",
    "    - max_depth: the allowable depth of the tree\n",
    "    - feature_value: which tag name to use as the split for the root\n",
    "    - chi_table: a chi distribution table to use for chi pruning\n",
    "\n",
    "    Output: the root node of the tree.\n",
    "    \"\"\"\n",
    "    root = None\n",
    "    ###########################################################################\n",
    "    # TODO: Implement the function.                                           #\n",
    "    ###########################################################################\n",
    "    \n",
    "    feature, goodness, split_feature_dict = best_feature(data, impurity, gain_ratio=gain_ratio)\n",
    "\n",
    "    root = DecisionNode(feature, feature_value, DecisionNode.get_label(data))\n",
    "        \n",
    "    if not (goodness and max_depth):\n",
    "        return root\n",
    "    \n",
    "    # we pass in only the feature and class columns\n",
    "    chi_value, df = chi_square_test(data[:,[feature, -1]])\n",
    "        \n",
    "    if chi != 1 and chi_value < chi_table[df].get(chi, 0):\n",
    "        return root\n",
    "    \n",
    "    for value in split_feature_dict:\n",
    "        \n",
    "        label_values, label_counts = count_values(split_feature_dict[value])\n",
    "        \n",
    "        child = build_tree(split_feature_dict[value], impurity, gain_ratio, chi, max_depth - 1, value, chi_table)\n",
    "        \n",
    "        root.add_child(child)\n",
    "    \n",
    "    ###########################################################################\n",
    "    #                             END OF YOUR CODE                            #\n",
    "    ###########################################################################\n",
    "    return root"
   ]
  },
  {
   "cell_type": "code",
   "execution_count": 17,
   "metadata": {},
   "outputs": [],
   "source": [
    "# python supports passing a function as an argument to another function.\n",
    "tree_gini = build_tree(data=X_train, impurity=calc_gini) # gini and goodness of split\n",
    "tree_entropy = build_tree(data=X_train, impurity=calc_entropy) # entropy and goodness of split\n",
    "tree_entropy_gain_ratio = build_tree(data=X_train, impurity=calc_entropy, gain_ratio=True) # entropy and gain ratio"
   ]
  },
  {
   "cell_type": "markdown",
   "metadata": {
    "pycharm": {
     "name": "#%% md\n"
    }
   },
   "source": [
    "## Tree evaluation\n",
    "\n",
    "Complete the functions `predict` and `calc_accuracy`. (10 points)"
   ]
  },
  {
   "cell_type": "code",
   "execution_count": 18,
   "metadata": {
    "pycharm": {
     "name": "#%%\n"
    }
   },
   "outputs": [],
   "source": [
    "def predict(node, instance):\n",
    "    \"\"\"\n",
    "    Predict a given instance using the decision tree\n",
    " \n",
    "    Input:\n",
    "    - root: the root of the decision tree.\n",
    "    - instance: an row vector from the dataset. Note that the last element \n",
    "                of this vector is the label of the instance.\n",
    " \n",
    "    Output: the prediction of the instance.\n",
    "    \"\"\"\n",
    "    ###########################################################################\n",
    "    # TODO: Implement the function.                                           #\n",
    "    ###########################################################################\n",
    "    while(node.children):\n",
    "        instance_feature = instance[node.feature]\n",
    "        if instance_feature in node.children:\n",
    "            # Go down into the node corresponding the feature\n",
    "            node = node.children[instance_feature]\n",
    "        else:\n",
    "            break\n",
    "    ###########################################################################\n",
    "    #                             END OF YOUR CODE                            #\n",
    "    ###########################################################################\n",
    "    return node.pred"
   ]
  },
  {
   "cell_type": "code",
   "execution_count": 37,
   "metadata": {
    "pycharm": {
     "name": "#%%\n"
    }
   },
   "outputs": [],
   "source": [
    "def calc_accuracy(node, dataset):\n",
    "    \"\"\"\n",
    "    Predict a given dataset using the decision tree\n",
    " \n",
    "    Input:\n",
    "    - node: a node in the decision tree.\n",
    "    - dataset: the dataset on which the accuracy is evaluated\n",
    " \n",
    "    Output: the accuracy of the decision tree on the given dataset (%).\n",
    "    \"\"\"\n",
    "    accuracy = 0\n",
    "    ###########################################################################\n",
    "    # TODO: Implement the function.                                           #\n",
    "    ###########################################################################\n",
    "    predictions = [predict(node, dataset[i]) for i in range(dataset.shape[0])]\n",
    "    success = np.count_nonzero(predictions == dataset[:,-1])\n",
    "    accuracy = success / dataset.shape[0]\n",
    "    ###########################################################################\n",
    "    #                             END OF YOUR CODE                            #\n",
    "    ###########################################################################\n",
    "    return accuracy "
   ]
  },
  {
   "cell_type": "markdown",
   "metadata": {
    "pycharm": {
     "name": "#%% md\n"
    }
   },
   "source": [
    "After building the three trees using the training set, you should calculate the accuracy on the test set. For each tree print the training and test accuracy. Select the tree that gave you the best test accuracy. For the rest of the exercise, use that tree (when you asked to build another tree use the same impurity function and same gain_ratio flag). "
   ]
  },
  {
   "cell_type": "code",
   "execution_count": 38,
   "metadata": {
    "pycharm": {
     "name": "#%%\n"
    }
   },
   "outputs": [],
   "source": [
    "#### Your code here ####\n",
    "# Take the most accurate one of the three trees\n",
    "best_tree = max([tree_gini, tree_entropy, tree_entropy_gain_ratio], key= lambda tree: calc_accuracy(tree, X_test))"
   ]
  },
  {
   "cell_type": "markdown",
   "metadata": {
    "pycharm": {
     "name": "#%% md\n"
    }
   },
   "source": [
    "## Post pruning\n",
    "\n",
    "Iterate over all nodes in the tree that have at least a single child which is a leaf. For each such node, replace it with its most popular class. Calculate the accuracy on the testing dataset, pick the node that results in the highest testing accuracy and permanently change it in the tree. Repeat this process until you are left with a single node in the tree (the root). Finally, create a plot of the training and testing accuracies as a function of the number of nodes in the tree. (15 points)"
   ]
  },
  {
   "cell_type": "code",
   "execution_count": 39,
   "metadata": {
    "pycharm": {
     "name": "#%%\n"
    }
   },
   "outputs": [],
   "source": [
    "def prune_leaves(root):\n",
    "    \"\"\"\n",
    "    Prune the leaves of a decision tree\n",
    "    \n",
    "    Input:\n",
    "    - root: DecisionNode root fo the decision tree for which to prune the leaves of\n",
    "    \"\"\"\n",
    "    if root.children:\n",
    "        for child in list(root.children.keys()):\n",
    "            prune_leaves(root.children[child])\n",
    "    else:\n",
    "        root.delete()"
   ]
  },
  {
   "cell_type": "code",
   "execution_count": 40,
   "metadata": {
    "pycharm": {
     "name": "#%%\n"
    }
   },
   "outputs": [],
   "source": [
    "def count_nodes(node):\n",
    "    \"\"\"\n",
    "    Count the number of node in a given tree\n",
    " \n",
    "    Input:\n",
    "    - node: a node in the decision tree.\n",
    " \n",
    "    Output: the number of node in the tree.\n",
    "    \"\"\"\n",
    "    ###########################################################################\n",
    "    # TODO: Implement the function.                                           #\n",
    "    ###########################################################################\n",
    "    return 1 + sum(count_nodes(child_node) for child_node in node.children.values())\n",
    "    ###########################################################################\n",
    "    #                             END OF YOUR CODE                            #\n",
    "    ###########################################################################\n",
    "    "
   ]
  },
  {
   "cell_type": "code",
   "execution_count": 41,
   "metadata": {
    "pycharm": {
     "name": "#%%\n"
    }
   },
   "outputs": [],
   "source": [
    "def post_pruning(tree_node, test_data):\n",
    "    \"\"\"\n",
    "    Performs the post pruning process on a decision tree\n",
    "    \n",
    "    Input:\n",
    "    - tree_node: the DecisionNode that is the root of the decision tree to post prune\n",
    "    - test_data: a dataset that represents the testing set (for which to decide what to prune)\n",
    "    \n",
    "    Returns a tuple of the following:\n",
    "    - A list representing the history of amount nodes for every pruning iteration\n",
    "    - A list representing the history of accuracy for every pruning iteration\n",
    "    \"\"\"\n",
    "    history_nodes = [count_nodes(tree_node)]\n",
    "    history_accuracy = [calc_accuracy(tree_node, test_data)]\n",
    "    tree_node = tree_node.copy()\n",
    "    while tree_node.children:\n",
    "        prune_leaves(tree_node)\n",
    "        nb_nodes = count_nodes(tree_node)\n",
    "        accuracy = calc_accuracy(tree_node, test_data)\n",
    "        history_nodes.append(nb_nodes)\n",
    "        history_accuracy.append(accuracy)\n",
    "\n",
    "    return history_nodes, history_accuracy"
   ]
  },
  {
   "cell_type": "code",
   "execution_count": 42,
   "metadata": {
    "pycharm": {
     "name": "#%%\n"
    }
   },
   "outputs": [
    {
     "name": "stdout",
     "output_type": "stream",
     "text": [
      "[3251, 1359, 908, 562, 316, 157, 72, 35, 19, 11, 7, 4, 2, 1] [0.7853274249138356, 0.8306253077301822, 0.8724766125061546, 0.8902018709995076, 0.8931560807483998, 0.8906942392909897, 0.8828163466272771, 0.8645987198424422, 0.8335795174790743, 0.7159034958148696, 0.7159034958148696, 0.7159034958148696, 0.5061546036435254, 0.5061546036435254]\n"
     ]
    }
   ],
   "source": [
    "history_nodes, history_accuracy = post_pruning(tree_entropy_gain_ratio, X_test)\n",
    "\n",
    "ymax = max(history_accuracy)\n",
    "nb_of_prunings = history_accuracy.index(ymax)\n",
    "\n",
    "# See progress of the post pruning\n",
    "print(history_nodes, history_accuracy)"
   ]
  },
  {
   "cell_type": "code",
   "execution_count": 43,
   "metadata": {},
   "outputs": [
    {
     "data": {
      "image/png": "[encoded data removed]",
      "text/plain": [
       "<Figure size 504x504 with 1 Axes>"
      ]
     },
     "metadata": {
      "needs_background": "light"
     },
     "output_type": "display_data"
    }
   ],
   "source": [
    "history_nodes, history_accuracy = post_pruning(tree_entropy_gain_ratio, X_test)\n",
    "\n",
    "plt.figure(figsize=(7, 7))\n",
    "plt.plot(history_nodes, history_accuracy, marker=\"o\")\n",
    "plt.xlabel('Number of nodes in the tree')\n",
    "plt.ylabel('Accuracy')\n",
    "plt.title('Accuracy as a function of number of nodes in the tree during post pruning')\n",
    "plt.show()"
   ]
  },
  {
   "cell_type": "markdown",
   "metadata": {
    "pycharm": {
     "name": "#%% md\n"
    }
   },
   "source": [
    "## Chi square pre-pruning\n",
    "\n",
    "Consider the following p-value cut-off values: [1 (no pruning), 0.5, 0.25, 0.1, 0.05, 0.0001 (max pruning)]. For each value, construct a tree and prune it according to the cut-off value. Next, calculate the training and testing accuracy. On a single plot, draw the training and testing accuracy as a function of the tuple (p-value, tree depth). Mark the best result on the graph with red circle. (15 points)"
   ]
  },
  {
   "cell_type": "code",
   "execution_count": 44,
   "metadata": {
    "pycharm": {
     "name": "#%%\n"
    }
   },
   "outputs": [],
   "source": [
    "### Chi square table values ###\n",
    "# The first key is the degree of freedom \n",
    "# The second key is the p-value cut-off\n",
    "# The values are the chi-statistic that you need to use in the pruning\n",
    "chi_table = {1: {0.5 : 0.45,\n",
    "                 0.25 : 1.32,\n",
    "                 0.1 : 2.71,\n",
    "                 0.05 : 3.84,\n",
    "                 0.0001 : 100000},\n",
    "             2: {0.5 : 1.39,\n",
    "                 0.25 : 2.77,\n",
    "                 0.1 : 4.60,\n",
    "                 0.05 : 5.99,\n",
    "                 0.0001 : 100000},\n",
    "             3: {0.5 : 2.37,\n",
    "                 0.25 : 4.11,\n",
    "                 0.1 : 6.25,\n",
    "                 0.05 : 7.82,\n",
    "                 0.0001 : 100000},\n",
    "             4: {0.5 : 3.36,\n",
    "                 0.25 : 5.38,\n",
    "                 0.1 : 7.78,\n",
    "                 0.05 : 9.49,\n",
    "                 0.0001 : 100000},\n",
    "             5: {0.5 : 4.35,\n",
    "                 0.25 : 6.63,\n",
    "                 0.1 : 9.24,\n",
    "                 0.05 : 11.07,\n",
    "                 0.0001 : 100000},\n",
    "             6: {0.5 : 5.35,\n",
    "                 0.25 : 7.84,\n",
    "                 0.1 : 10.64,\n",
    "                 0.05 : 12.59,\n",
    "                 0.0001 : 100000},\n",
    "             7: {0.5 : 6.35,\n",
    "                 0.25 : 9.04,\n",
    "                 0.1 : 12.01,\n",
    "                 0.05 : 14.07,\n",
    "                 0.0001 : 100000},\n",
    "             8: {0.5 : 7.34,\n",
    "                 0.25 : 10.22,\n",
    "                 0.1 : 13.36,\n",
    "                 0.05 : 15.51,\n",
    "                 0.0001 : 100000},\n",
    "             9: {0.5 : 8.34,\n",
    "                 0.25 : 11.39,\n",
    "                 0.1 : 14.68,\n",
    "                 0.05 : 16.92,\n",
    "                 0.0001 : 100000},\n",
    "             10: {0.5 : 9.34,\n",
    "                  0.25 : 12.55,\n",
    "                  0.1 : 15.99,\n",
    "                  0.05 : 18.31,\n",
    "                  0.0001 : 100000},\n",
    "             11: {0.5 : 10.34,\n",
    "                  0.25 : 13.7,\n",
    "                  0.1 : 17.27,\n",
    "                  0.05 : 19.68,\n",
    "                  0.0001 : 100000}}"
   ]
  },
  {
   "cell_type": "code",
   "execution_count": 45,
   "metadata": {
    "pycharm": {
     "name": "#%%\n"
    }
   },
   "outputs": [],
   "source": [
    "#### Your code here ####\n",
    "p_values = [1, 0.5, 0.25, 0.1, 0.05, 0.0001]"
   ]
  },
  {
   "cell_type": "code",
   "execution_count": 46,
   "metadata": {
    "pycharm": {
     "name": "#%%\n"
    }
   },
   "outputs": [],
   "source": [
    "def chi_cut_off(data, test_data, impurity, gain_ratio, p_values, chi_table):\n",
    "    \"\"\"\n",
    "    Computes the accuracies and depth of creating a decision tree based on a series of p-value cutoffs\n",
    "    \n",
    "    Input:\n",
    "    - data: a dataset to run on\n",
    "    - test_data: a subset of the dataset to use as the testing data\n",
    "    - impurity: the impurity function to decide how to split\n",
    "    - gain_ratio: whether to use gain_ratio in the impurity func\n",
    "    - p_values: a list of p-value cutoffs to try\n",
    "    - chi_table: a table of chi square distribution values\n",
    "    \n",
    "    Returns a tuple of the following:\n",
    "    - a list representing the history of accuracy on the testing set for each p_value\n",
    "    - a list representing the history of accuracy on the whole dataset for each p_value\n",
    "    - a list representing the history of accuracy on the testing set for each p_value\n",
    "\n",
    "    \"\"\"\n",
    "    history_accuracy_test = []\n",
    "    history_accuracy_data = []\n",
    "    history_depth = []\n",
    "    for chi in p_values:\n",
    "        tree_node = build_tree(data=data, chi=chi, chi_table=chi_table, impurity=impurity, gain_ratio=gain_ratio)\n",
    "        accuracy_data = calc_accuracy(tree_node, data)\n",
    "        accuracy_test = calc_accuracy(tree_node, test_data)\n",
    "        history_accuracy_test.append(accuracy_test)\n",
    "        history_accuracy_data.append(accuracy_data)\n",
    "        history_depth.append(tree_node.height)\n",
    "    return history_accuracy_data, history_accuracy_test, history_depth"
   ]
  },
  {
   "cell_type": "code",
   "execution_count": 47,
   "metadata": {},
   "outputs": [],
   "source": [
    "history_accuracy_data, history_accuracy_test, history_depth = chi_cut_off(X_train, X_test, calc_entropy, \n",
    "                                                    gain_ratio=True, p_values =p_values, chi_table=chi_table)"
   ]
  },
  {
   "cell_type": "code",
   "execution_count": 48,
   "metadata": {
    "pycharm": {
     "name": "#%%\n"
    }
   },
   "outputs": [
    {
     "data": {
      "image/png": "[encoded data removed]",
      "text/plain": [
       "<Figure size 504x504 with 1 Axes>"
      ]
     },
     "metadata": {
      "needs_background": "light"
     },
     "output_type": "display_data"
    }
   ],
   "source": [
    "ymax = max(history_accuracy_test)\n",
    "xpos = history_accuracy_test.index(ymax)\n",
    "best_chi = p_values[xpos]\n",
    "\n",
    "\n",
    "plt.figure(figsize=(7, 7))\n",
    "plt.plot(p_values, history_accuracy_data, marker=\"o\")\n",
    "plt.plot(p_values, history_accuracy_test, marker=\"o\")\n",
    "            \n",
    "for x, y, depth in zip(p_values, history_accuracy_test, history_depth):\n",
    "    plt.text(x, y,\"  \"+str(depth))\n",
    "\n",
    "plt.plot(best_chi, ymax, 'o', ms=20 * 2, mec='r', mfc='none', mew=2)\n",
    "\n",
    "plt.xlabel('Chi Values')\n",
    "plt.ylabel('Accuracy')\n",
    "plt.title('Accuracy of test and training sets as to different chi values (with depth tags)')\n",
    "plt.legend([\"Accuracy on training set\", \"Accuracy on testing set\"])\n",
    "plt.show()"
   ]
  },
  {
   "cell_type": "markdown",
   "metadata": {
    "pycharm": {
     "name": "#%% md\n"
    }
   },
   "source": [
    "Build the best 2 trees:\n",
    "1. tree_max_depth - the best tree according to max_depth pruning\n",
    "1. tree_chi - the best tree according to chi square pruning"
   ]
  },
  {
   "cell_type": "code",
   "execution_count": 31,
   "metadata": {
    "pycharm": {
     "name": "#%%\n"
    }
   },
   "outputs": [],
   "source": [
    "#### Your code here ####\n",
    "best_chi_tree = build_tree(data=X_train, chi=best_chi, impurity=calc_entropy, gain_ratio=True, chi_table=chi_table)\n",
    "best_post_pruning_tree = build_tree(data=X_train, impurity=calc_entropy, gain_ratio=True)\n",
    "\n",
    "for i in range(nb_of_prunings):\n",
    "    prune_leaves(best_post_pruning_tree)"
   ]
  },
  {
   "cell_type": "markdown",
   "metadata": {
    "pycharm": {
     "name": "#%% md\n"
    }
   },
   "source": [
    "## Number of Nodes\n",
    "\n",
    "Of the two trees above we will choose the one with fewer nodes. Complete the function counts_nodes and print the number of nodes in each tree. (5 points) "
   ]
  },
  {
   "cell_type": "code",
   "execution_count": 32,
   "metadata": {
    "pycharm": {
     "name": "#%%\n"
    }
   },
   "outputs": [],
   "source": [
    "# Take smallest node amont of the trees\n",
    "best_tree = min([best_chi_tree, best_post_pruning_tree], key= lambda tree: count_nodes(tree))"
   ]
  },
  {
   "cell_type": "markdown",
   "metadata": {
    "pycharm": {
     "name": "#%%\n"
    }
   },
   "source": [
    "## Print the tree\n",
    "\n",
    "Complete the function `print_tree` and execute it on your chosen tree. Your tree should be visualized clearly. You can use the following example as a reference:\n",
    "```\n",
    "[ROOT, feature=X0],\n",
    "  [X0=a, feature=X2]\n",
    "    [X2=c, leaf]: [{1.0: 10}]\n",
    "    [X2=d, leaf]: [{0.0: 10}]\n",
    "  [X0=y, feature=X5], \n",
    "    [X5=a, leaf]: [{1.0: 5}]\n",
    "    [X5=s, leaf]: [{0.0: 10}]\n",
    "  [X0=e, leaf]: [{0.0: 25, 1.0: 50}]\n",
    "```\n",
    "In each brackets:\n",
    "* The first argument is the parent feature with the value that led to current node\n",
    "* The second argument is the selected feature of the current node\n",
    "* If the current node is a leaf, you need to print also the labels and their counts\n",
    "\n",
    "(5 points)"
   ]
  },
  {
   "cell_type": "code",
   "execution_count": 33,
   "metadata": {
    "pycharm": {
     "name": "#%%\n"
    }
   },
   "outputs": [],
   "source": [
    "# you can change the function signeture\\n\",\n",
    "def print_tree(node):\n",
    "    \"\"\"\n",
    "        prints the tree according to the example above\n",
    "        \n",
    "        Input:\n",
    "         - node: a node in the decision tree\n",
    "         \n",
    "        This function has no return value\n",
    "    \"\"\"\n",
    "    ###########################################################################\n",
    "    # TODO: Implement the function.                                           #\n",
    "    ###########################################################################\n",
    "    #This method is just an alias\n",
    "    node.recursive_print(tab=\"  \")\n",
    "    ###########################################################################\n",
    "    #                             END OF YOUR CODE                            #\n",
    "    ###########################################################################"
   ]
  },
  {
   "cell_type": "code",
   "execution_count": 34,
   "metadata": {
    "pycharm": {
     "name": "#%%\n"
    }
   },
   "outputs": [
    {
     "name": "stdout",
     "output_type": "stream",
     "text": [
      " [ROOT, feature=4]\n"
     ]
    }
   ],
   "source": [
    "print_tree(best_tree)"
   ]
  }
 ],
 "metadata": {
  "celltoolbar": "Create Assignment",
  "kernelspec": {
   "display_name": "Python 3",
   "language": "python",
   "name": "python3"
  },
  "language_info": {
   "codemirror_mode": {
    "name": "ipython",
    "version": 3
   },
   "file_extension": ".py",
   "mimetype": "text/x-python",
   "name": "python",
   "nbconvert_exporter": "python",
   "pygments_lexer": "ipython3",
   "version": "3.8.6"
  }
 },
 "nbformat": 4,
 "nbformat_minor": 2
}