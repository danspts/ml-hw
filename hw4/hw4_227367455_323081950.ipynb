{
 "cells": [
  {
   "cell_type": "markdown",
   "metadata": {},
   "source": [
    "# Exercise 4: Logistic Regression, Bayes and EM\n",
    "\n",
    "In this assignment you will implement several algorithms as learned in class.\n",
    "\n",
    "## Read the following instructions carefully:\n",
    "\n",
    "1. This jupyter notebook contains all the step by step instructions needed for this exercise.\n",
    "2. Write **efficient vectorized** code whenever possible. Some calculations in this exercise take several minutes when implemented efficiently, and might take much longer otherwise. Unnecessary loops will result in point deduction.\n",
    "3. You are responsible for the correctness of your code and should add as many tests as you see fit. Tests will not be graded nor checked.\n",
    "4. Write your functions in this notebook only. **Do not create Python modules and import them**.\n",
    "5. You are allowed to use functions and methods from the [Python Standard Library](https://docs.python.org/3/library/) and [numpy](https://www.numpy.org/devdocs/reference/) and pandas. \n",
    "6. Your code must run without errors. During the environment setup, you were given a specific version of `numpy` to install (1.15.4). Changes of the configuration we provided are at your own risk. Any code that cannot run will not be graded.\n",
    "7. Write your own code. Cheating will not be tolerated.\n",
    "8. Submission includes this notebook only with the exercise number and your ID as the filename. For example: `hw4_123456789_987654321.ipynb` if you submitted in pairs and `hw4_123456789.ipynb` if you submitted the exercise alone.\n",
    "9. Answers to qualitative questions should be written in **markdown** cells (with $\\LaTeX$ support). Answers that will be written in commented code blocks will not be checked.\n",
    "\n",
    "## In this exercise you will perform the following:\n",
    "1. Implement Logistic Regression algorithm.\n",
    "1. Implement EM algorithm.\n",
    "1. Implement Navie Bayes algorithm that uses EM for calculating the likelihood.\n",
    "1. Visualize your results."
   ]
  },
  {
   "cell_type": "markdown",
   "metadata": {},
   "source": [
    "# I have read and understood the instructions: *** YOUR ID HERE ***"
   ]
  },
  {
   "cell_type": "code",
   "execution_count": 5,
   "metadata": {},
   "outputs": [],
   "source": [
    "import numpy as np\n",
    "import pandas as pd\n",
    "from matplotlib.colors import ListedColormap\n",
    "import matplotlib.pyplot as plt\n",
    "\n",
    "# make matplotlib figures appear inline in the notebook\n",
    "%matplotlib inline\n",
    "plt.rcParams['figure.figsize'] = (10.0, 8.0) # set default size of plots\n",
    "plt.rcParams['image.interpolation'] = 'nearest'\n",
    "plt.rcParams['image.cmap'] = 'gray'\n",
    "\n",
    "# Make the notebook automatically reload external python modules\n",
    "%load_ext autoreload\n",
    "%autoreload 2\n",
    "# Ignore warnings\n",
    "import warnings\n",
    "warnings.filterwarnings('ignore')"
   ]
  },
  {
   "cell_type": "code",
   "execution_count": 6,
   "metadata": {},
   "outputs": [],
   "source": [
    "# Function for ploting the decision boundaries of a model\n",
    "# You will use it later\n",
    "def plot_decision_regions(X, y, classifier, resolution=0.01):\n",
    "\n",
    "    # setup marker generator and color map\n",
    "    markers = ('.', '.')\n",
    "    colors = ('blue', 'red')\n",
    "    cmap = ListedColormap(colors[:len(np.unique(y))])\n",
    "    # plot the decision surface\n",
    "    x1_min, x1_max = X[:, 0].min() - 1, X[:, 0].max() + 1\n",
    "    x2_min, x2_max = X[:, 1].min() - 1, X[:, 1].max() + 1\n",
    "    xx1, xx2 = np.meshgrid(np.arange(x1_min, x1_max, resolution),\n",
    "                           np.arange(x2_min, x2_max, resolution))\n",
    "    Z = classifier.predict(np.array([xx1.ravel(), xx2.ravel()]).T)\n",
    "    Z = Z.reshape(xx1.shape)\n",
    "    plt.contourf(xx1, xx2, Z, alpha=0.3, cmap=cmap)\n",
    "    plt.xlim(xx1.min(), xx1.max())\n",
    "    plt.ylim(xx2.min(), xx2.max())\n",
    "\n",
    "    for idx, cl in enumerate(np.unique(y)):\n",
    "        plt.scatter(x=X[y == cl, 0], \n",
    "                    y=X[y == cl, 1],\n",
    "                    alpha=0.8, \n",
    "                    c=colors[idx],\n",
    "                    marker=markers[idx], \n",
    "                    label=cl, \n",
    "                    edgecolor='black')"
   ]
  },
  {
   "cell_type": "markdown",
   "metadata": {},
   "source": [
    "## Reading the data"
   ]
  },
  {
   "cell_type": "code",
   "execution_count": 7,
   "metadata": {},
   "outputs": [],
   "source": [
    "training_set = pd.read_csv('training_set.csv')\n",
    "test_set = pd.read_csv('test_set.csv')\n",
    "X_training, y_training = training_set[['x1', 'x2']].values, training_set['y'].values\n",
    "X_test, y_test = test_set[['x1', 'x2']].values, test_set['y'].values"
   ]
  },
  {
   "cell_type": "code",
   "execution_count": 18,
   "metadata": {
    "pycharm": {
     "name": "#%%\n"
    }
   },
   "outputs": [
    {
     "data": {
      "text/plain": [
       "array([[-1.38578869,  9.13146361],\n",
       "       [-2.23690338,  5.56117803],\n",
       "       [-2.3625238 ,  5.2159729 ],\n",
       "       ...,\n",
       "       [ 7.42420048,  1.77493117],\n",
       "       [ 6.67073987,  0.33570079],\n",
       "       [ 4.16906648,  1.64874303]])"
      ]
     },
     "execution_count": 18,
     "metadata": {},
     "output_type": "execute_result"
    }
   ],
   "source": [
    "X_training"
   ]
  },
  {
   "cell_type": "markdown",
   "metadata": {
    "pycharm": {
     "name": "#%% md\n"
    }
   },
   "source": [
    "## Visualizing the data\n",
    "(2 points each - 8 points total)\n",
    "\n",
    "Plot the following graphs for the training set:\n",
    "\n",
    "For the first feature only:\n",
    "1. For the first 1000 data points plot a histogram for each class on the same graph (use bins=20, alpha=0.5).\n",
    "1. For all the data points plot a histogram for each class on the same graph (use bins=40, alpha=0.5).\n",
    "\n",
    "For both features:\n",
    "1. For the first 1000 data points plot a scatter plot where each class has different color\n",
    "1. For all the data points plot a scatter plot where each class has different color"
   ]
  },
  {
   "cell_type": "code",
   "execution_count": 72,
   "metadata": {
    "pycharm": {
     "name": "#%%\n"
    }
   },
   "outputs": [
    {
     "data": {
      "text/plain": [
       "[]"
      ]
     },
     "execution_count": 72,
     "metadata": {},
     "output_type": "execute_result"
    },
    {
     "data": {
      "image/png": "[encoded data removed]",
      "text/plain": [
       "<Figure size 720x576 with 4 Axes>"
      ]
     },
     "metadata": {
      "needs_background": "light"
     },
     "output_type": "display_data"
    }
   ],
   "source": [
    "#### Your code here ####\n",
    "fig = plt.figure()\n",
    "gs = fig.add_gridspec(2, 2, hspace=0, wspace=0)\n",
    "(ax1, ax2), (ax3, ax4) = gs.subplots(sharex='col', sharey='row')\n",
    "\n",
    "ax1.hist(X_training[:,1][:1000], bins=20, alpha = 0.5)\n",
    "ax1.plot()\n",
    "\n",
    "ax2.hist(X_training, bins=40, alpha = 0.5)\n",
    "ax2.plot()\n",
    "\n",
    "\n",
    "ax3.plot(X_training[:1000], y_training[:1000], 'o', alpha = 0.5)\n",
    "ax3.plot()\n",
    "\n",
    "for i in range(X_training.shape[1]):\n",
    "    ax4.plot(X_training[:,i], y_training, 'o', alpha = 0.5)\n",
    "ax4.plot()"
   ]
  },
  {
   "cell_type": "markdown",
   "metadata": {
    "pycharm": {
     "name": "#%% md\n"
    }
   },
   "source": [
    "## Logistic Regression\n",
    "\n",
    "(15 Points)\n",
    "\n",
    "Implement the Logistic Regression algorithm that uses gradient descent for finding the optimal theta vector. \n",
    "\n",
    "Where:\n",
    "$$\n",
    "h_\\theta(x) = \\frac{1}{1 + e^{-\\theta^T x}}\n",
    "$$\n",
    "\n",
    "$$\n",
    "J(\\theta)=\\frac{1}{m} \\sum_{d=1}^{m} - y^{(d)}ln(h_\\theta(x^{(d)}) - (1 - y^{(d)})ln(1 - h_\\theta(x^{(d)})\n",
    "$$\n",
    "\n",
    "Your class should contain the following functions:\n",
    "1. fit - the learning function\n",
    "1. predict - the function for predicting an instance after the fit function was executed\n",
    "\n",
    "\\* You can add more functions if you think this is necessary\n",
    "\n",
    "Your model should also store a list of the costs that you've calculated in each iteration"
   ]
  },
  {
   "cell_type": "code",
   "execution_count": 175,
   "metadata": {
    "pycharm": {
     "name": "#%%\n"
    }
   },
   "outputs": [],
   "source": [
    "def compute_accuracy(X_test, y_test, logistic_regression_classifier):\n",
    "    X_test = bias_trick(X_test)\n",
    "    predictions = [logistic_regression_classifier.predict(x) for x in X_test]\n",
    "    return (predictions == y_test).mean()"
   ]
  },
  {
   "cell_type": "code",
   "execution_count": 176,
   "metadata": {
    "pycharm": {
     "name": "#%%\n"
    }
   },
   "outputs": [],
   "source": [
    "def bias_trick(data):\n",
    "    \"\"\"\n",
    "    Bias trick a data st by adding a column of ones as the zeroeth column\n",
    "\n",
    "    Input:\n",
    "    - data: Data model as an np array.\n",
    "\n",
    "    Returns:\n",
    "    - data whose 0th column is all 1's. The shape of the return type is (data.shape[0], data.shape[1] + 1)\n",
    "    \"\"\"\n",
    "    return np.c_[np.ones(data.shape[0], dtype=data.dtype), data]\n",
    "\n",
    "\n",
    "class LogisticRegressionGD(object):\n",
    "    \"\"\"\n",
    "    Logistic Regression Classifier using gradient descent.\n",
    "\n",
    "    Parameters\n",
    "    ------------\n",
    "    eta : float\n",
    "      Learning rate (between 0.0 and 1.0)\n",
    "    n_iter : int\n",
    "      Passes over the training dataset.\n",
    "    eps : float\n",
    "      minimal change in the cost to declare convergence\n",
    "    random_state : int\n",
    "      Random number generator seed for random weight\n",
    "      initialization.\n",
    "    \"\"\"\n",
    "    \n",
    "    def __init__(self, eta=0.00005, n_iter=10000, eps=0.000001, random_state=1):\n",
    "        self.eta = eta\n",
    "        self.n_iter = n_iter\n",
    "        self.eps = eps\n",
    "        self._J_history = []\n",
    "        self.random_state = random_state\n",
    "        self._theta = None\n",
    "        \n",
    "    def gradient(self, X, y, h):\n",
    "        gradient = (X.T @ (h - y)).mean()\n",
    "        return gradient\n",
    "    \n",
    "    def compute_cost(self, h, y):\n",
    "        cost = (-y * np.log(h) - (1 - y) * np.log(1 - h)).mean()\n",
    "        return cost\n",
    "    \n",
    "    def sigmoid_func(self, X):\n",
    "        compute_func = 1 / (1 + np.power(np.e, - X @ self._theta))\n",
    "        return compute_func\n",
    "\n",
    "    def fit(self, X, y):\n",
    "        \"\"\" \n",
    "        Fit training data (the learning phase).\n",
    "        Updating the theta vector in each iteration using gradient descent.\n",
    "        Store the theta vector in an attribute of the LogisticRegressionGD object.\n",
    "        Stop the function when the difference between the previous cost and the current is less than eps\n",
    "        or when you reach n_iter.\n",
    "\n",
    "        Parameters\n",
    "        ----------\n",
    "        X : {array-like}, shape = [n_examples, n_features]\n",
    "          Training vectors, where n_examples is the number of examples and\n",
    "          n_features is the number of features.\n",
    "        y : array-like, shape = [n_examples]\n",
    "          Target values.\n",
    "        \"\"\"  \n",
    "        X = bias_trick(X)\n",
    "        np.random.seed(self.random_state)\n",
    "        \n",
    "        if not self._theta:\n",
    "            self._theta = np.random.random(size=X.shape[1])\n",
    "            \n",
    "        h = self.sigmoid_func(X)\n",
    "        self._J_history.append(self.compute_cost(h, y))\n",
    "        \n",
    "        for n in range(self.n_iter):\n",
    "            self._theta -= self.eta * self.gradient(X, y, h)\n",
    "            h = self.sigmoid_func(X)\n",
    "            self._J_history.append(self.compute_cost(h, y))\n",
    "            if self._J_history[-2] - self._J_history[-1] < self.eps:\n",
    "                break\n",
    "                \n",
    "    @property\n",
    "    def J_history(self):\n",
    "        return self._J_history\n",
    "                \n",
    "    @property\n",
    "    def theta(self):\n",
    "        return self._theta\n",
    "    \n",
    "    def predict(self, x, threshold = 0.5):\n",
    "        \"\"\"Return the predicted class label\"\"\"\n",
    "        return 1 if self.sigmoid_func(x) >= threshold else 0\n"
   ]
  },
  {
   "cell_type": "markdown",
   "metadata": {
    "pycharm": {
     "name": "#%% md\n"
    }
   },
   "source": [
    "## Cross Validation\n",
    "\n",
    "(5 points)\n",
    "\n",
    "Use 5-fold cross validation in order to find the best eps and eta params from the given lists.\n",
    "\n",
    "Shuffle the training set before you split the data to the folds."
   ]
  },
  {
   "cell_type": "code",
   "execution_count": 186,
   "metadata": {
    "scrolled": true,
    "pycharm": {
     "name": "#%%\n"
    }
   },
   "outputs": [],
   "source": [
    "#### Your code here ####\n",
    "etas = [0.05, 0.005, 0.0005, 0.00005, 0.000005]\n",
    "epss = [0.01, 0.001, 0.0001, 0.00001, 0.000001]\n"
   ]
  },
  {
   "cell_type": "code",
   "execution_count": 190,
   "metadata": {},
   "outputs": [],
   "source": [
    "def cross_val(X_train, y_train, logistic_regression_classifier, k = 5):\n",
    "    fold_indices = np.arange(X_train.shape[0])\n",
    "    np.random.shuffle(fold_indices)\n",
    "    eval_indices = np.array_split(fold_indices, k)\n",
    "    for indices in eval_indices:\n",
    "        logistic_regression_classifier.fit(X_train[indices], y_train[indices])\n",
    "        "
   ]
  },
  {
   "cell_type": "code",
   "execution_count": 193,
   "metadata": {
    "pycharm": {
     "name": "#%%\n"
    }
   },
   "outputs": [],
   "source": [
    "def grid_search(X_train, y_train, X_test, y_test, epss, etas):\n",
    "    param_dict = {}\n",
    "    ###########################################################################\n",
    "    # TODO: Implement the function.                                           #\n",
    "    ###########################################################################\n",
    "    \n",
    "    # Perform the grid search\n",
    "    for eps in epss:\n",
    "        for eta in etas:\n",
    "            lr = LogisticRegressionGD(eps=eps, eta=eta)\n",
    "            cross_val(X_train, y_train, lr)\n",
    "            param_dict[(eps, eta)] = dict(cost = compute_accuracy(X_test, y_test, lr), history = lr.J_history)\n",
    "    ###########################################################################\n",
    "    #                             END OF YOUR CODE                            #\n",
    "    ###########################################################################\n",
    "    return param_dict"
   ]
  },
  {
   "cell_type": "code",
   "execution_count": 194,
   "metadata": {},
   "outputs": [],
   "source": [
    "param_dict = grid_search(X_training, y_training, X_test, y_test, epss, etas)"
   ]
  },
  {
   "cell_type": "code",
   "execution_count": null,
   "outputs": [],
   "source": [
    "best_parameters = sorted(param_dict.items(), key=lambda entry: entry[1][\"cost\"])\n",
    "best_parameters[4]"
   ],
   "metadata": {
    "collapsed": false,
    "pycharm": {
     "name": "#%%\n"
    }
   }
  },
  {
   "cell_type": "markdown",
   "source": [
    "## Normal distribution pdf\n",
    "\n",
    "(2 Points)\n",
    "\n",
    "Implement the normal distribution pdf \n",
    "$$\n",
    "f(x;\\mu,\\sigma) = \\frac{1}{\\sigma\\sqrt{2\\pi}}e^{-\\frac{1}{2}\\big{(}\\frac{x-\\mu}{\\sigma}\\big{)}^2}\n",
    "$$\n",
    "Write an efficient vectorized code"
   ],
   "metadata": {
    "collapsed": false
   }
  },
  {
   "cell_type": "code",
   "execution_count": null,
   "outputs": [],
   "source": [
    "#### Your code here ####\n",
    "# calc normal pdf    \n",
    "def norm_pdf(data, mu, sigma):\n",
    "    if mu == 0 and sigma == 1:\n",
    "        # Optimize for a normalized distribution\n",
    "        pdf = np.power(np.e, -np.square(x) / 2) / np.sqrt(2 * np.pi)\n",
    "    else:\n",
    "        pdf = np.power(np.e, -np.square((x - mu) / sigma) / 2) / (np.sqrt(2*np.pi)\n",
    "    return pdf"
   ],
   "metadata": {
    "collapsed": false,
    "pycharm": {
     "name": "#%%\n"
    }
   }
  },
  {
   "cell_type": "code",
   "execution_count": 200,
   "metadata": {},
   "outputs": [
    {
     "data": {
      "text/plain": [
       "((0.001, 0.05),\n",
       " {'cost': 0.596,\n",
       "  'history': [1.8350060801285712,\n",
       "   nan,\n",
       "   13.898790225874672,\n",
       "   nan,\n",
       "   nan,\n",
       "   20.56086742172703,\n",
       "   nan,\n",
       "   nan,\n",
       "   27.16712220250893,\n",
       "   nan,\n",
       "   nan,\n",
       "   33.68212151682817,\n",
       "   inf,\n",
       "   1.9128280062690979,\n",
       "   47.21640566768639,\n",
       "   1.988845349016143,\n",
       "   nan,\n",
       "   22.77397126373703,\n",
       "   nan,\n",
       "   nan,\n",
       "   nan,\n",
       "   14.659268795735144,\n",
       "   nan,\n",
       "   nan,\n",
       "   nan,\n",
       "   6.63181568472832,\n",
       "   nan,\n",
       "   nan,\n",
       "   nan,\n",
       "   4.863136104642563,\n",
       "   nan,\n",
       "   nan,\n",
       "   15.575864778193191,\n",
       "   nan,\n",
       "   nan,\n",
       "   nan,\n",
       "   7.5433408561412465,\n",
       "   nan,\n",
       "   nan,\n",
       "   nan,\n",
       "   2.7250043694399255,\n",
       "   nan,\n",
       "   nan,\n",
       "   2.240588398600354,\n",
       "   nan,\n",
       "   nan,\n",
       "   25.781195719511814,\n",
       "   nan,\n",
       "   nan,\n",
       "   nan,\n",
       "   17.49785436282059,\n",
       "   nan,\n",
       "   nan,\n",
       "   nan,\n",
       "   9.453719477168669,\n",
       "   nan,\n",
       "   nan,\n",
       "   nan,\n",
       "   1.5010279884465745,\n",
       "   nan,\n",
       "   nan,\n",
       "   nan,\n",
       "   7.6496569086055795,\n",
       "   nan,\n",
       "   nan,\n",
       "   18.882218453500215,\n",
       "   nan,\n",
       "   nan,\n",
       "   nan,\n",
       "   10.827487663149604,\n",
       "   nan,\n",
       "   nan,\n",
       "   nan,\n",
       "   2.8248692142502962,\n",
       "   nan,\n",
       "   nan,\n",
       "   26.103534709636147,\n",
       "   nan,\n",
       "   nan,\n",
       "   nan,\n",
       "   17.780390531790296,\n",
       "   nan,\n",
       "   nan,\n",
       "   nan,\n",
       "   9.734304230263296,\n",
       "   nan,\n",
       "   nan,\n",
       "   nan,\n",
       "   1.7557242459856033,\n",
       "   nan,\n",
       "   nan,\n",
       "   26.551552483206333,\n",
       "   inf,\n",
       "   1.8701282559844252,\n",
       "   nan,\n",
       "   9.466285445567314,\n",
       "   nan,\n",
       "   nan,\n",
       "   14.929372433981152,\n",
       "   nan,\n",
       "   nan,\n",
       "   20.365454567011117,\n",
       "   nan,\n",
       "   nan,\n",
       "   nan,\n",
       "   nan,\n",
       "   nan,\n",
       "   nan,\n",
       "   nan,\n",
       "   nan,\n",
       "   nan,\n",
       "   4.924103404002056,\n",
       "   nan,\n",
       "   nan,\n",
       "   4.825444968821888,\n",
       "   nan,\n",
       "   nan,\n",
       "   5.277399305096399,\n",
       "   nan,\n",
       "   nan,\n",
       "   3.525704628513799,\n",
       "   nan,\n",
       "   nan,\n",
       "   nan,\n",
       "   nan,\n",
       "   nan,\n",
       "   5.759929744385196,\n",
       "   nan,\n",
       "   nan,\n",
       "   2.412008448756051,\n",
       "   nan,\n",
       "   18.99544322440037,\n",
       "   nan,\n",
       "   nan,\n",
       "   nan,\n",
       "   nan,\n",
       "   nan,\n",
       "   nan,\n",
       "   nan,\n",
       "   nan,\n",
       "   nan,\n",
       "   7.485984706069036,\n",
       "   nan,\n",
       "   nan,\n",
       "   1.3286679277872895,\n",
       "   nan,\n",
       "   nan,\n",
       "   nan,\n",
       "   nan,\n",
       "   nan,\n",
       "   nan,\n",
       "   nan,\n",
       "   6.365243654207323,\n",
       "   nan,\n",
       "   nan,\n",
       "   1.7127443845417885,\n",
       "   nan,\n",
       "   5.7396117652858285,\n",
       "   nan,\n",
       "   nan,\n",
       "   11.230454181983768,\n",
       "   nan,\n",
       "   nan,\n",
       "   16.685581243719795,\n",
       "   nan,\n",
       "   nan,\n",
       "   22.11120461407161,\n",
       "   nan,\n",
       "   nan,\n",
       "   nan,\n",
       "   nan,\n",
       "   nan,\n",
       "   nan,\n",
       "   inf,\n",
       "   nan,\n",
       "   nan,\n",
       "   2.337229841226775,\n",
       "   nan,\n",
       "   17.859356667028077,\n",
       "   nan,\n",
       "   nan,\n",
       "   nan,\n",
       "   nan,\n",
       "   nan,\n",
       "   nan,\n",
       "   nan,\n",
       "   nan,\n",
       "   nan,\n",
       "   9.734680895978697,\n",
       "   nan,\n",
       "   nan,\n",
       "   1.46090069053165,\n",
       "   nan,\n",
       "   8.31808408585514,\n",
       "   nan,\n",
       "   nan,\n",
       "   1.3058864639069256,\n",
       "   22.473786773045536,\n",
       "   1.952209188404928,\n",
       "   55.024490604552554]})"
      ]
     },
     "execution_count": 200,
     "metadata": {},
     "output_type": "execute_result"
    }
   ],
   "source": [
    "## Expectation Maximization\n",
    "\n",
    "(15 Points)\n",
    "\n",
    "Implement the Expectation Maximization algorithm for gaussian mixture model.\n",
    "\n",
    "The class should hold the distribution params.\n",
    "\n",
    "Use -log likelihood as the cost function:\n",
    "$$\n",
    "cost(x) = \\sum_{d=1}^{m}-log(w * pdf(x; \\mu, \\sigma))\n",
    "$$\n",
    "\n",
    "\\* The above is the cost of one gaussian. Think how to use the cost function for gaussian mixture.\n",
    "\n",
    "Your class should contain the following functions:\n",
    "1. init_params - initialize distribution params\n",
    "1. expectation - calculating responsibilities\n",
    "1. maximization - updating distribution params\n",
    "1. fit - the learning function\n",
    "1. get_dist_params - return the distribution params\n",
    "\n",
    "\\* You can add more functions if you think this is necessary\n",
    "\n",
    "Don't change the eps params (eps=0.01)\n",
    "\n",
    "When you need to calculate the pdf of a normal distribution use the function `norm_pdf` that you implemented above."
   ]
  },
  {
   "cell_type": "markdown",
   "metadata": {},
   "source": [
    "## Normal distribution pdf\n",
    "\n",
    "(2 Points)\n",
    "\n",
    "Implement the normal distribution pdf \n",
    "$$\n",
    "f(x;\\mu,\\sigma) = \\frac{1}{\\sigma\\sqrt{2\\pi}}e^{-\\frac{1}{2}\\big{(}\\frac{x-\\mu}{\\sigma}\\big{)}^2}\n",
    "$$\n",
    "Write an efficient vectorized code"
   ]
  },
  {
   "cell_type": "code",
   "execution_count": null,
   "metadata": {},
   "outputs": [],
   "source": [
    "#### Your code here ####\n",
    "# calc normal pdf    \n",
    "def norm_pdf(data, mu, sigma):\n",
    "    if mu == 0 and sigma == 1:\n",
    "        # Optimize for a normalized distribution\n",
    "        pdf = np.power(np.e, -np.square(x) / 2) / np.sqrt(2 * np.pi)\n",
    "    else:\n",
    "        pdf = np.power(np.e, -np.square((x - mu) / sigma) / 2) / (np.sqrt(2*np.pi)\n",
    "    return pdf"
   ]
  },
  {
   "cell_type": "markdown",
   "metadata": {},
   "source": [
    "## Expectation Maximization\n",
    "\n",
    "(15 Points)\n",
    "\n",
    "Implement the Expectation Maximization algorithm for gaussian mixture model.\n",
    "\n",
    "The class should hold the distribution params.\n",
    "\n",
    "Use -log likelihood as the cost function:\n",
    "$$\n",
    "cost(x) = \\sum_{d=1}^{m}-log(w * pdf(x; \\mu, \\sigma))\n",
    "$$\n",
    "\n",
    "\\* The above is the cost of one gaussian. Think how to use the cost function for gaussian mixture.\n",
    "\n",
    "Your class should contain the following functions:\n",
    "1. init_params - initialize distribution params\n",
    "1. expectation - calculating responsibilities\n",
    "1. maximization - updating distribution params\n",
    "1. fit - the learning function\n",
    "1. get_dist_params - return the distribution params\n",
    "\n",
    "\\* You can add more functions if you think this is necessary\n",
    "\n",
    "Don't change the eps params (eps=0.01)\n",
    "\n",
    "When you need to calculate the pdf of a normal distribution use the function `norm_pdf` that you implemented above."
   ]
  },
  {
   "cell_type": "code",
   "execution_count": null,
   "metadata": {},
   "outputs": [],
   "source": [
    "class EM(object):\n",
    "    \"\"\"\n",
    "    Naive Bayes Classifier using Gauusian Mixture Model (EM) for calculating the likelihood.\n",
    "\n",
    "    Parameters\n",
    "    ------------\n",
    "    k : int\n",
    "      Number of gaussians in each dimension\n",
    "    n_iter : int\n",
    "      Passes over the training dataset in the EM proccess\n",
    "    eps: float\n",
    "      minimal change in the cost to declare convergence\n",
    "    random_state : int\n",
    "      Random number generator seed for random params initialization.\n",
    "    \"\"\"\n",
    "    \n",
    "    def __init__(self, k=1, n_iter=1000, eps=0.01):\n",
    "        self.k = k\n",
    "        self.n_iter = n_iter\n",
    "        self.eps = eps\n",
    "\n",
    "    # initial guesses for parameters\n",
    "    def init_params(self, data):\n",
    "        \"\"\"\n",
    "        Initialize distribution params\n",
    "        \"\"\"\n",
    "        pass\n",
    "    def expectation(self, data):\n",
    "        \"\"\"\n",
    "        E step - calculating responsibilities\n",
    "        \"\"\"\n",
    "        pass\n",
    "\n",
    "    def maximization(self, data):\n",
    "        \"\"\"\n",
    "        M step - updating distribution params\n",
    "        \"\"\"\n",
    "        pass\n",
    "\n",
    "    def fit(self, data):\n",
    "        \"\"\" \n",
    "        Fit training data (the learning phase).\n",
    "        Use init_params and then expectation and maximization function in order to find params \n",
    "        for the distribution. \n",
    "        Store the params in attributes of the EM object.\n",
    "        Stop the function when the difference between the previous cost and the current is less than eps\n",
    "        or when you reach n_iter.\n",
    "        \"\"\"\n",
    "        pass\n",
    "\n",
    "    def get_dist_params(self):\n",
    "        pass\n",
    "    "
   ]
  },
  {
   "cell_type": "markdown",
   "metadata": {},
   "source": [
    "## Naive Bayes\n",
    "\n",
    "(15 Points)\n",
    "\n",
    "Implement the Naive Bayes algorithm.\n",
    "\n",
    "For calculating the likelihood use the EM algorithm that you implemented above to find the distribution params. With these params you can calculate the likelihood probability.\n",
    "\n",
    "Calculate the prior probability directly from the training set.\n",
    "\n",
    "Your class should contain the following functions:\n",
    "1. fit - the learning function\n",
    "1. predict - the function for predicting an instance (or instances) after the fit function was executed\n",
    "\n",
    "\\* You can add more functions if you think this is necessary\n"
   ]
  },
  {
   "cell_type": "code",
   "execution_count": null,
   "metadata": {},
   "outputs": [],
   "source": [
    "class NaiveBayesGaussian(object):\n",
    "    \"\"\"\n",
    "    Naive Bayes Classifier using Gauusian Mixture Model (EM) for calculating the likelihood.\n",
    "\n",
    "    Parameters\n",
    "    ------------\n",
    "    k : int\n",
    "      Number of gaussians in each dimension\n",
    "    random_state : int\n",
    "      Random number generator seed for random params initialization.\n",
    "    \"\"\"\n",
    "    \n",
    "    def __init__(self, k=1):\n",
    "        self.k = k\n",
    "\n",
    "    def fit(self, X, y):\n",
    "        \"\"\" \n",
    "        Fit training data.\n",
    "\n",
    "        Parameters\n",
    "        ----------\n",
    "        X : array-like, shape = [n_examples, n_features]\n",
    "          Training vectors, where n_examples is the number of examples and\n",
    "          n_features is the number of features.\n",
    "        y : array-like, shape = [n_examples]\n",
    "          Target values.\n",
    "        \"\"\"\n",
    "        pass\n",
    "    \n",
    "    def predict(self, X):\n",
    "        \"\"\"Return the predicted class label\"\"\"\n",
    "        pass\n"
   ]
  },
  {
   "cell_type": "markdown",
   "metadata": {},
   "source": [
    "## Model evaluation\n",
    "\n",
    "(20 points)\n",
    "\n",
    "In this section you will build 2 models and fit them to 2 datasets\n",
    "\n",
    "First 1000 training points and first 500 test points:\n",
    "1. Use the first 1000 points from the training set (take the first original 1000 points - before the shuffle) and the first 500 points from the test set.\n",
    "1. Fit Logistic Regression model with the best params you found earlier.\n",
    "1. Fit Naive Bayes model. Remember that you need to select the number of gaussians in the EM.\n",
    "1. Print the training and test accuracies for each model.\n",
    "1. Use the `plot_decision_regions` function to plot the decision boundaries for each model (for this you need to use the training set as the input)\n",
    "1. Plot the cost Vs the iteration number for the Logistic Regression model\n",
    "\n",
    "Use all the training set points:\n",
    "1. Repeat sections 2-6 for all the training set points\n",
    "1. Provide one or two sentences on each graph explaining what you observe in the graph.\n",
    "\n",
    "#### Don't forget to label your graphs ####"
   ]
  },
  {
   "cell_type": "code",
   "execution_count": null,
   "metadata": {},
   "outputs": [],
   "source": [
    "#### Your code here ####"
   ]
  },
  {
   "cell_type": "markdown",
   "metadata": {},
   "source": [
    "## Open question\n",
    "\n",
    "(20 points) \n",
    "\n",
    "1. In this homework we explored two types of models: Naive Bayes using EM, and Logistic regression.  \n",
    "    - Generate one dataset that you think Naive Bayes will work better than Logisitc Regression.\n",
    "    - Generate another dataset that you think Logistic Regression will work better than Naive Bayes using EM.\n",
    "    - Explain the reasoning behind each dataset.  \n",
    "\n",
    "(The number of features and instances is up to you, but use only 2 classes)\n",
    "\n",
    "2. Visualize the datasets like in the beginning of this notebook."
   ]
  },
  {
   "cell_type": "markdown",
   "metadata": {},
   "source": [
    "#### Your code and explanations here ####\n"
   ]
  },
  {
   "cell_type": "code",
   "execution_count": null,
   "metadata": {},
   "outputs": [],
   "source": []
  }
 ],
 "metadata": {
  "kernelspec": {
   "display_name": "Python 3",
   "language": "python",
   "name": "python3"
  },
  "language_info": {
   "codemirror_mode": {
    "name": "ipython",
    "version": 3
   },
   "file_extension": ".py",
   "mimetype": "text/x-python",
   "name": "python",
   "nbconvert_exporter": "python",
   "pygments_lexer": "ipython3",
   "version": "3.8.6"
  }
 },
 "nbformat": 4,
 "nbformat_minor": 4
}